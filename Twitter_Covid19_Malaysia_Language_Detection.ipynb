{
  "nbformat": 4,
  "nbformat_minor": 0,
  "metadata": {
    "colab": {
      "name": "Twitter Covid19 Malaysia - Language Detection.ipynb",
      "provenance": [],
      "collapsed_sections": [],
      "mount_file_id": "1-qewEwEO4dWY87rr6bDq3SRLXgTa6p3Z",
      "authorship_tag": "ABX9TyMXbvXvWWkXsdyIwfJitW3E",
      "include_colab_link": true
    },
    "kernelspec": {
      "name": "python3",
      "display_name": "Python 3"
    }
  },
  "cells": [
    {
      "cell_type": "markdown",
      "metadata": {
        "id": "view-in-github",
        "colab_type": "text"
      },
      "source": [
        "<a href=\"https://colab.research.google.com/github/ashamril/Text-Analytics/blob/master/Twitter_Covid19_Malaysia_Language_Detection.ipynb\" target=\"_parent\"><img src=\"https://colab.research.google.com/assets/colab-badge.svg\" alt=\"Open In Colab\"/></a>"
      ]
    },
    {
      "cell_type": "code",
      "metadata": {
        "id": "itAvpxr8xV5g",
        "colab_type": "code",
        "colab": {
          "base_uri": "https://localhost:8080/",
          "height": 34
        },
        "outputId": "ba9b8f5e-82e9-44df-8625-48791ce7c345"
      },
      "source": [
        "import pandas as pd\n",
        "from google.colab import drive\n",
        "drive.mount('/content/drive', force_remount=True)"
      ],
      "execution_count": null,
      "outputs": [
        {
          "output_type": "stream",
          "text": [
            "Mounted at /content/drive\n"
          ],
          "name": "stdout"
        }
      ]
    },
    {
      "cell_type": "code",
      "metadata": {
        "id": "6py5AIof9pvT",
        "colab_type": "code",
        "colab": {}
      },
      "source": [
        "file_path_feb = \"/content/drive/My Drive/Twitter Covid Coronavirus/tweet_malaysia-covid-feb-2020-cleaned.csv\"\n",
        "file_path_mac = \"/content/drive/My Drive/Twitter Covid Coronavirus/tweet_malaysia-covid-mac-2020-cleaned.csv\"\n",
        "file_path_apr = \"/content/drive/My Drive/Twitter Covid Coronavirus/tweet_malaysia-covid-apr-2020-cleaned.csv\"\n",
        "file_path_may = \"/content/drive/My Drive/Twitter Covid Coronavirus/tweet_malaysia-covid-may-2020-cleaned.csv\"\n",
        "file_path_jun = \"/content/drive/My Drive/Twitter Covid Coronavirus/tweet_malaysia-covid-jun-2020-cleaned.csv\""
      ],
      "execution_count": null,
      "outputs": []
    },
    {
      "cell_type": "code",
      "metadata": {
        "id": "h_ywOc6Rx1Wo",
        "colab_type": "code",
        "colab": {}
      },
      "source": [
        "corpus_feb = pd.read_csv(file_path_feb, quotechar='\"')\n",
        "corpus_list_feb = corpus_feb[\"text\"].tolist()\n",
        "corpus_mac = pd.read_csv(file_path_mac, quotechar='\"')\n",
        "corpus_list_mac = corpus_mac[\"text\"].tolist() \n",
        "corpus_apr = pd.read_csv(file_path_apr, quotechar='\"')\n",
        "corpus_list_apr = corpus_apr[\"text\"].tolist() \n",
        "corpus_may = pd.read_csv(file_path_may, quotechar='\"')\n",
        "corpus_list_may = corpus_may[\"text\"].tolist() \n",
        "corpus_jun = pd.read_csv(file_path_jun, quotechar='\"')\n",
        "corpus_list_jun = corpus_jun[\"text\"].tolist() "
      ],
      "execution_count": null,
      "outputs": []
    },
    {
      "cell_type": "code",
      "metadata": {
        "id": "0s0KbqoJksh3",
        "colab_type": "code",
        "colab": {}
      },
      "source": [
        "# # Lists too long, have to split into 2 lists\n",
        "# def split_list(a_list):\n",
        "#     half = len(a_list)//2\n",
        "#     return a_list[:half], a_list[half:]"
      ],
      "execution_count": null,
      "outputs": []
    },
    {
      "cell_type": "code",
      "metadata": {
        "id": "WYq5p9yNszvg",
        "colab_type": "code",
        "colab": {}
      },
      "source": [
        "# corpus_list_feb_part1, corpus_list_feb_part2 = split_list(corpus_list_feb)\n",
        "# corpus_list_mac_part1, corpus_list_mac_part2 = split_list(corpus_list_mac)\n",
        "# corpus_list_apr_part1, corpus_list_apr_part2 = split_list(corpus_list_apr)\n",
        "# corpus_list_may_part1, corpus_list_may_part2 = split_list(corpus_list_may)\n",
        "# corpus_list_jun_part1, corpus_list_jun_part2 = split_list(corpus_list_jun)"
      ],
      "execution_count": null,
      "outputs": []
    },
    {
      "cell_type": "code",
      "metadata": {
        "id": "oZYJjRi0IqPk",
        "colab_type": "code",
        "colab": {}
      },
      "source": [
        "all_corpus = corpus_list_feb + corpus_list_mac + corpus_list_apr + corpus_list_may + corpus_list_jun"
      ],
      "execution_count": null,
      "outputs": []
    },
    {
      "cell_type": "code",
      "metadata": {
        "id": "f-uokPBDxv0s",
        "colab_type": "code",
        "colab": {
          "base_uri": "https://localhost:8080/",
          "height": 34
        },
        "outputId": "ef48a29b-cb47-4e44-e4b4-97f8d2289246"
      },
      "source": [
        "L = all_corpus\n",
        "print(\"Total Tweets: \", len(L))"
      ],
      "execution_count": null,
      "outputs": [
        {
          "output_type": "stream",
          "text": [
            "Total Tweets:  4590\n"
          ],
          "name": "stdout"
        }
      ]
    },
    {
      "cell_type": "code",
      "metadata": {
        "id": "I9zf1o-XtkPJ",
        "colab_type": "code",
        "colab": {
          "base_uri": "https://localhost:8080/",
          "height": 278
        },
        "outputId": "8547d11b-efa2-4272-8023-cac40eeae98b"
      },
      "source": [
        "%pip install googletrans"
      ],
      "execution_count": null,
      "outputs": [
        {
          "output_type": "stream",
          "text": [
            "Requirement already satisfied: googletrans in /usr/local/lib/python3.6/dist-packages (3.0.0)\n",
            "Requirement already satisfied: httpx==0.13.3 in /usr/local/lib/python3.6/dist-packages (from googletrans) (0.13.3)\n",
            "Requirement already satisfied: chardet==3.* in /usr/local/lib/python3.6/dist-packages (from httpx==0.13.3->googletrans) (3.0.4)\n",
            "Requirement already satisfied: idna==2.* in /usr/local/lib/python3.6/dist-packages (from httpx==0.13.3->googletrans) (2.10)\n",
            "Requirement already satisfied: rfc3986<2,>=1.3 in /usr/local/lib/python3.6/dist-packages (from httpx==0.13.3->googletrans) (1.4.0)\n",
            "Requirement already satisfied: httpcore==0.9.* in /usr/local/lib/python3.6/dist-packages (from httpx==0.13.3->googletrans) (0.9.1)\n",
            "Requirement already satisfied: certifi in /usr/local/lib/python3.6/dist-packages (from httpx==0.13.3->googletrans) (2020.6.20)\n",
            "Requirement already satisfied: sniffio in /usr/local/lib/python3.6/dist-packages (from httpx==0.13.3->googletrans) (1.1.0)\n",
            "Requirement already satisfied: hstspreload in /usr/local/lib/python3.6/dist-packages (from httpx==0.13.3->googletrans) (2020.7.22)\n",
            "Requirement already satisfied: h2==3.* in /usr/local/lib/python3.6/dist-packages (from httpcore==0.9.*->httpx==0.13.3->googletrans) (3.2.0)\n",
            "Requirement already satisfied: h11<0.10,>=0.8 in /usr/local/lib/python3.6/dist-packages (from httpcore==0.9.*->httpx==0.13.3->googletrans) (0.9.0)\n",
            "Requirement already satisfied: contextvars>=2.1; python_version < \"3.7\" in /usr/local/lib/python3.6/dist-packages (from sniffio->httpx==0.13.3->googletrans) (2.4)\n",
            "Requirement already satisfied: hyperframe<6,>=5.2.0 in /usr/local/lib/python3.6/dist-packages (from h2==3.*->httpcore==0.9.*->httpx==0.13.3->googletrans) (5.2.0)\n",
            "Requirement already satisfied: hpack<4,>=3.0 in /usr/local/lib/python3.6/dist-packages (from h2==3.*->httpcore==0.9.*->httpx==0.13.3->googletrans) (3.0.0)\n",
            "Requirement already satisfied: immutables>=0.9 in /usr/local/lib/python3.6/dist-packages (from contextvars>=2.1; python_version < \"3.7\"->sniffio->httpx==0.13.3->googletrans) (0.14)\n"
          ],
          "name": "stdout"
        }
      ]
    },
    {
      "cell_type": "code",
      "metadata": {
        "id": "h8AtuE6Bz02Q",
        "colab_type": "code",
        "colab": {
          "base_uri": "https://localhost:8080/",
          "height": 260
        },
        "outputId": "a982ad86-2503-4f25-b12e-e1eda46ac9cf"
      },
      "source": [
        "# Method 1\n",
        "from googletrans import Translator\n",
        "\n",
        "data = []\n",
        "for i in L: \n",
        "  # Language Detection \n",
        "  t = Translator().detect(i)\n",
        "  data.append([t.lang, t.confidence, i])\n",
        "  #print(t.lang, t.confidence, i) \n",
        "\n",
        "df = pd.DataFrame(data)\n",
        "print(df)"
      ],
      "execution_count": null,
      "outputs": [
        {
          "output_type": "stream",
          "text": [
            "         0         1                                                  2\n",
            "0       en  1.000000  Tourism body sees silver lining after covid19 ...\n",
            "1       en  1.000000  will continue to be investor-friendly despite ...\n",
            "2       id  0.831667   Airlines banyak gila buat sale. Tapi apakan daya\n",
            "3       en  1.000000         Whatever state is happening at this moment\n",
            "4       en  1.000000  Several factors affect economy such as politic...\n",
            "...    ...       ...                                                ...\n",
            "4585    ms  0.833178  Mendeeeee sanggup la aku tunggu covid ni elok ...\n",
            "4586  msid  0.501354    akhirnya dapat juga bertemu dengan si covid ni \n",
            "4587    en  1.000000  1GB free internet everyday for everyone until ...\n",
            "4588    en  1.000000  Enriched Air Specialty Course (e-learning, dry...\n",
            "4589    ms  0.972142  Tahun ni sedih sikit tak dapat travel overseas...\n",
            "\n",
            "[4590 rows x 3 columns]\n"
          ],
          "name": "stdout"
        }
      ]
    },
    {
      "cell_type": "code",
      "metadata": {
        "id": "SeUgTbzjxi7b",
        "colab_type": "code",
        "colab": {
          "base_uri": "https://localhost:8080/",
          "height": 363
        },
        "outputId": "7d6a22b6-7162-4f46-85ee-dc324a09dd25"
      },
      "source": [
        "  detection_df = df.copy()\n",
        "  detection_df.columns = ['Lang','Confidence','Text']\n",
        "  s = detection_df.Lang\n",
        "  counts = s.value_counts()\n",
        "  percent100 = s.value_counts(normalize=True).mul(100).round(2).astype(str) + '%'\n",
        "  detection_df2 = pd.DataFrame({'Counts': counts, 'Percentage': percent100})\n",
        "  detection_df2.head(10)"
      ],
      "execution_count": null,
      "outputs": [
        {
          "output_type": "execute_result",
          "data": {
            "text/html": [
              "<div>\n",
              "<style scoped>\n",
              "    .dataframe tbody tr th:only-of-type {\n",
              "        vertical-align: middle;\n",
              "    }\n",
              "\n",
              "    .dataframe tbody tr th {\n",
              "        vertical-align: top;\n",
              "    }\n",
              "\n",
              "    .dataframe thead th {\n",
              "        text-align: right;\n",
              "    }\n",
              "</style>\n",
              "<table border=\"1\" class=\"dataframe\">\n",
              "  <thead>\n",
              "    <tr style=\"text-align: right;\">\n",
              "      <th></th>\n",
              "      <th>Counts</th>\n",
              "      <th>Percentage</th>\n",
              "    </tr>\n",
              "  </thead>\n",
              "  <tbody>\n",
              "    <tr>\n",
              "      <th>ms</th>\n",
              "      <td>2591</td>\n",
              "      <td>56.45%</td>\n",
              "    </tr>\n",
              "    <tr>\n",
              "      <th>en</th>\n",
              "      <td>1491</td>\n",
              "      <td>32.48%</td>\n",
              "    </tr>\n",
              "    <tr>\n",
              "      <th>id</th>\n",
              "      <td>177</td>\n",
              "      <td>3.86%</td>\n",
              "    </tr>\n",
              "    <tr>\n",
              "      <th>msid</th>\n",
              "      <td>134</td>\n",
              "      <td>2.92%</td>\n",
              "    </tr>\n",
              "    <tr>\n",
              "      <th>idms</th>\n",
              "      <td>96</td>\n",
              "      <td>2.09%</td>\n",
              "    </tr>\n",
              "    <tr>\n",
              "      <th>jw</th>\n",
              "      <td>20</td>\n",
              "      <td>0.44%</td>\n",
              "    </tr>\n",
              "    <tr>\n",
              "      <th>enms</th>\n",
              "      <td>11</td>\n",
              "      <td>0.24%</td>\n",
              "    </tr>\n",
              "    <tr>\n",
              "      <th>msen</th>\n",
              "      <td>7</td>\n",
              "      <td>0.15%</td>\n",
              "    </tr>\n",
              "    <tr>\n",
              "      <th>es</th>\n",
              "      <td>6</td>\n",
              "      <td>0.13%</td>\n",
              "    </tr>\n",
              "    <tr>\n",
              "      <th>hi</th>\n",
              "      <td>5</td>\n",
              "      <td>0.11%</td>\n",
              "    </tr>\n",
              "  </tbody>\n",
              "</table>\n",
              "</div>"
            ],
            "text/plain": [
              "      Counts Percentage\n",
              "ms      2591     56.45%\n",
              "en      1491     32.48%\n",
              "id       177      3.86%\n",
              "msid     134      2.92%\n",
              "idms      96      2.09%\n",
              "jw        20      0.44%\n",
              "enms      11      0.24%\n",
              "msen       7      0.15%\n",
              "es         6      0.13%\n",
              "hi         5      0.11%"
            ]
          },
          "metadata": {
            "tags": []
          },
          "execution_count": 19
        }
      ]
    },
    {
      "cell_type": "code",
      "metadata": {
        "id": "Vru2lkH7t8tM",
        "colab_type": "code",
        "colab": {
          "base_uri": "https://localhost:8080/",
          "height": 208
        },
        "outputId": "92408e68-9fb8-40f0-97b8-4310fd7f5964"
      },
      "source": [
        "%pip install langdetect"
      ],
      "execution_count": null,
      "outputs": [
        {
          "output_type": "stream",
          "text": [
            "Collecting langdetect\n",
            "\u001b[?25l  Downloading https://files.pythonhosted.org/packages/56/a3/8407c1e62d5980188b4acc45ef3d94b933d14a2ebc9ef3505f22cf772570/langdetect-1.0.8.tar.gz (981kB)\n",
            "\u001b[K     |████████████████████████████████| 983kB 2.7MB/s \n",
            "\u001b[?25hRequirement already satisfied: six in /usr/local/lib/python3.6/dist-packages (from langdetect) (1.15.0)\n",
            "Building wheels for collected packages: langdetect\n",
            "  Building wheel for langdetect (setup.py) ... \u001b[?25l\u001b[?25hdone\n",
            "  Created wheel for langdetect: filename=langdetect-1.0.8-cp36-none-any.whl size=993193 sha256=3b7c909ccfac3fd97adffaf83da0c831c86838a547034b0498f1afc63b9d6548\n",
            "  Stored in directory: /root/.cache/pip/wheels/8d/b3/aa/6d99de9f3841d7d3d40a60ea06e6d669e8e5012e6c8b947a57\n",
            "Successfully built langdetect\n",
            "Installing collected packages: langdetect\n",
            "Successfully installed langdetect-1.0.8\n"
          ],
          "name": "stdout"
        }
      ]
    },
    {
      "cell_type": "code",
      "metadata": {
        "id": "l-F7Z5WBt2R4",
        "colab_type": "code",
        "colab": {
          "base_uri": "https://localhost:8080/",
          "height": 260
        },
        "outputId": "e3deaaf8-266c-463b-b20e-326b43f1bf6c"
      },
      "source": [
        "# Method 2\n",
        "from langdetect import detect\n",
        "\n",
        "data = []\n",
        "for i in L: \n",
        "  # Language Detection \n",
        "  lang = detect(i)  \n",
        "  data.append([lang, i])\n",
        "  #print(lang, i) \n",
        "\n",
        "df = pd.DataFrame(data)\n",
        "print(df)"
      ],
      "execution_count": null,
      "outputs": [
        {
          "output_type": "stream",
          "text": [
            "       0                                                  1\n",
            "0     en  Tourism body sees silver lining after covid19 ...\n",
            "1     en  will continue to be investor-friendly despite ...\n",
            "2     id   Airlines banyak gila buat sale. Tapi apakan daya\n",
            "3     en         Whatever state is happening at this moment\n",
            "4     en  Several factors affect economy such as politic...\n",
            "...   ..                                                ...\n",
            "4585  id  Mendeeeee sanggup la aku tunggu covid ni elok ...\n",
            "4586  id    akhirnya dapat juga bertemu dengan si covid ni \n",
            "4587  en  1GB free internet everyday for everyone until ...\n",
            "4588  en  Enriched Air Specialty Course (e-learning, dry...\n",
            "4589  id  Tahun ni sedih sikit tak dapat travel overseas...\n",
            "\n",
            "[4590 rows x 2 columns]\n"
          ],
          "name": "stdout"
        }
      ]
    },
    {
      "cell_type": "code",
      "metadata": {
        "id": "UPTDYIft9PTC",
        "colab_type": "code",
        "colab": {
          "base_uri": "https://localhost:8080/",
          "height": 486
        },
        "outputId": "d953edfa-5d48-4d1f-8af8-e23fb6399c9a"
      },
      "source": [
        "df.columns = ['Lang', 'Text']\n",
        "df['Lang'].value_counts()"
      ],
      "execution_count": null,
      "outputs": [
        {
          "output_type": "execute_result",
          "data": {
            "text/plain": [
              "id    2806\n",
              "en    1607\n",
              "es      27\n",
              "et      25\n",
              "tl      17\n",
              "it      16\n",
              "sl      13\n",
              "hr      12\n",
              "ro      10\n",
              "so      10\n",
              "ca       8\n",
              "pt       7\n",
              "fr       6\n",
              "af       4\n",
              "da       4\n",
              "sv       3\n",
              "sk       3\n",
              "tr       3\n",
              "de       2\n",
              "cs       1\n",
              "cy       1\n",
              "nl       1\n",
              "hu       1\n",
              "no       1\n",
              "lt       1\n",
              "bn       1\n",
              "Name: Lang, dtype: int64"
            ]
          },
          "metadata": {
            "tags": []
          },
          "execution_count": 22
        }
      ]
    },
    {
      "cell_type": "code",
      "metadata": {
        "id": "G1BRRTC29XOA",
        "colab_type": "code",
        "colab": {
          "base_uri": "https://localhost:8080/",
          "height": 486
        },
        "outputId": "94dd59d9-bd39-431d-e7f9-c0a8490bdfbe"
      },
      "source": [
        "df.columns = ['Lang', 'Text']\n",
        "df['Lang'].value_counts()"
      ],
      "execution_count": null,
      "outputs": [
        {
          "output_type": "execute_result",
          "data": {
            "text/plain": [
              "id    2806\n",
              "en    1607\n",
              "es      27\n",
              "et      25\n",
              "tl      17\n",
              "it      16\n",
              "sl      13\n",
              "hr      12\n",
              "ro      10\n",
              "so      10\n",
              "ca       8\n",
              "pt       7\n",
              "fr       6\n",
              "af       4\n",
              "da       4\n",
              "sv       3\n",
              "sk       3\n",
              "tr       3\n",
              "de       2\n",
              "cs       1\n",
              "cy       1\n",
              "nl       1\n",
              "hu       1\n",
              "no       1\n",
              "lt       1\n",
              "bn       1\n",
              "Name: Lang, dtype: int64"
            ]
          },
          "metadata": {
            "tags": []
          },
          "execution_count": 23
        }
      ]
    },
    {
      "cell_type": "code",
      "metadata": {
        "id": "jIkw8MM5xTgh",
        "colab_type": "code",
        "colab": {
          "base_uri": "https://localhost:8080/",
          "height": 208
        },
        "outputId": "5ea740ae-3220-4ac6-9899-df0c509bd3e8"
      },
      "source": [
        "%pip install langid"
      ],
      "execution_count": null,
      "outputs": [
        {
          "output_type": "stream",
          "text": [
            "Collecting langid\n",
            "\u001b[?25l  Downloading https://files.pythonhosted.org/packages/ea/4c/0fb7d900d3b0b9c8703be316fbddffecdab23c64e1b46c7a83561d78bd43/langid-1.1.6.tar.gz (1.9MB)\n",
            "\u001b[K     |████████████████████████████████| 1.9MB 2.6MB/s \n",
            "\u001b[?25hRequirement already satisfied: numpy in /usr/local/lib/python3.6/dist-packages (from langid) (1.18.5)\n",
            "Building wheels for collected packages: langid\n",
            "  Building wheel for langid (setup.py) ... \u001b[?25l\u001b[?25hdone\n",
            "  Created wheel for langid: filename=langid-1.1.6-cp36-none-any.whl size=1941190 sha256=e0d899f0649fdf7882ef842d1071585d617fec07dda2ad012334e5e307026dc0\n",
            "  Stored in directory: /root/.cache/pip/wheels/29/bc/61/50a93be85d1afe9436c3dc61f38da8ad7b637a38af4824e86e\n",
            "Successfully built langid\n",
            "Installing collected packages: langid\n",
            "Successfully installed langid-1.1.6\n"
          ],
          "name": "stdout"
        }
      ]
    },
    {
      "cell_type": "code",
      "metadata": {
        "id": "-IbphaETxVN-",
        "colab_type": "code",
        "colab": {
          "base_uri": "https://localhost:8080/",
          "height": 260
        },
        "outputId": "bd8439d9-c7f0-4199-9dad-142bde524e1a"
      },
      "source": [
        "# Method 3\n",
        "import langid\n",
        "\n",
        "data = []\n",
        "for i in L:  \n",
        "  # Language detection \n",
        "  data.append([langid.classify(i), i])\n",
        "  #print(langid.classify(i), i) \n",
        "  \n",
        "df = pd.DataFrame(data)\n",
        "print(df)"
      ],
      "execution_count": null,
      "outputs": [
        {
          "output_type": "stream",
          "text": [
            "                              0                                                  1\n",
            "0      (en, -61.69154644012451)  Tourism body sees silver lining after covid19 ...\n",
            "1      (en, -137.5537166595459)  will continue to be investor-friendly despite ...\n",
            "2      (ms, -50.99863648414612)   Airlines banyak gila buat sale. Tapi apakan daya\n",
            "3      (en, -81.81701588630676)         Whatever state is happening at this moment\n",
            "4       (en, -73.0151104927063)  Several factors affect economy such as politic...\n",
            "...                         ...                                                ...\n",
            "4585  (id, -242.08991289138794)  Mendeeeee sanggup la aku tunggu covid ni elok ...\n",
            "4586   (id, -107.4961404800415)    akhirnya dapat juga bertemu dengan si covid ni \n",
            "4587   (en, -165.8987216949463)  1GB free internet everyday for everyone until ...\n",
            "4588   (it, -293.7871103286743)  Enriched Air Specialty Course (e-learning, dry...\n",
            "4589  (id, -178.68611192703247)  Tahun ni sedih sikit tak dapat travel overseas...\n",
            "\n",
            "[4590 rows x 2 columns]\n"
          ],
          "name": "stdout"
        }
      ]
    },
    {
      "cell_type": "code",
      "metadata": {
        "id": "F-uPAux8_sfk",
        "colab_type": "code",
        "colab": {
          "base_uri": "https://localhost:8080/",
          "height": 885
        },
        "outputId": "483f08cd-a199-4b6a-f25a-d865a22d0158"
      },
      "source": [
        "df2 = pd.DataFrame(df[0].to_list(), columns=['Lang', 'Confidence'])\n",
        "df2['Text'] = df[1] \n",
        "df2['Lang'].value_counts()"
      ],
      "execution_count": null,
      "outputs": [
        {
          "output_type": "execute_result",
          "data": {
            "text/plain": [
              "en    1575\n",
              "id    1509\n",
              "ms    1220\n",
              "jv      31\n",
              "tl      30\n",
              "sw      23\n",
              "sv      23\n",
              "it      17\n",
              "es      16\n",
              "fr      13\n",
              "de      11\n",
              "et      10\n",
              "eo       9\n",
              "nl       8\n",
              "pt       8\n",
              "af       7\n",
              "la       6\n",
              "rw       6\n",
              "cy       6\n",
              "mt       5\n",
              "sl       5\n",
              "zu       4\n",
              "ro       4\n",
              "da       4\n",
              "fi       4\n",
              "ca       3\n",
              "ht       3\n",
              "pl       3\n",
              "zh       2\n",
              "tr       2\n",
              "hu       2\n",
              "lt       2\n",
              "hr       2\n",
              "br       2\n",
              "eu       1\n",
              "nb       1\n",
              "ko       1\n",
              "lv       1\n",
              "th       1\n",
              "an       1\n",
              "oc       1\n",
              "ja       1\n",
              "no       1\n",
              "wa       1\n",
              "lb       1\n",
              "mg       1\n",
              "bn       1\n",
              "qu       1\n",
              "is       1\n",
              "Name: Lang, dtype: int64"
            ]
          },
          "metadata": {
            "tags": []
          },
          "execution_count": 26
        }
      ]
    },
    {
      "cell_type": "code",
      "metadata": {
        "id": "pLjLectsGpN-",
        "colab_type": "code",
        "colab": {
          "base_uri": "https://localhost:8080/",
          "height": 69
        },
        "outputId": "6a42f811-6b8d-446c-a045-c9ec4fca23bd"
      },
      "source": [
        "%pip install textblob"
      ],
      "execution_count": null,
      "outputs": [
        {
          "output_type": "stream",
          "text": [
            "Requirement already satisfied: textblob in /usr/local/lib/python3.6/dist-packages (0.15.3)\n",
            "Requirement already satisfied: nltk>=3.1 in /usr/local/lib/python3.6/dist-packages (from textblob) (3.2.5)\n",
            "Requirement already satisfied: six in /usr/local/lib/python3.6/dist-packages (from nltk>=3.1->textblob) (1.15.0)\n"
          ],
          "name": "stdout"
        }
      ]
    },
    {
      "cell_type": "code",
      "metadata": {
        "id": "agUiRqRfuvCg",
        "colab_type": "code",
        "colab": {
          "base_uri": "https://localhost:8080/",
          "height": 260
        },
        "outputId": "a4c5890a-2963-4c2a-b512-d0594247d3ee"
      },
      "source": [
        "# NOTE: textblob has http request limits\n",
        "# Method 4\n",
        "from textblob import TextBlob \n",
        "import time\n",
        "\n",
        "data = []\n",
        "for i in L: \n",
        "  # Language Detection \n",
        "  lang = TextBlob(i)\n",
        "  time.sleep(1)\n",
        "  data.append([lang.detect_language(), i])\n",
        "  #print(lang.detect_language(), i) \n",
        "\n",
        "df = pd.DataFrame(data)\n",
        "print(df)"
      ],
      "execution_count": null,
      "outputs": [
        {
          "output_type": "stream",
          "text": [
            "       0                                                  1\n",
            "0     en  Tourism body sees silver lining after covid19 ...\n",
            "1     en  will continue to be investor-friendly despite ...\n",
            "2     id   Airlines banyak gila buat sale. Tapi apakan daya\n",
            "3     en         Whatever state is happening at this moment\n",
            "4     en  Several factors affect economy such as politic...\n",
            "...   ..                                                ...\n",
            "4585  ms  Mendeeeee sanggup la aku tunggu covid ni elok ...\n",
            "4586  ms    akhirnya dapat juga bertemu dengan si covid ni \n",
            "4587  en  1GB free internet everyday for everyone until ...\n",
            "4588  en  Enriched Air Specialty Course (e-learning, dry...\n",
            "4589  ms  Tahun ni sedih sikit tak dapat travel overseas...\n",
            "\n",
            "[4590 rows x 2 columns]\n"
          ],
          "name": "stdout"
        }
      ]
    },
    {
      "cell_type": "code",
      "metadata": {
        "id": "s3qZXYjVkZkU",
        "colab_type": "code",
        "colab": {
          "base_uri": "https://localhost:8080/",
          "height": 642
        },
        "outputId": "5a7dc600-af30-401c-c287-6492ea3a5fd0"
      },
      "source": [
        "df2 = pd.DataFrame(df[0].to_list(), columns=['Lang'])\n",
        "df2['Text'] = df[1] \n",
        "df2['Lang'].value_counts()"
      ],
      "execution_count": null,
      "outputs": [
        {
          "output_type": "execute_result",
          "data": {
            "text/plain": [
              "ms       2744\n",
              "en       1464\n",
              "id        296\n",
              "jw         23\n",
              "hi          6\n",
              "su          5\n",
              "tl          5\n",
              "es          5\n",
              "fr          3\n",
              "eo          3\n",
              "gu          3\n",
              "tr          3\n",
              "hmn         2\n",
              "el          2\n",
              "sv          2\n",
              "sk          2\n",
              "ceb         2\n",
              "pt          2\n",
              "bn          2\n",
              "sn          1\n",
              "kn          1\n",
              "da          1\n",
              "zh-CN       1\n",
              "th          1\n",
              "ml          1\n",
              "ja          1\n",
              "so          1\n",
              "haw         1\n",
              "mr          1\n",
              "no          1\n",
              "hr          1\n",
              "te          1\n",
              "nl          1\n",
              "ha          1\n",
              "sl          1\n",
              "Name: Lang, dtype: int64"
            ]
          },
          "metadata": {
            "tags": []
          },
          "execution_count": 29
        }
      ]
    }
  ]
}