{
  "nbformat": 4,
  "nbformat_minor": 0,
  "metadata": {
    "colab": {
      "name": "Twitter Sentiment Analysis on any_keyword_here in Malaysia.ipynb",
      "provenance": [],
      "collapsed_sections": [],
      "mount_file_id": "1-qewEwEO4dWY87rr6bDq3SRLXgTa6p3Z",
      "authorship_tag": "ABX9TyN7KdWwJcI2VcJtGC5Q+Ycz",
      "include_colab_link": true
    },
    "kernelspec": {
      "name": "python3",
      "display_name": "Python 3"
    }
  },
  "cells": [
    {
      "cell_type": "markdown",
      "metadata": {
        "id": "view-in-github",
        "colab_type": "text"
      },
      "source": [
        "<a href=\"https://colab.research.google.com/github/ashamril/Text-Analytics/blob/master/Twitter_Sentiment_Analysis_on_any_keyword_here_in_Malaysia.ipynb\" target=\"_parent\"><img src=\"https://colab.research.google.com/assets/colab-badge.svg\" alt=\"Open In Colab\"/></a>"
      ]
    },
    {
      "cell_type": "markdown",
      "metadata": {
        "id": "VB-iHOTWBtBV",
        "colab_type": "text"
      },
      "source": [
        "#Twitter Sentiment Analysis on any_keyword_here in Malaysia\n",
        "Using **Malaya**, a **Natural-Language-Toolkit** library for **Bahasa Malaysia**, powered by **Deep Learning Tensorflow**.<br>\n",
        "**Malaya** provided basic interface for **Pre-trained Transformer encoder models**, specific to **Malay**, **local social media slang** and **Manglish** language, called **Transformer-Bahasa**.<br>\n",
        "https://malaya.readthedocs.io/en/latest/"
      ]
    },
    {
      "cell_type": "code",
      "metadata": {
        "id": "f6J8elh2i0A8",
        "colab_type": "code",
        "colab": {
          "base_uri": "https://localhost:8080/",
          "height": 86
        },
        "outputId": "291e1050-8abb-4e4c-ff60-8d2cab56ba2d"
      },
      "source": [
        "%pip install GetOldTweets3"
      ],
      "execution_count": 7,
      "outputs": [
        {
          "output_type": "stream",
          "text": [
            "Requirement already satisfied: GetOldTweets3 in /usr/local/lib/python3.6/dist-packages (0.0.11)\n",
            "Requirement already satisfied: lxml>=3.5.0 in /usr/local/lib/python3.6/dist-packages (from GetOldTweets3) (4.2.6)\n",
            "Requirement already satisfied: pyquery>=1.2.10 in /usr/local/lib/python3.6/dist-packages (from GetOldTweets3) (1.4.1)\n",
            "Requirement already satisfied: cssselect>0.7.9 in /usr/local/lib/python3.6/dist-packages (from pyquery>=1.2.10->GetOldTweets3) (1.1.0)\n"
          ],
          "name": "stdout"
        }
      ]
    },
    {
      "cell_type": "code",
      "metadata": {
        "id": "yIkHi1IM_ZGT",
        "colab_type": "code",
        "colab": {
          "base_uri": "https://localhost:8080/",
          "height": 1000
        },
        "outputId": "ea424f00-38a0-45d3-f853-4ac03c986302"
      },
      "source": [
        "%pip install malaya"
      ],
      "execution_count": 8,
      "outputs": [
        {
          "output_type": "stream",
          "text": [
            "Collecting malaya\n",
            "\u001b[?25l  Downloading https://files.pythonhosted.org/packages/f4/16/cb32a0b47287a58b0a6ce997f4f788e69e5bd3a85afa5d9e40fd85fd0b1d/malaya-3.7.5-py3-none-any.whl (4.0MB)\n",
            "\u001b[K     |████████████████████████████████| 4.0MB 2.8MB/s \n",
            "\u001b[?25hRequirement already satisfied: requests in /usr/local/lib/python3.6/dist-packages (from malaya) (2.23.0)\n",
            "Requirement already satisfied: numpy in /usr/local/lib/python3.6/dist-packages (from malaya) (1.18.5)\n",
            "Collecting tensorflow<2.0,>=1.14\n",
            "\u001b[?25l  Downloading https://files.pythonhosted.org/packages/02/36/9a02e27f0ec248b676a380ffe910c1858e3af3027c0d4d513dd0b56a5613/tensorflow-1.15.3-cp36-cp36m-manylinux2010_x86_64.whl (110.5MB)\n",
            "\u001b[K     |████████████████████████████████| 110.5MB 85kB/s \n",
            "\u001b[?25hCollecting bert-tensorflow\n",
            "\u001b[?25l  Downloading https://files.pythonhosted.org/packages/a6/66/7eb4e8b6ea35b7cc54c322c816f976167a43019750279a8473d355800a93/bert_tensorflow-1.0.1-py2.py3-none-any.whl (67kB)\n",
            "\u001b[K     |████████████████████████████████| 71kB 8.9MB/s \n",
            "\u001b[?25hCollecting herpetologist\n",
            "  Downloading https://files.pythonhosted.org/packages/83/58/8ad7d0ccd94e6810c08baf040f622e44807afafc5fdc20c58f4a0a774e01/herpetologist-0.0.9-py3-none-any.whl\n",
            "Collecting unidecode\n",
            "\u001b[?25l  Downloading https://files.pythonhosted.org/packages/d0/42/d9edfed04228bacea2d824904cae367ee9efd05e6cce7ceaaedd0b0ad964/Unidecode-1.1.1-py2.py3-none-any.whl (238kB)\n",
            "\u001b[K     |████████████████████████████████| 245kB 35.2MB/s \n",
            "\u001b[?25hCollecting sentencepiece\n",
            "\u001b[?25l  Downloading https://files.pythonhosted.org/packages/d4/a4/d0a884c4300004a78cca907a6ff9a5e9fe4f090f5d95ab341c53d28cbc58/sentencepiece-0.1.91-cp36-cp36m-manylinux1_x86_64.whl (1.1MB)\n",
            "\u001b[K     |████████████████████████████████| 1.1MB 48.4MB/s \n",
            "\u001b[?25hCollecting PySastrawi\n",
            "\u001b[?25l  Downloading https://files.pythonhosted.org/packages/61/84/b0a5454a040f81e81e6a95a5d5635f20ad43cc0c288f8b4966b339084962/PySastrawi-1.2.0-py2.py3-none-any.whl (210kB)\n",
            "\u001b[K     |████████████████████████████████| 215kB 42.4MB/s \n",
            "\u001b[?25hCollecting youtokentome\n",
            "\u001b[?25l  Downloading https://files.pythonhosted.org/packages/a3/65/4a86cf99da3f680497ae132329025b291e2fda22327e8da6a9476e51acb1/youtokentome-1.0.6-cp36-cp36m-manylinux2010_x86_64.whl (1.7MB)\n",
            "\u001b[K     |████████████████████████████████| 1.7MB 42.6MB/s \n",
            "\u001b[?25hCollecting albert-tensorflow\n",
            "\u001b[?25l  Downloading https://files.pythonhosted.org/packages/ba/1e/e776bb23e6f89a1f1d7d33b50d0bd9c2c7b24b39aa548f041827a9c00d73/albert_tensorflow-1.1-py3-none-any.whl (81kB)\n",
            "\u001b[K     |████████████████████████████████| 81kB 10.0MB/s \n",
            "\u001b[?25hRequirement already satisfied: networkx in /usr/local/lib/python3.6/dist-packages (from malaya) (2.4)\n",
            "Requirement already satisfied: sklearn in /usr/local/lib/python3.6/dist-packages (from malaya) (0.0)\n",
            "Collecting ftfy\n",
            "\u001b[?25l  Downloading https://files.pythonhosted.org/packages/ff/e2/3b51c53dffb1e52d9210ebc01f1fb9f2f6eba9b3201fa971fd3946643c71/ftfy-5.8.tar.gz (64kB)\n",
            "\u001b[K     |████████████████████████████████| 71kB 8.8MB/s \n",
            "\u001b[?25hRequirement already satisfied: scipy in /usr/local/lib/python3.6/dist-packages (from malaya) (1.4.1)\n",
            "Collecting dateparser\n",
            "\u001b[?25l  Downloading https://files.pythonhosted.org/packages/c1/d5/5a2e51bc0058f66b54669735f739d27afc3eb453ab00520623c7ab168e22/dateparser-0.7.6-py2.py3-none-any.whl (362kB)\n",
            "\u001b[K     |████████████████████████████████| 368kB 38.0MB/s \n",
            "\u001b[?25hRequirement already satisfied: scikit-learn in /usr/local/lib/python3.6/dist-packages (from malaya) (0.22.2.post1)\n",
            "Requirement already satisfied: tqdm in /usr/local/lib/python3.6/dist-packages (from malaya) (4.41.1)\n",
            "Requirement already satisfied: certifi>=2017.4.17 in /usr/local/lib/python3.6/dist-packages (from requests->malaya) (2020.6.20)\n",
            "Requirement already satisfied: urllib3!=1.25.0,!=1.25.1,<1.26,>=1.21.1 in /usr/local/lib/python3.6/dist-packages (from requests->malaya) (1.24.3)\n",
            "Requirement already satisfied: idna<3,>=2.5 in /usr/local/lib/python3.6/dist-packages (from requests->malaya) (2.10)\n",
            "Requirement already satisfied: chardet<4,>=3.0.2 in /usr/local/lib/python3.6/dist-packages (from requests->malaya) (3.0.4)\n",
            "Requirement already satisfied: protobuf>=3.6.1 in /usr/local/lib/python3.6/dist-packages (from tensorflow<2.0,>=1.14->malaya) (3.12.2)\n",
            "Requirement already satisfied: termcolor>=1.1.0 in /usr/local/lib/python3.6/dist-packages (from tensorflow<2.0,>=1.14->malaya) (1.1.0)\n",
            "Collecting tensorflow-estimator==1.15.1\n",
            "\u001b[?25l  Downloading https://files.pythonhosted.org/packages/de/62/2ee9cd74c9fa2fa450877847ba560b260f5d0fb70ee0595203082dafcc9d/tensorflow_estimator-1.15.1-py2.py3-none-any.whl (503kB)\n",
            "\u001b[K     |████████████████████████████████| 512kB 40.6MB/s \n",
            "\u001b[?25hRequirement already satisfied: google-pasta>=0.1.6 in /usr/local/lib/python3.6/dist-packages (from tensorflow<2.0,>=1.14->malaya) (0.2.0)\n",
            "Requirement already satisfied: wrapt>=1.11.1 in /usr/local/lib/python3.6/dist-packages (from tensorflow<2.0,>=1.14->malaya) (1.12.1)\n",
            "Requirement already satisfied: grpcio>=1.8.6 in /usr/local/lib/python3.6/dist-packages (from tensorflow<2.0,>=1.14->malaya) (1.30.0)\n",
            "Requirement already satisfied: wheel>=0.26; python_version >= \"3\" in /usr/local/lib/python3.6/dist-packages (from tensorflow<2.0,>=1.14->malaya) (0.34.2)\n",
            "Requirement already satisfied: astor>=0.6.0 in /usr/local/lib/python3.6/dist-packages (from tensorflow<2.0,>=1.14->malaya) (0.8.1)\n",
            "Collecting tensorboard<1.16.0,>=1.15.0\n",
            "\u001b[?25l  Downloading https://files.pythonhosted.org/packages/1e/e9/d3d747a97f7188f48aa5eda486907f3b345cd409f0a0850468ba867db246/tensorboard-1.15.0-py3-none-any.whl (3.8MB)\n",
            "\u001b[K     |████████████████████████████████| 3.8MB 41.0MB/s \n",
            "\u001b[?25hRequirement already satisfied: absl-py>=0.7.0 in /usr/local/lib/python3.6/dist-packages (from tensorflow<2.0,>=1.14->malaya) (0.9.0)\n",
            "Collecting gast==0.2.2\n",
            "  Downloading https://files.pythonhosted.org/packages/4e/35/11749bf99b2d4e3cceb4d55ca22590b0d7c2c62b9de38ac4a4a7f4687421/gast-0.2.2.tar.gz\n",
            "Requirement already satisfied: opt-einsum>=2.3.2 in /usr/local/lib/python3.6/dist-packages (from tensorflow<2.0,>=1.14->malaya) (3.3.0)\n",
            "Requirement already satisfied: six>=1.10.0 in /usr/local/lib/python3.6/dist-packages (from tensorflow<2.0,>=1.14->malaya) (1.15.0)\n",
            "Requirement already satisfied: keras-applications>=1.0.8 in /usr/local/lib/python3.6/dist-packages (from tensorflow<2.0,>=1.14->malaya) (1.0.8)\n",
            "Requirement already satisfied: keras-preprocessing>=1.0.5 in /usr/local/lib/python3.6/dist-packages (from tensorflow<2.0,>=1.14->malaya) (1.1.2)\n",
            "Collecting memoization\n",
            "  Downloading https://files.pythonhosted.org/packages/04/d0/9656ccb7434946e592d5350073b4c612be0691d1de050b0b1d6c56a9cd67/memoization-0.3.1-py3-none-any.whl\n",
            "Requirement already satisfied: Click>=7.0 in /usr/local/lib/python3.6/dist-packages (from youtokentome->malaya) (7.1.2)\n",
            "Requirement already satisfied: decorator>=4.3.0 in /usr/local/lib/python3.6/dist-packages (from networkx->malaya) (4.4.2)\n",
            "Requirement already satisfied: wcwidth in /usr/local/lib/python3.6/dist-packages (from ftfy->malaya) (0.2.5)\n",
            "Requirement already satisfied: python-dateutil in /usr/local/lib/python3.6/dist-packages (from dateparser->malaya) (2.8.1)\n",
            "Requirement already satisfied: regex!=2019.02.19 in /usr/local/lib/python3.6/dist-packages (from dateparser->malaya) (2019.12.20)\n",
            "Requirement already satisfied: tzlocal in /usr/local/lib/python3.6/dist-packages (from dateparser->malaya) (1.5.1)\n",
            "Requirement already satisfied: pytz in /usr/local/lib/python3.6/dist-packages (from dateparser->malaya) (2018.9)\n",
            "Requirement already satisfied: joblib>=0.11 in /usr/local/lib/python3.6/dist-packages (from scikit-learn->malaya) (0.16.0)\n",
            "Requirement already satisfied: setuptools in /usr/local/lib/python3.6/dist-packages (from protobuf>=3.6.1->tensorflow<2.0,>=1.14->malaya) (49.1.0)\n",
            "Requirement already satisfied: werkzeug>=0.11.15 in /usr/local/lib/python3.6/dist-packages (from tensorboard<1.16.0,>=1.15.0->tensorflow<2.0,>=1.14->malaya) (1.0.1)\n",
            "Requirement already satisfied: markdown>=2.6.8 in /usr/local/lib/python3.6/dist-packages (from tensorboard<1.16.0,>=1.15.0->tensorflow<2.0,>=1.14->malaya) (3.2.2)\n",
            "Requirement already satisfied: h5py in /usr/local/lib/python3.6/dist-packages (from keras-applications>=1.0.8->tensorflow<2.0,>=1.14->malaya) (2.10.0)\n",
            "Requirement already satisfied: importlib-metadata; python_version < \"3.8\" in /usr/local/lib/python3.6/dist-packages (from markdown>=2.6.8->tensorboard<1.16.0,>=1.15.0->tensorflow<2.0,>=1.14->malaya) (1.7.0)\n",
            "Requirement already satisfied: zipp>=0.5 in /usr/local/lib/python3.6/dist-packages (from importlib-metadata; python_version < \"3.8\"->markdown>=2.6.8->tensorboard<1.16.0,>=1.15.0->tensorflow<2.0,>=1.14->malaya) (3.1.0)\n",
            "Building wheels for collected packages: ftfy, gast\n",
            "  Building wheel for ftfy (setup.py) ... \u001b[?25l\u001b[?25hdone\n",
            "  Created wheel for ftfy: filename=ftfy-5.8-cp36-none-any.whl size=45612 sha256=14b6cc6a34ded6600dacc45bb98c14733313a7ac58db00b550b72b7c2cc6a303\n",
            "  Stored in directory: /root/.cache/pip/wheels/ba/c0/ef/f28c4da5ac84a4e06ac256ca9182fc34fa57fefffdbc68425b\n",
            "  Building wheel for gast (setup.py) ... \u001b[?25l\u001b[?25hdone\n",
            "  Created wheel for gast: filename=gast-0.2.2-cp36-none-any.whl size=7540 sha256=2d4151e286f892990ef2ba43540f2a2a33fa87de58443a5d38802e8096560134\n",
            "  Stored in directory: /root/.cache/pip/wheels/5c/2e/7e/a1d4d4fcebe6c381f378ce7743a3ced3699feb89bcfbdadadd\n",
            "Successfully built ftfy gast\n",
            "\u001b[31mERROR: tensorflow-probability 0.10.0 has requirement gast>=0.3.2, but you'll have gast 0.2.2 which is incompatible.\u001b[0m\n",
            "Installing collected packages: tensorflow-estimator, tensorboard, gast, tensorflow, bert-tensorflow, memoization, herpetologist, unidecode, sentencepiece, PySastrawi, youtokentome, albert-tensorflow, ftfy, dateparser, malaya\n",
            "  Found existing installation: tensorflow-estimator 2.2.0\n",
            "    Uninstalling tensorflow-estimator-2.2.0:\n",
            "      Successfully uninstalled tensorflow-estimator-2.2.0\n",
            "  Found existing installation: tensorboard 2.2.2\n",
            "    Uninstalling tensorboard-2.2.2:\n",
            "      Successfully uninstalled tensorboard-2.2.2\n",
            "  Found existing installation: gast 0.3.3\n",
            "    Uninstalling gast-0.3.3:\n",
            "      Successfully uninstalled gast-0.3.3\n",
            "  Found existing installation: tensorflow 2.2.0\n",
            "    Uninstalling tensorflow-2.2.0:\n",
            "      Successfully uninstalled tensorflow-2.2.0\n",
            "Successfully installed PySastrawi-1.2.0 albert-tensorflow-1.1 bert-tensorflow-1.0.1 dateparser-0.7.6 ftfy-5.8 gast-0.2.2 herpetologist-0.0.9 malaya-3.7.5 memoization-0.3.1 sentencepiece-0.1.91 tensorboard-1.15.0 tensorflow-1.15.3 tensorflow-estimator-1.15.1 unidecode-1.1.1 youtokentome-1.0.6\n"
          ],
          "name": "stdout"
        }
      ]
    },
    {
      "cell_type": "code",
      "metadata": {
        "id": "dB-_0LAbAgN6",
        "colab_type": "code",
        "colab": {
          "base_uri": "https://localhost:8080/",
          "height": 764
        },
        "outputId": "872053a5-1226-439d-9479-518352acf2b2"
      },
      "source": [
        "%pip install googletrans"
      ],
      "execution_count": 13,
      "outputs": [
        {
          "output_type": "stream",
          "text": [
            "Collecting googletrans\n",
            "  Downloading https://files.pythonhosted.org/packages/71/3a/3b19effdd4c03958b90f40fe01c93de6d5280e03843cc5adf6956bfc9512/googletrans-3.0.0.tar.gz\n",
            "Collecting httpx==0.13.3\n",
            "\u001b[?25l  Downloading https://files.pythonhosted.org/packages/54/b4/698b284c6aed4d7c2b4fe3ba5df1fcf6093612423797e76fbb24890dd22f/httpx-0.13.3-py3-none-any.whl (55kB)\n",
            "\u001b[K     |████████████████████████████████| 61kB 2.9MB/s \n",
            "\u001b[?25hCollecting hstspreload\n",
            "\u001b[?25l  Downloading https://files.pythonhosted.org/packages/25/11/db4dd94cf687b5f201cbfcf6d4165ad3b32f6205bb5950d1861d96826f65/hstspreload-2020.7.22-py3-none-any.whl (922kB)\n",
            "\u001b[K     |████████████████████████████████| 931kB 7.9MB/s \n",
            "\u001b[?25hCollecting httpcore==0.9.*\n",
            "\u001b[?25l  Downloading https://files.pythonhosted.org/packages/dd/d5/e4ff9318693ac6101a2095e580908b591838c6f33df8d3ee8dd953ba96a8/httpcore-0.9.1-py3-none-any.whl (42kB)\n",
            "\u001b[K     |████████████████████████████████| 51kB 7.2MB/s \n",
            "\u001b[?25hCollecting rfc3986<2,>=1.3\n",
            "  Downloading https://files.pythonhosted.org/packages/78/be/7b8b99fd74ff5684225f50dd0e865393d2265656ef3b4ba9eaaaffe622b8/rfc3986-1.4.0-py2.py3-none-any.whl\n",
            "Requirement already satisfied: certifi in /usr/local/lib/python3.6/dist-packages (from httpx==0.13.3->googletrans) (2020.6.20)\n",
            "Collecting sniffio\n",
            "  Downloading https://files.pythonhosted.org/packages/b3/82/4bd4b7d9c0d1dc0fbfbc2a1e00138e7f3ab85bc239358fe9b78aa2ab586d/sniffio-1.1.0-py3-none-any.whl\n",
            "Requirement already satisfied: chardet==3.* in /usr/local/lib/python3.6/dist-packages (from httpx==0.13.3->googletrans) (3.0.4)\n",
            "Requirement already satisfied: idna==2.* in /usr/local/lib/python3.6/dist-packages (from httpx==0.13.3->googletrans) (2.10)\n",
            "Collecting h2==3.*\n",
            "\u001b[?25l  Downloading https://files.pythonhosted.org/packages/25/de/da019bcc539eeab02f6d45836f23858ac467f584bfec7a526ef200242afe/h2-3.2.0-py2.py3-none-any.whl (65kB)\n",
            "\u001b[K     |████████████████████████████████| 71kB 7.4MB/s \n",
            "\u001b[?25hCollecting h11<0.10,>=0.8\n",
            "\u001b[?25l  Downloading https://files.pythonhosted.org/packages/5a/fd/3dad730b0f95e78aeeb742f96fa7bbecbdd56a58e405d3da440d5bfb90c6/h11-0.9.0-py2.py3-none-any.whl (53kB)\n",
            "\u001b[K     |████████████████████████████████| 61kB 4.5MB/s \n",
            "\u001b[?25hCollecting contextvars>=2.1; python_version < \"3.7\"\n",
            "  Downloading https://files.pythonhosted.org/packages/83/96/55b82d9f13763be9d672622e1b8106c85acb83edd7cc2fa5bc67cd9877e9/contextvars-2.4.tar.gz\n",
            "Collecting hpack<4,>=3.0\n",
            "  Downloading https://files.pythonhosted.org/packages/8a/cc/e53517f4a1e13f74776ca93271caef378dadec14d71c61c949d759d3db69/hpack-3.0.0-py2.py3-none-any.whl\n",
            "Collecting hyperframe<6,>=5.2.0\n",
            "  Downloading https://files.pythonhosted.org/packages/19/0c/bf88182bcb5dce3094e2f3e4fe20db28a9928cb7bd5b08024030e4b140db/hyperframe-5.2.0-py2.py3-none-any.whl\n",
            "Collecting immutables>=0.9\n",
            "\u001b[?25l  Downloading https://files.pythonhosted.org/packages/99/e0/ea6fd4697120327d26773b5a84853f897a68e33d3f9376b00a8ff96e4f63/immutables-0.14-cp36-cp36m-manylinux1_x86_64.whl (98kB)\n",
            "\u001b[K     |████████████████████████████████| 102kB 8.3MB/s \n",
            "\u001b[?25hBuilding wheels for collected packages: googletrans, contextvars\n",
            "  Building wheel for googletrans (setup.py) ... \u001b[?25l\u001b[?25hdone\n",
            "  Created wheel for googletrans: filename=googletrans-3.0.0-cp36-none-any.whl size=15736 sha256=d7161b63130267244e05b678425d04280f9154037472690c265cf0712f62780e\n",
            "  Stored in directory: /root/.cache/pip/wheels/28/1a/a7/eaf4d7a3417a0c65796c547cff4deb6d79c7d14c2abd29273e\n",
            "  Building wheel for contextvars (setup.py) ... \u001b[?25l\u001b[?25hdone\n",
            "  Created wheel for contextvars: filename=contextvars-2.4-cp36-none-any.whl size=7666 sha256=d99c17a51f8556b55839c95a7d464631d8a664148fb9d271a3212a0d10722b45\n",
            "  Stored in directory: /root/.cache/pip/wheels/a5/7d/68/1ebae2668bda2228686e3c1cf16f2c2384cea6e9334ad5f6de\n",
            "Successfully built googletrans contextvars\n",
            "Installing collected packages: hstspreload, hpack, hyperframe, h2, immutables, contextvars, sniffio, h11, httpcore, rfc3986, httpx, googletrans\n",
            "Successfully installed contextvars-2.4 googletrans-3.0.0 h11-0.9.0 h2-3.2.0 hpack-3.0.0 hstspreload-2020.7.22 httpcore-0.9.1 httpx-0.13.3 hyperframe-5.2.0 immutables-0.14 rfc3986-1.4.0 sniffio-1.1.0\n"
          ],
          "name": "stdout"
        }
      ]
    },
    {
      "cell_type": "code",
      "metadata": {
        "id": "3gphFFc8rMzt",
        "colab_type": "code",
        "colab": {}
      },
      "source": [
        "import malaya\n",
        "import pandas as pd\n",
        "import numpy as np\n",
        "import matplotlib.pyplot as plt\n",
        "import seaborn as sns\n",
        "import GetOldTweets3 as got\n",
        "import warnings\n",
        "from googletrans import Translator\n",
        "\n",
        "warnings.filterwarnings('ignore')\n",
        "warnings.simplefilter('ignore')"
      ],
      "execution_count": 14,
      "outputs": []
    },
    {
      "cell_type": "code",
      "metadata": {
        "id": "60WH2HHdi-2F",
        "colab_type": "code",
        "colab": {}
      },
      "source": [
        "# Change accordingly\n",
        "keyword = \"mco OR pkp\" # use OR or AND respectively, eg. mco OR pkp\n",
        "location = \"Kuala Lumpur, Malaysia\"\n",
        "start_date = \"2020-07-20\"    # yyyy-mm-dd\n",
        "#latest_date = \"2020-07-25\"\n",
        "#number_tweets = 100"
      ],
      "execution_count": 16,
      "outputs": []
    },
    {
      "cell_type": "code",
      "metadata": {
        "id": "n6mbLiqvql_k",
        "colab_type": "code",
        "colab": {}
      },
      "source": [
        "# search_tweet = got.manager.TweetCriteria().setQuerySearch(keyword)\\\n",
        "#                                             .setNear(location)\\\n",
        "#                                             .setSince(start_date)\\\n",
        "#                                             .setUntil(latest_date)\\\n",
        "#                                             .setMaxTweets(number_tweets)"
      ],
      "execution_count": 17,
      "outputs": []
    },
    {
      "cell_type": "code",
      "metadata": {
        "id": "Vc31sjBTjP9L",
        "colab_type": "code",
        "colab": {}
      },
      "source": [
        "# Search tweets usng keyword, location and start_date only\n",
        "search_tweet = got.manager.TweetCriteria().setQuerySearch(keyword)\\\n",
        "                                             .setNear(location)\\\n",
        "                                             .setSince(start_date)\n",
        "\n",
        "tweet_df = pd.DataFrame({'got_criteria':got.manager.TweetManager.getTweets(search_tweet)})"
      ],
      "execution_count": null,
      "outputs": []
    },
    {
      "cell_type": "code",
      "metadata": {
        "id": "rwvwem42GyO6",
        "colab_type": "code",
        "colab": {
          "base_uri": "https://localhost:8080/",
          "height": 156
        },
        "outputId": "f82aacea-bb0a-4327-ecb6-407e42baff71"
      },
      "source": [
        "print(\"Number of tweets collected: \")\n",
        "tweet_df.count()"
      ],
      "execution_count": 29,
      "outputs": [
        {
          "output_type": "stream",
          "text": [
            "Number of tweets collected: \n"
          ],
          "name": "stdout"
        },
        {
          "output_type": "execute_result",
          "data": {
            "text/plain": [
              "got_criteria    1599\n",
              "username        1599\n",
              "tweet_text      1599\n",
              "date            1599\n",
              "hashtags        1599\n",
              "link            1599\n",
              "dtype: int64"
            ]
          },
          "metadata": {
            "tags": []
          },
          "execution_count": 29
        }
      ]
    },
    {
      "cell_type": "code",
      "metadata": {
        "id": "hMkDGnyYjje9",
        "colab_type": "code",
        "colab": {}
      },
      "source": [
        "def get_twitter_info():\n",
        "    tweet_df[\"username\"] = tweet_df[\"got_criteria\"].apply(lambda x: x.username)\n",
        "    tweet_df[\"tweet_text\"] = tweet_df[\"got_criteria\"].apply(lambda x: x.text)\n",
        "    tweet_df[\"date\"] = tweet_df[\"got_criteria\"].apply(lambda x: x.date)\n",
        "    tweet_df[\"hashtags\"] = tweet_df[\"got_criteria\"].apply(lambda x: x.hashtags)\n",
        "    tweet_df[\"link\"] = tweet_df[\"got_criteria\"].apply(lambda x: x.permalink)"
      ],
      "execution_count": 19,
      "outputs": []
    },
    {
      "cell_type": "code",
      "metadata": {
        "id": "PEXB39GXj8zu",
        "colab_type": "code",
        "colab": {
          "base_uri": "https://localhost:8080/",
          "height": 424
        },
        "outputId": "99cd382c-8640-47aa-d471-ba6cb2f05c87"
      },
      "source": [
        "get_twitter_info()\n",
        "df = tweet_df.drop([\"got_criteria\"], axis=1)\n",
        "df"
      ],
      "execution_count": 20,
      "outputs": [
        {
          "output_type": "execute_result",
          "data": {
            "text/html": [
              "<div>\n",
              "<style scoped>\n",
              "    .dataframe tbody tr th:only-of-type {\n",
              "        vertical-align: middle;\n",
              "    }\n",
              "\n",
              "    .dataframe tbody tr th {\n",
              "        vertical-align: top;\n",
              "    }\n",
              "\n",
              "    .dataframe thead th {\n",
              "        text-align: right;\n",
              "    }\n",
              "</style>\n",
              "<table border=\"1\" class=\"dataframe\">\n",
              "  <thead>\n",
              "    <tr style=\"text-align: right;\">\n",
              "      <th></th>\n",
              "      <th>username</th>\n",
              "      <th>tweet_text</th>\n",
              "      <th>date</th>\n",
              "      <th>hashtags</th>\n",
              "      <th>link</th>\n",
              "    </tr>\n",
              "  </thead>\n",
              "  <tbody>\n",
              "    <tr>\n",
              "      <th>0</th>\n",
              "      <td>atikahyahya93</td>\n",
              "      <td>Sampai bila asyik nk PKP? It's impossible to k...</td>\n",
              "      <td>2020-07-26 07:25:40+00:00</td>\n",
              "      <td></td>\n",
              "      <td>https://twitter.com/atikahyahya93/status/12872...</td>\n",
              "    </tr>\n",
              "    <tr>\n",
              "      <th>1</th>\n",
              "      <td>malaysiadude</td>\n",
              "      <td>Laaaa pastu kau nak negera kau miskin??? Sehar...</td>\n",
              "      <td>2020-07-26 07:24:11+00:00</td>\n",
              "      <td></td>\n",
              "      <td>https://twitter.com/malaysiadude/status/128728...</td>\n",
              "    </tr>\n",
              "    <tr>\n",
              "      <th>2</th>\n",
              "      <td>staronline</td>\n",
              "      <td>Ismail Sabri: 617 detained on Saturday (July 2...</td>\n",
              "      <td>2020-07-26 07:22:22+00:00</td>\n",
              "      <td></td>\n",
              "      <td>https://twitter.com/staronline/status/12872871...</td>\n",
              "    </tr>\n",
              "    <tr>\n",
              "      <th>3</th>\n",
              "      <td>staronline</td>\n",
              "      <td>Covid-19: MCO may be enforced again if cases r...</td>\n",
              "      <td>2020-07-26 07:22:17+00:00</td>\n",
              "      <td></td>\n",
              "      <td>https://twitter.com/staronline/status/12872871...</td>\n",
              "    </tr>\n",
              "    <tr>\n",
              "      <th>4</th>\n",
              "      <td>fnajihahz_</td>\n",
              "      <td>Jangan pkp balik tu je mintak please lah jgn k...</td>\n",
              "      <td>2020-07-26 07:18:19+00:00</td>\n",
              "      <td></td>\n",
              "      <td>https://twitter.com/fnajihahz_/status/12872861...</td>\n",
              "    </tr>\n",
              "    <tr>\n",
              "      <th>...</th>\n",
              "      <td>...</td>\n",
              "      <td>...</td>\n",
              "      <td>...</td>\n",
              "      <td>...</td>\n",
              "      <td>...</td>\n",
              "    </tr>\n",
              "    <tr>\n",
              "      <th>1594</th>\n",
              "      <td>serrasuhaimi</td>\n",
              "      <td>Berat before PKP dh achieved. Next target bera...</td>\n",
              "      <td>2020-07-20 01:47:03+00:00</td>\n",
              "      <td></td>\n",
              "      <td>https://twitter.com/serrasuhaimi/status/128502...</td>\n",
              "    </tr>\n",
              "    <tr>\n",
              "      <th>1595</th>\n",
              "      <td>_umaraziz</td>\n",
              "      <td>With another MCO looming, who knows whats in s...</td>\n",
              "      <td>2020-07-20 01:38:59+00:00</td>\n",
              "      <td></td>\n",
              "      <td>https://twitter.com/_umaraziz/status/128502638...</td>\n",
              "    </tr>\n",
              "    <tr>\n",
              "      <th>1596</th>\n",
              "      <td>Media_Selangor</td>\n",
              "      <td>Selangor Journal | 78 individuals arrested for...</td>\n",
              "      <td>2020-07-20 01:31:33+00:00</td>\n",
              "      <td></td>\n",
              "      <td>https://twitter.com/Media_Selangor/status/1285...</td>\n",
              "    </tr>\n",
              "    <tr>\n",
              "      <th>1597</th>\n",
              "      <td>amanhisham2</td>\n",
              "      <td>I haven’t touch his phone quite a while like s...</td>\n",
              "      <td>2020-07-20 00:58:25+00:00</td>\n",
              "      <td></td>\n",
              "      <td>https://twitter.com/amanhisham2/status/1285016...</td>\n",
              "    </tr>\n",
              "    <tr>\n",
              "      <th>1598</th>\n",
              "      <td>elnanolanina</td>\n",
              "      <td>Haha maybe later la bang. Thinking to go hike ...</td>\n",
              "      <td>2020-07-20 00:24:41+00:00</td>\n",
              "      <td></td>\n",
              "      <td>https://twitter.com/elnanolanina/status/128500...</td>\n",
              "    </tr>\n",
              "  </tbody>\n",
              "</table>\n",
              "<p>1599 rows × 5 columns</p>\n",
              "</div>"
            ],
            "text/plain": [
              "            username  ...                                               link\n",
              "0      atikahyahya93  ...  https://twitter.com/atikahyahya93/status/12872...\n",
              "1       malaysiadude  ...  https://twitter.com/malaysiadude/status/128728...\n",
              "2         staronline  ...  https://twitter.com/staronline/status/12872871...\n",
              "3         staronline  ...  https://twitter.com/staronline/status/12872871...\n",
              "4         fnajihahz_  ...  https://twitter.com/fnajihahz_/status/12872861...\n",
              "...              ...  ...                                                ...\n",
              "1594    serrasuhaimi  ...  https://twitter.com/serrasuhaimi/status/128502...\n",
              "1595       _umaraziz  ...  https://twitter.com/_umaraziz/status/128502638...\n",
              "1596  Media_Selangor  ...  https://twitter.com/Media_Selangor/status/1285...\n",
              "1597     amanhisham2  ...  https://twitter.com/amanhisham2/status/1285016...\n",
              "1598    elnanolanina  ...  https://twitter.com/elnanolanina/status/128500...\n",
              "\n",
              "[1599 rows x 5 columns]"
            ]
          },
          "metadata": {
            "tags": []
          },
          "execution_count": 20
        }
      ]
    },
    {
      "cell_type": "code",
      "metadata": {
        "id": "h_ywOc6Rx1Wo",
        "colab_type": "code",
        "colab": {}
      },
      "source": [
        "corpus = df[\"tweet_text\"]\n",
        "corpus_list = corpus.tolist()"
      ],
      "execution_count": 21,
      "outputs": []
    },
    {
      "cell_type": "code",
      "metadata": {
        "id": "_VIVZ6xqApQO",
        "colab_type": "code",
        "colab": {
          "base_uri": "https://localhost:8080/",
          "height": 260
        },
        "outputId": "ecad1ba0-3f9b-4e78-e1c5-fa9cf4e8ee36"
      },
      "source": [
        "#  Language detection\n",
        "data = []\n",
        "for i in corpus_list: \n",
        "  t = Translator().detect(i)\n",
        "  data.append([t.lang, t.confidence, i])\n",
        "  \n",
        "detection_df = pd.DataFrame(data)\n",
        "print(detection_df)"
      ],
      "execution_count": 22,
      "outputs": [
        {
          "output_type": "stream",
          "text": [
            "       0         1                                                  2\n",
            "0     en  1.000000  Sampai bila asyik nk PKP? It's impossible to k...\n",
            "1     ms  0.901573  Laaaa pastu kau nak negera kau miskin??? Sehar...\n",
            "2     en  1.000000  Ismail Sabri: 617 detained on Saturday (July 2...\n",
            "3     en  1.000000  Covid-19: MCO may be enforced again if cases r...\n",
            "4     ms  0.969054  Jangan pkp balik tu je mintak please lah jgn k...\n",
            "...   ..       ...                                                ...\n",
            "1594  en  0.767790  Berat before PKP dh achieved. Next target bera...\n",
            "1595  en  1.000000  With another MCO looming, who knows whats in s...\n",
            "1596  en  1.000000  Selangor Journal | 78 individuals arrested for...\n",
            "1597  en  1.000000  I haven’t touch his phone quite a while like s...\n",
            "1598  en  1.000000  Haha maybe later la bang. Thinking to go hike ...\n",
            "\n",
            "[1599 rows x 3 columns]\n"
          ],
          "name": "stdout"
        }
      ]
    },
    {
      "cell_type": "code",
      "metadata": {
        "id": "ajK16XUcXQKi",
        "colab_type": "code",
        "colab": {
          "base_uri": "https://localhost:8080/",
          "height": 363
        },
        "outputId": "8ee8c36d-fde6-425c-dcd9-a64cbbc94211"
      },
      "source": [
        "  detection_df.columns = ['Lang','Confidence','Text']\n",
        "  s = detection_df.Lang\n",
        "  counts = s.value_counts()\n",
        "  percent100 = s.value_counts(normalize=True).mul(100).round(2).astype(str) + '%'\n",
        "  detection_df2 = pd.DataFrame({'Counts': counts, 'Percentage': percent100})\n",
        "  detection_df2.head(10)"
      ],
      "execution_count": 47,
      "outputs": [
        {
          "output_type": "execute_result",
          "data": {
            "text/html": [
              "<div>\n",
              "<style scoped>\n",
              "    .dataframe tbody tr th:only-of-type {\n",
              "        vertical-align: middle;\n",
              "    }\n",
              "\n",
              "    .dataframe tbody tr th {\n",
              "        vertical-align: top;\n",
              "    }\n",
              "\n",
              "    .dataframe thead th {\n",
              "        text-align: right;\n",
              "    }\n",
              "</style>\n",
              "<table border=\"1\" class=\"dataframe\">\n",
              "  <thead>\n",
              "    <tr style=\"text-align: right;\">\n",
              "      <th></th>\n",
              "      <th>Counts</th>\n",
              "      <th>Percentage</th>\n",
              "    </tr>\n",
              "  </thead>\n",
              "  <tbody>\n",
              "    <tr>\n",
              "      <th>ms</th>\n",
              "      <td>995</td>\n",
              "      <td>62.23%</td>\n",
              "    </tr>\n",
              "    <tr>\n",
              "      <th>en</th>\n",
              "      <td>365</td>\n",
              "      <td>22.83%</td>\n",
              "    </tr>\n",
              "    <tr>\n",
              "      <th>id</th>\n",
              "      <td>67</td>\n",
              "      <td>4.19%</td>\n",
              "    </tr>\n",
              "    <tr>\n",
              "      <th>msid</th>\n",
              "      <td>63</td>\n",
              "      <td>3.94%</td>\n",
              "    </tr>\n",
              "    <tr>\n",
              "      <th>idms</th>\n",
              "      <td>49</td>\n",
              "      <td>3.06%</td>\n",
              "    </tr>\n",
              "    <tr>\n",
              "      <th>ja</th>\n",
              "      <td>10</td>\n",
              "      <td>0.63%</td>\n",
              "    </tr>\n",
              "    <tr>\n",
              "      <th>pl</th>\n",
              "      <td>10</td>\n",
              "      <td>0.63%</td>\n",
              "    </tr>\n",
              "    <tr>\n",
              "      <th>zh-CN</th>\n",
              "      <td>7</td>\n",
              "      <td>0.44%</td>\n",
              "    </tr>\n",
              "    <tr>\n",
              "      <th>tl</th>\n",
              "      <td>6</td>\n",
              "      <td>0.38%</td>\n",
              "    </tr>\n",
              "    <tr>\n",
              "      <th>hi</th>\n",
              "      <td>4</td>\n",
              "      <td>0.25%</td>\n",
              "    </tr>\n",
              "  </tbody>\n",
              "</table>\n",
              "</div>"
            ],
            "text/plain": [
              "       Counts Percentage\n",
              "ms        995     62.23%\n",
              "en        365     22.83%\n",
              "id         67      4.19%\n",
              "msid       63      3.94%\n",
              "idms       49      3.06%\n",
              "ja         10      0.63%\n",
              "pl         10      0.63%\n",
              "zh-CN       7      0.44%\n",
              "tl          6      0.38%\n",
              "hi          4      0.25%"
            ]
          },
          "metadata": {
            "tags": []
          },
          "execution_count": 47
        }
      ]
    },
    {
      "cell_type": "code",
      "metadata": {
        "id": "Aybn8x9MtBxg",
        "colab_type": "code",
        "colab": {
          "base_uri": "https://localhost:8080/",
          "height": 121
        },
        "outputId": "57b002c0-272c-4648-caa1-30ea774e016e"
      },
      "source": [
        "# Available Transformer models\n",
        "malaya.sentiment.available_transformer()"
      ],
      "execution_count": 23,
      "outputs": [
        {
          "output_type": "execute_result",
          "data": {
            "text/plain": [
              "{'albert': ['48.6 MB', 'accuracy: 0.992'],\n",
              " 'alxlnet': ['46.8 MB', 'accuracy: 0.991'],\n",
              " 'bert': ['425.6 MB', 'accuracy: 0.993'],\n",
              " 'tiny-albert': ['22.4 MB', 'accuracy: 0.985'],\n",
              " 'tiny-bert': ['57.4 MB', 'accuracy: 0.987'],\n",
              " 'xlnet': ['446.5 MB', 'accuracy: 0.993']}"
            ]
          },
          "metadata": {
            "tags": []
          },
          "execution_count": 23
        }
      ]
    },
    {
      "cell_type": "code",
      "metadata": {
        "id": "15_95KpeAnUt",
        "colab_type": "code",
        "colab": {
          "base_uri": "https://localhost:8080/",
          "height": 454
        },
        "outputId": "5570211e-5a95-4348-acc0-8b793e84c96b"
      },
      "source": [
        "# Using stacking models for better results\n",
        "# 3 models = BERT-base-bahasa, Multinomial (Complement Naive Bayes) and XLNET-base-bahasa\n",
        "bert = malaya.sentiment.transformer('bert')\n",
        "multinomial = malaya.sentiment.multinomial()\n",
        "xlnet = malaya.sentiment.transformer('xlnet')"
      ],
      "execution_count": 24,
      "outputs": [
        {
          "output_type": "stream",
          "text": [
            "downloading frozen /root/Malaya/sentiment/bert/base model\n"
          ],
          "name": "stdout"
        },
        {
          "output_type": "stream",
          "text": [
            "100%|██████████| 426/426 [00:15<00:00, 27.9MB/s]\n"
          ],
          "name": "stderr"
        },
        {
          "output_type": "stream",
          "text": [
            "downloading frozen /root/Malaya/sentiment/bert/base vocab\n"
          ],
          "name": "stdout"
        },
        {
          "output_type": "stream",
          "text": [
            "184%|██████████| 1.00/0.54 [00:00<00:00, 2.81MB/s]\n"
          ],
          "name": "stderr"
        },
        {
          "output_type": "stream",
          "text": [
            "downloading frozen /root/Malaya/sentiment/bert/base tokenizer\n"
          ],
          "name": "stdout"
        },
        {
          "output_type": "stream",
          "text": [
            "135%|██████████| 1.00/0.74 [00:00<00:00, 2.26MB/s]"
          ],
          "name": "stderr"
        },
        {
          "output_type": "stream",
          "text": [
            "WARNING:tensorflow:From /usr/local/lib/python3.6/dist-packages/malaya/function/__init__.py:73: The name tf.gfile.GFile is deprecated. Please use tf.io.gfile.GFile instead.\n",
            "\n",
            "WARNING:tensorflow:From /usr/local/lib/python3.6/dist-packages/malaya/function/__init__.py:75: The name tf.GraphDef is deprecated. Please use tf.compat.v1.GraphDef instead.\n",
            "\n"
          ],
          "name": "stdout"
        },
        {
          "output_type": "stream",
          "text": [
            "\n"
          ],
          "name": "stderr"
        },
        {
          "output_type": "stream",
          "text": [
            "WARNING:tensorflow:From /usr/local/lib/python3.6/dist-packages/malaya/function/__init__.py:68: The name tf.InteractiveSession is deprecated. Please use tf.compat.v1.InteractiveSession instead.\n",
            "\n",
            "downloading frozen /root/Malaya/sentiment/multinomial model\n"
          ],
          "name": "stdout"
        },
        {
          "output_type": "stream",
          "text": [
            "3.00MB [00:00, 5.57MB/s]                          \n"
          ],
          "name": "stderr"
        },
        {
          "output_type": "stream",
          "text": [
            "downloading frozen /root/Malaya/sentiment/multinomial vector\n"
          ],
          "name": "stdout"
        },
        {
          "output_type": "stream",
          "text": [
            "117%|██████████| 3.00/2.57 [00:00<00:00, 5.66MB/s]\n"
          ],
          "name": "stderr"
        },
        {
          "output_type": "stream",
          "text": [
            "downloading frozen /root/Malaya/sentiment/multinomial bpe\n"
          ],
          "name": "stdout"
        },
        {
          "output_type": "stream",
          "text": [
            "120%|██████████| 1.00/0.83 [00:00<00:00, 2.29MB/s]\n"
          ],
          "name": "stderr"
        },
        {
          "output_type": "stream",
          "text": [
            "downloading frozen /root/Malaya/sentiment/xlnet/base model\n"
          ],
          "name": "stdout"
        },
        {
          "output_type": "stream",
          "text": [
            "447MB [00:17, 26.2MB/s]                         \n"
          ],
          "name": "stderr"
        },
        {
          "output_type": "stream",
          "text": [
            "downloading frozen /root/Malaya/sentiment/xlnet/base vocab\n"
          ],
          "name": "stdout"
        },
        {
          "output_type": "stream",
          "text": [
            "184%|██████████| 1.00/0.54 [00:00<00:00, 2.85MB/s]\n"
          ],
          "name": "stderr"
        },
        {
          "output_type": "stream",
          "text": [
            "downloading frozen /root/Malaya/sentiment/xlnet/base tokenizer\n"
          ],
          "name": "stdout"
        },
        {
          "output_type": "stream",
          "text": [
            "135%|██████████| 1.00/0.74 [00:00<00:00, 2.27MB/s]\n"
          ],
          "name": "stderr"
        }
      ]
    },
    {
      "cell_type": "code",
      "metadata": {
        "id": "lgQOIUjTZzcf",
        "colab_type": "code",
        "colab": {}
      },
      "source": [
        "def cls_corpus(corpus_list):\n",
        "\n",
        "  data = []\n",
        "  for i in corpus_list: \n",
        "    corpus_result = malaya.stack.predict_stack([bert, multinomial, xlnet], [i])\n",
        "    for j in corpus_result:\n",
        "      corpus_result = j.values()\n",
        "      data.append([corpus_result, i])\n",
        "\n",
        "  df = pd.DataFrame(data)\n",
        "  df2 = pd.DataFrame(df[0].values.tolist(), index=df.index)\n",
        "  df2.columns=['Negative', 'Positive', 'Neutral']\n",
        "  df2['Classification'] = df2[['Negative','Positive','Neutral']].idxmax(axis=1)\n",
        "  df2['Text'] = df[1]\n",
        "\n",
        "  class_count  = df2['Classification'].value_counts().sort_index()\n",
        "  plt.figure(figsize=(20,9))\n",
        "  #sns.barplot(class_count.index, class_count.values, alpha=0.8)\n",
        "  ax = class_count.plot.bar(color=['red', 'yellow', 'green'], figsize=(20, 9))\n",
        "  plt.xticks(rotation=0)\n",
        "  plt.title(\"Twitter Sentiment Analysis on {} in Malaysia\".format(keyword), fontweight='bold', fontsize=15)\n",
        "  plt.ylabel('Number of Sentiment', fontweight='bold', fontsize=15)\n",
        "  plt.xlabel('Classification', fontweight='bold', fontsize=15)\n",
        "  plt.grid(True)\n",
        "  \n",
        "  i = 0\n",
        "  label = np.round(class_count.values, 2)\n",
        "  for p in ax.patches:\n",
        "      ax.annotate(str(round(p.get_height(),2 )), (p.get_x() * 1.005, p.get_height() * 1.01), fontweight='bold', fontsize=15)\n",
        "      i = i+1\n",
        "\n",
        "  pd.options.display.max_columns = None\n",
        "  pd.set_option('display.expand_frame_repr', False)\n",
        "  print(df2)\n",
        "  print(\"\")\n",
        "  print(\"Total Number of Tweets: \", df2['Classification'].count())\n",
        "  print(\"\")\n",
        "  s = df2.Classification\n",
        "  counts = s.value_counts()\n",
        "  percent100 = s.value_counts(normalize=True).mul(100).round(2).astype(str) + '%'\n",
        "  df3 = pd.DataFrame({'Counts': counts, 'Percentage': percent100})\n",
        "  print(df3)\n",
        "  print(\"\")\n",
        "  plt.show()"
      ],
      "execution_count": 42,
      "outputs": []
    },
    {
      "cell_type": "code",
      "metadata": {
        "id": "mgVWP5iHakJD",
        "colab_type": "code",
        "colab": {
          "base_uri": "https://localhost:8080/",
          "height": 956
        },
        "outputId": "11ee6b9f-e570-48f5-e903-9785ab27eac3"
      },
      "source": [
        "cls_corpus(corpus_list)"
      ],
      "execution_count": 43,
      "outputs": [
        {
          "output_type": "stream",
          "text": [
            "      Negative  Positive   Neutral Classification                                               Text\n",
            "0     0.209226  0.000017  0.000797       Negative  Sampai bila asyik nk PKP? It's impossible to k...\n",
            "1     0.956293  0.000003  0.000299       Negative  Laaaa pastu kau nak negera kau miskin??? Sehar...\n",
            "2     0.000501  0.840108  0.049552       Positive  Ismail Sabri: 617 detained on Saturday (July 2...\n",
            "3     0.014510  0.056049  0.129552        Neutral  Covid-19: MCO may be enforced again if cases r...\n",
            "4     0.793624  0.000928  0.091833       Negative  Jangan pkp balik tu je mintak please lah jgn k...\n",
            "...        ...       ...       ...            ...                                                ...\n",
            "1594  0.002511  0.619321  0.248577       Positive  Berat before PKP dh achieved. Next target bera...\n",
            "1595  0.000105  0.833269  0.010361       Positive  With another MCO looming, who knows whats in s...\n",
            "1596  0.012792  0.053785  0.266197        Neutral  Selangor Journal | 78 individuals arrested for...\n",
            "1597  0.000018  0.849418  0.001749       Positive  I haven’t touch his phone quite a while like s...\n",
            "1598  0.000038  0.832105  0.003764       Positive  Haha maybe later la bang. Thinking to go hike ...\n",
            "\n",
            "[1599 rows x 5 columns]\n",
            "\n",
            "Total Number of Tweets:  1599\n",
            "\n",
            "          Counts Percentage\n",
            "Negative     774     48.41%\n",
            "Positive     573     35.83%\n",
            "Neutral      252     15.76%\n",
            "\n"
          ],
          "name": "stdout"
        },
        {
          "output_type": "display_data",
          "data": {
            "image/png": "[encoded data removed]",
            "text/plain": [
              "<Figure size 1440x648 with 1 Axes>"
            ]
          },
          "metadata": {
            "tags": [],
            "needs_background": "light"
          }
        }
      ]
    }
  ]
}