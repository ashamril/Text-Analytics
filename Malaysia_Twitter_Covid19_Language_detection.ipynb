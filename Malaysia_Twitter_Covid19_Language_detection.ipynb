{
  "nbformat": 4,
  "nbformat_minor": 0,
  "metadata": {
    "colab": {
      "name": "Malaysia Twitter Covid19 - Language detection.ipynb",
      "provenance": [],
      "collapsed_sections": [],
      "mount_file_id": "1-qewEwEO4dWY87rr6bDq3SRLXgTa6p3Z",
      "authorship_tag": "ABX9TyN+eD60NjnzVporcNcQqKHG",
      "include_colab_link": true
    },
    "kernelspec": {
      "name": "python3",
      "display_name": "Python 3"
    }
  },
  "cells": [
    {
      "cell_type": "markdown",
      "metadata": {
        "id": "view-in-github",
        "colab_type": "text"
      },
      "source": [
        "<a href=\"https://colab.research.google.com/github/ashamril/Text-Analytics/blob/master/Malaysia_Twitter_Covid19_Language_detection.ipynb\" target=\"_parent\"><img src=\"https://colab.research.google.com/assets/colab-badge.svg\" alt=\"Open In Colab\"/></a>"
      ]
    },
    {
      "cell_type": "code",
      "metadata": {
        "id": "itAvpxr8xV5g",
        "colab_type": "code",
        "colab": {
          "base_uri": "https://localhost:8080/",
          "height": 124
        },
        "outputId": "3cf256bf-203c-4ed8-f045-875debe5843f"
      },
      "source": [
        "import pandas as pd\n",
        "from google.colab import drive\n",
        "drive.mount('/content/drive', force_remount=True)"
      ],
      "execution_count": 1,
      "outputs": [
        {
          "output_type": "stream",
          "text": [
            "Go to this URL in a browser: https://accounts.google.com/o/oauth2/auth?client_id=947318989803-6bn6qk8qdgf4n4g3pfee6491hc0brc4i.apps.googleusercontent.com&redirect_uri=urn%3aietf%3awg%3aoauth%3a2.0%3aoob&response_type=code&scope=email%20https%3a%2f%2fwww.googleapis.com%2fauth%2fdocs.test%20https%3a%2f%2fwww.googleapis.com%2fauth%2fdrive%20https%3a%2f%2fwww.googleapis.com%2fauth%2fdrive.photos.readonly%20https%3a%2f%2fwww.googleapis.com%2fauth%2fpeopleapi.readonly\n",
            "\n",
            "Enter your authorization code:\n",
            "··········\n",
            "Mounted at /content/drive\n"
          ],
          "name": "stdout"
        }
      ]
    },
    {
      "cell_type": "code",
      "metadata": {
        "id": "6py5AIof9pvT",
        "colab_type": "code",
        "colab": {}
      },
      "source": [
        "file_path_feb = \"/content/drive/My Drive/Twitter Covid Coronavirus/tweet_malaysia-covid-feb-2020-cleaned.csv\"\n",
        "file_path_mac = \"/content/drive/My Drive/Twitter Covid Coronavirus/tweet_malaysia-covid-mac-2020-cleaned.csv\"\n",
        "file_path_apr = \"/content/drive/My Drive/Twitter Covid Coronavirus/tweet_malaysia-covid-apr-2020-cleaned.csv\"\n",
        "file_path_may = \"/content/drive/My Drive/Twitter Covid Coronavirus/tweet_malaysia-covid-may-2020-cleaned.csv\"\n",
        "file_path_jun = \"/content/drive/My Drive/Twitter Covid Coronavirus/tweet_malaysia-covid-jun-2020-cleaned.csv\""
      ],
      "execution_count": 2,
      "outputs": []
    },
    {
      "cell_type": "code",
      "metadata": {
        "id": "h_ywOc6Rx1Wo",
        "colab_type": "code",
        "colab": {}
      },
      "source": [
        "corpus_feb = pd.read_csv(file_path_feb, quotechar='\"')\n",
        "corpus_list_feb = corpus_feb[\"text\"].tolist()\n",
        "corpus_mac = pd.read_csv(file_path_mac, quotechar='\"')\n",
        "corpus_list_mac = corpus_mac[\"text\"].tolist() \n",
        "corpus_apr = pd.read_csv(file_path_apr, quotechar='\"')\n",
        "corpus_list_apr = corpus_apr[\"text\"].tolist() \n",
        "corpus_may = pd.read_csv(file_path_may, quotechar='\"')\n",
        "corpus_list_may = corpus_may[\"text\"].tolist() \n",
        "corpus_jun = pd.read_csv(file_path_jun, quotechar='\"')\n",
        "corpus_list_jun = corpus_jun[\"text\"].tolist() "
      ],
      "execution_count": 3,
      "outputs": []
    },
    {
      "cell_type": "code",
      "metadata": {
        "id": "0s0KbqoJksh3",
        "colab_type": "code",
        "colab": {}
      },
      "source": [
        "# # Lists too long, have to split into 2 lists\n",
        "# def split_list(a_list):\n",
        "#     half = len(a_list)//2\n",
        "#     return a_list[:half], a_list[half:]"
      ],
      "execution_count": 4,
      "outputs": []
    },
    {
      "cell_type": "code",
      "metadata": {
        "id": "WYq5p9yNszvg",
        "colab_type": "code",
        "colab": {}
      },
      "source": [
        "# corpus_list_feb_part1, corpus_list_feb_part2 = split_list(corpus_list_feb)\n",
        "# corpus_list_mac_part1, corpus_list_mac_part2 = split_list(corpus_list_mac)\n",
        "# corpus_list_apr_part1, corpus_list_apr_part2 = split_list(corpus_list_apr)\n",
        "# corpus_list_may_part1, corpus_list_may_part2 = split_list(corpus_list_may)\n",
        "# corpus_list_jun_part1, corpus_list_jun_part2 = split_list(corpus_list_jun)"
      ],
      "execution_count": 5,
      "outputs": []
    },
    {
      "cell_type": "code",
      "metadata": {
        "id": "oZYJjRi0IqPk",
        "colab_type": "code",
        "colab": {}
      },
      "source": [
        "all_corpus = corpus_list_feb + corpus_list_mac + corpus_list_apr + corpus_list_may + corpus_list_jun"
      ],
      "execution_count": 6,
      "outputs": []
    },
    {
      "cell_type": "code",
      "metadata": {
        "id": "f-uokPBDxv0s",
        "colab_type": "code",
        "colab": {
          "base_uri": "https://localhost:8080/",
          "height": 34
        },
        "outputId": "58c17556-8a42-456a-fb52-5050ee57fd13"
      },
      "source": [
        "L = all_corpus\n",
        "print(\"Total Tweets: \", len(L))"
      ],
      "execution_count": 12,
      "outputs": [
        {
          "output_type": "stream",
          "text": [
            "Total Tweets:  4590\n"
          ],
          "name": "stdout"
        }
      ]
    },
    {
      "cell_type": "code",
      "metadata": {
        "id": "I9zf1o-XtkPJ",
        "colab_type": "code",
        "colab": {
          "base_uri": "https://localhost:8080/",
          "height": 764
        },
        "outputId": "d687bf4f-279c-4d3e-9eda-9f2740b209cf"
      },
      "source": [
        "%pip install googletrans"
      ],
      "execution_count": 13,
      "outputs": [
        {
          "output_type": "stream",
          "text": [
            "Collecting googletrans\n",
            "  Downloading https://files.pythonhosted.org/packages/71/3a/3b19effdd4c03958b90f40fe01c93de6d5280e03843cc5adf6956bfc9512/googletrans-3.0.0.tar.gz\n",
            "Collecting httpx==0.13.3\n",
            "\u001b[?25l  Downloading https://files.pythonhosted.org/packages/54/b4/698b284c6aed4d7c2b4fe3ba5df1fcf6093612423797e76fbb24890dd22f/httpx-0.13.3-py3-none-any.whl (55kB)\n",
            "\u001b[K     |████████████████████████████████| 61kB 5.5MB/s \n",
            "\u001b[?25hCollecting httpcore==0.9.*\n",
            "\u001b[?25l  Downloading https://files.pythonhosted.org/packages/dd/d5/e4ff9318693ac6101a2095e580908b591838c6f33df8d3ee8dd953ba96a8/httpcore-0.9.1-py3-none-any.whl (42kB)\n",
            "\u001b[K     |████████████████████████████████| 51kB 5.9MB/s \n",
            "\u001b[?25hCollecting rfc3986<2,>=1.3\n",
            "  Downloading https://files.pythonhosted.org/packages/78/be/7b8b99fd74ff5684225f50dd0e865393d2265656ef3b4ba9eaaaffe622b8/rfc3986-1.4.0-py2.py3-none-any.whl\n",
            "Requirement already satisfied: certifi in /usr/local/lib/python3.6/dist-packages (from httpx==0.13.3->googletrans) (2020.6.20)\n",
            "Collecting hstspreload\n",
            "\u001b[?25l  Downloading https://files.pythonhosted.org/packages/2c/d2/8710b5ca39254c38b0aab4bbba944b66fdd833460c8220fa13451a37ef99/hstspreload-2020.7.21-py3-none-any.whl (922kB)\n",
            "\u001b[K     |████████████████████████████████| 931kB 14.8MB/s \n",
            "\u001b[?25hRequirement already satisfied: idna==2.* in /usr/local/lib/python3.6/dist-packages (from httpx==0.13.3->googletrans) (2.10)\n",
            "Requirement already satisfied: chardet==3.* in /usr/local/lib/python3.6/dist-packages (from httpx==0.13.3->googletrans) (3.0.4)\n",
            "Collecting sniffio\n",
            "  Downloading https://files.pythonhosted.org/packages/b3/82/4bd4b7d9c0d1dc0fbfbc2a1e00138e7f3ab85bc239358fe9b78aa2ab586d/sniffio-1.1.0-py3-none-any.whl\n",
            "Collecting h2==3.*\n",
            "\u001b[?25l  Downloading https://files.pythonhosted.org/packages/25/de/da019bcc539eeab02f6d45836f23858ac467f584bfec7a526ef200242afe/h2-3.2.0-py2.py3-none-any.whl (65kB)\n",
            "\u001b[K     |████████████████████████████████| 71kB 7.0MB/s \n",
            "\u001b[?25hCollecting h11<0.10,>=0.8\n",
            "\u001b[?25l  Downloading https://files.pythonhosted.org/packages/5a/fd/3dad730b0f95e78aeeb742f96fa7bbecbdd56a58e405d3da440d5bfb90c6/h11-0.9.0-py2.py3-none-any.whl (53kB)\n",
            "\u001b[K     |████████████████████████████████| 61kB 7.4MB/s \n",
            "\u001b[?25hCollecting contextvars>=2.1; python_version < \"3.7\"\n",
            "  Downloading https://files.pythonhosted.org/packages/83/96/55b82d9f13763be9d672622e1b8106c85acb83edd7cc2fa5bc67cd9877e9/contextvars-2.4.tar.gz\n",
            "Collecting hyperframe<6,>=5.2.0\n",
            "  Downloading https://files.pythonhosted.org/packages/19/0c/bf88182bcb5dce3094e2f3e4fe20db28a9928cb7bd5b08024030e4b140db/hyperframe-5.2.0-py2.py3-none-any.whl\n",
            "Collecting hpack<4,>=3.0\n",
            "  Downloading https://files.pythonhosted.org/packages/8a/cc/e53517f4a1e13f74776ca93271caef378dadec14d71c61c949d759d3db69/hpack-3.0.0-py2.py3-none-any.whl\n",
            "Collecting immutables>=0.9\n",
            "\u001b[?25l  Downloading https://files.pythonhosted.org/packages/99/e0/ea6fd4697120327d26773b5a84853f897a68e33d3f9376b00a8ff96e4f63/immutables-0.14-cp36-cp36m-manylinux1_x86_64.whl (98kB)\n",
            "\u001b[K     |████████████████████████████████| 102kB 10.5MB/s \n",
            "\u001b[?25hBuilding wheels for collected packages: googletrans, contextvars\n",
            "  Building wheel for googletrans (setup.py) ... \u001b[?25l\u001b[?25hdone\n",
            "  Created wheel for googletrans: filename=googletrans-3.0.0-cp36-none-any.whl size=15736 sha256=aa9e2753af096b2bd4337a07a972501cd4c942a0bc71ad0508082afe4ad0a251\n",
            "  Stored in directory: /root/.cache/pip/wheels/28/1a/a7/eaf4d7a3417a0c65796c547cff4deb6d79c7d14c2abd29273e\n",
            "  Building wheel for contextvars (setup.py) ... \u001b[?25l\u001b[?25hdone\n",
            "  Created wheel for contextvars: filename=contextvars-2.4-cp36-none-any.whl size=7666 sha256=cad30e6e6adf165b8a573793ee82ec1d714b8518e69f21995e6f1b2913ac66a0\n",
            "  Stored in directory: /root/.cache/pip/wheels/a5/7d/68/1ebae2668bda2228686e3c1cf16f2c2384cea6e9334ad5f6de\n",
            "Successfully built googletrans contextvars\n",
            "Installing collected packages: hyperframe, hpack, h2, immutables, contextvars, sniffio, h11, httpcore, rfc3986, hstspreload, httpx, googletrans\n",
            "Successfully installed contextvars-2.4 googletrans-3.0.0 h11-0.9.0 h2-3.2.0 hpack-3.0.0 hstspreload-2020.7.21 httpcore-0.9.1 httpx-0.13.3 hyperframe-5.2.0 immutables-0.14 rfc3986-1.4.0 sniffio-1.1.0\n"
          ],
          "name": "stdout"
        }
      ]
    },
    {
      "cell_type": "code",
      "metadata": {
        "id": "h8AtuE6Bz02Q",
        "colab_type": "code",
        "colab": {
          "base_uri": "https://localhost:8080/",
          "height": 260
        },
        "outputId": "df8bec46-fe1d-453d-c096-ca8f2d4319b9"
      },
      "source": [
        "# Method 1\n",
        "from googletrans import Translator\n",
        "\n",
        "data = []\n",
        "for i in L: \n",
        "  # Language Detection \n",
        "  t = Translator().detect(i)\n",
        "  data.append([t.lang, t.confidence, i])\n",
        "  #print(t.lang, t.confidence, i) \n",
        "\n",
        "df = pd.DataFrame(data)\n",
        "print(df)"
      ],
      "execution_count": 14,
      "outputs": [
        {
          "output_type": "stream",
          "text": [
            "         0         1                                                  2\n",
            "0       en  1.000000  Tourism body sees silver lining after covid19 ...\n",
            "1       en  1.000000  will continue to be investor-friendly despite ...\n",
            "2       id  0.831667   Airlines banyak gila buat sale. Tapi apakan daya\n",
            "3       en  1.000000         Whatever state is happening at this moment\n",
            "4       en  1.000000  Several factors affect economy such as politic...\n",
            "...    ...       ...                                                ...\n",
            "4585    ms  0.833178  Mendeeeee sanggup la aku tunggu covid ni elok ...\n",
            "4586  msid  0.501354    akhirnya dapat juga bertemu dengan si covid ni \n",
            "4587    en  1.000000  1GB free internet everyday for everyone until ...\n",
            "4588    en  1.000000  Enriched Air Specialty Course (e-learning, dry...\n",
            "4589    ms  0.972142  Tahun ni sedih sikit tak dapat travel overseas...\n",
            "\n",
            "[4590 rows x 3 columns]\n"
          ],
          "name": "stdout"
        }
      ]
    },
    {
      "cell_type": "code",
      "metadata": {
        "id": "9Ak2BzTE8VwD",
        "colab_type": "code",
        "colab": {
          "base_uri": "https://localhost:8080/",
          "height": 816
        },
        "outputId": "ea9ee910-bc95-4738-9198-6dc56eb41d50"
      },
      "source": [
        "df.columns = ['Lang','Confidence','Text']\n",
        "df['Lang'].value_counts()"
      ],
      "execution_count": 15,
      "outputs": [
        {
          "output_type": "execute_result",
          "data": {
            "text/plain": [
              "ms       2591\n",
              "en       1491\n",
              "id        177\n",
              "msid      134\n",
              "idms       96\n",
              "jw         20\n",
              "enms       11\n",
              "msen        7\n",
              "es          6\n",
              "su          5\n",
              "hi          5\n",
              "tl          4\n",
              "ceb         3\n",
              "gu          2\n",
              "fr          2\n",
              "el          2\n",
              "enid        2\n",
              "bn          2\n",
              "haw         2\n",
              "pt          2\n",
              "tr          2\n",
              "ha          1\n",
              "eo          1\n",
              "enjw        1\n",
              "nl          1\n",
              "sl          1\n",
              "no          1\n",
              "sk          1\n",
              "svpl        1\n",
              "hr          1\n",
              "sn          1\n",
              "kn          1\n",
              "so          1\n",
              "hmn         1\n",
              "sv          1\n",
              "entl        1\n",
              "msjw        1\n",
              "hiid        1\n",
              "mssu        1\n",
              "te          1\n",
              "zh-CN       1\n",
              "th          1\n",
              "jwms        1\n",
              "ja          1\n",
              "mlen        1\n",
              "Name: Lang, dtype: int64"
            ]
          },
          "metadata": {
            "tags": []
          },
          "execution_count": 15
        }
      ]
    },
    {
      "cell_type": "code",
      "metadata": {
        "id": "Vru2lkH7t8tM",
        "colab_type": "code",
        "colab": {
          "base_uri": "https://localhost:8080/",
          "height": 208
        },
        "outputId": "b75e0377-6b77-4b6b-c09c-0b9e71151db5"
      },
      "source": [
        "%pip install langdetect"
      ],
      "execution_count": 16,
      "outputs": [
        {
          "output_type": "stream",
          "text": [
            "Collecting langdetect\n",
            "\u001b[?25l  Downloading https://files.pythonhosted.org/packages/56/a3/8407c1e62d5980188b4acc45ef3d94b933d14a2ebc9ef3505f22cf772570/langdetect-1.0.8.tar.gz (981kB)\n",
            "\r\u001b[K     |▍                               | 10kB 18.0MB/s eta 0:00:01\r\u001b[K     |▊                               | 20kB 5.8MB/s eta 0:00:01\r\u001b[K     |█                               | 30kB 5.6MB/s eta 0:00:01\r\u001b[K     |█▍                              | 40kB 6.4MB/s eta 0:00:01\r\u001b[K     |█▊                              | 51kB 6.2MB/s eta 0:00:01\r\u001b[K     |██                              | 61kB 6.5MB/s eta 0:00:01\r\u001b[K     |██▍                             | 71kB 7.2MB/s eta 0:00:01\r\u001b[K     |██▊                             | 81kB 7.1MB/s eta 0:00:01\r\u001b[K     |███                             | 92kB 7.1MB/s eta 0:00:01\r\u001b[K     |███▍                            | 102kB 6.8MB/s eta 0:00:01\r\u001b[K     |███▊                            | 112kB 6.8MB/s eta 0:00:01\r\u001b[K     |████                            | 122kB 6.8MB/s eta 0:00:01\r\u001b[K     |████▍                           | 133kB 6.8MB/s eta 0:00:01\r\u001b[K     |████▊                           | 143kB 6.8MB/s eta 0:00:01\r\u001b[K     |█████                           | 153kB 6.8MB/s eta 0:00:01\r\u001b[K     |█████▍                          | 163kB 6.8MB/s eta 0:00:01\r\u001b[K     |█████▊                          | 174kB 6.8MB/s eta 0:00:01\r\u001b[K     |██████                          | 184kB 6.8MB/s eta 0:00:01\r\u001b[K     |██████▍                         | 194kB 6.8MB/s eta 0:00:01\r\u001b[K     |██████▊                         | 204kB 6.8MB/s eta 0:00:01\r\u001b[K     |███████                         | 215kB 6.8MB/s eta 0:00:01\r\u001b[K     |███████▍                        | 225kB 6.8MB/s eta 0:00:01\r\u001b[K     |███████▊                        | 235kB 6.8MB/s eta 0:00:01\r\u001b[K     |████████                        | 245kB 6.8MB/s eta 0:00:01\r\u001b[K     |████████▍                       | 256kB 6.8MB/s eta 0:00:01\r\u001b[K     |████████▊                       | 266kB 6.8MB/s eta 0:00:01\r\u001b[K     |█████████                       | 276kB 6.8MB/s eta 0:00:01\r\u001b[K     |█████████▍                      | 286kB 6.8MB/s eta 0:00:01\r\u001b[K     |█████████▊                      | 296kB 6.8MB/s eta 0:00:01\r\u001b[K     |██████████                      | 307kB 6.8MB/s eta 0:00:01\r\u001b[K     |██████████▍                     | 317kB 6.8MB/s eta 0:00:01\r\u001b[K     |██████████▊                     | 327kB 6.8MB/s eta 0:00:01\r\u001b[K     |███████████                     | 337kB 6.8MB/s eta 0:00:01\r\u001b[K     |███████████▍                    | 348kB 6.8MB/s eta 0:00:01\r\u001b[K     |███████████▊                    | 358kB 6.8MB/s eta 0:00:01\r\u001b[K     |████████████                    | 368kB 6.8MB/s eta 0:00:01\r\u001b[K     |████████████▍                   | 378kB 6.8MB/s eta 0:00:01\r\u001b[K     |████████████▊                   | 389kB 6.8MB/s eta 0:00:01\r\u001b[K     |█████████████                   | 399kB 6.8MB/s eta 0:00:01\r\u001b[K     |█████████████▍                  | 409kB 6.8MB/s eta 0:00:01\r\u001b[K     |█████████████▊                  | 419kB 6.8MB/s eta 0:00:01\r\u001b[K     |██████████████                  | 430kB 6.8MB/s eta 0:00:01\r\u001b[K     |██████████████▍                 | 440kB 6.8MB/s eta 0:00:01\r\u001b[K     |██████████████▊                 | 450kB 6.8MB/s eta 0:00:01\r\u001b[K     |███████████████                 | 460kB 6.8MB/s eta 0:00:01\r\u001b[K     |███████████████▍                | 471kB 6.8MB/s eta 0:00:01\r\u001b[K     |███████████████▊                | 481kB 6.8MB/s eta 0:00:01\r\u001b[K     |████████████████                | 491kB 6.8MB/s eta 0:00:01\r\u001b[K     |████████████████▍               | 501kB 6.8MB/s eta 0:00:01\r\u001b[K     |████████████████▊               | 512kB 6.8MB/s eta 0:00:01\r\u001b[K     |█████████████████               | 522kB 6.8MB/s eta 0:00:01\r\u001b[K     |█████████████████▍              | 532kB 6.8MB/s eta 0:00:01\r\u001b[K     |█████████████████▊              | 542kB 6.8MB/s eta 0:00:01\r\u001b[K     |██████████████████              | 552kB 6.8MB/s eta 0:00:01\r\u001b[K     |██████████████████▍             | 563kB 6.8MB/s eta 0:00:01\r\u001b[K     |██████████████████▊             | 573kB 6.8MB/s eta 0:00:01\r\u001b[K     |███████████████████             | 583kB 6.8MB/s eta 0:00:01\r\u001b[K     |███████████████████▍            | 593kB 6.8MB/s eta 0:00:01\r\u001b[K     |███████████████████▊            | 604kB 6.8MB/s eta 0:00:01\r\u001b[K     |████████████████████            | 614kB 6.8MB/s eta 0:00:01\r\u001b[K     |████████████████████▍           | 624kB 6.8MB/s eta 0:00:01\r\u001b[K     |████████████████████▊           | 634kB 6.8MB/s eta 0:00:01\r\u001b[K     |█████████████████████           | 645kB 6.8MB/s eta 0:00:01\r\u001b[K     |█████████████████████▍          | 655kB 6.8MB/s eta 0:00:01\r\u001b[K     |█████████████████████▊          | 665kB 6.8MB/s eta 0:00:01\r\u001b[K     |██████████████████████          | 675kB 6.8MB/s eta 0:00:01\r\u001b[K     |██████████████████████▍         | 686kB 6.8MB/s eta 0:00:01\r\u001b[K     |██████████████████████▊         | 696kB 6.8MB/s eta 0:00:01\r\u001b[K     |███████████████████████         | 706kB 6.8MB/s eta 0:00:01\r\u001b[K     |███████████████████████▍        | 716kB 6.8MB/s eta 0:00:01\r\u001b[K     |███████████████████████▊        | 727kB 6.8MB/s eta 0:00:01\r\u001b[K     |████████████████████████        | 737kB 6.8MB/s eta 0:00:01\r\u001b[K     |████████████████████████▍       | 747kB 6.8MB/s eta 0:00:01\r\u001b[K     |████████████████████████▊       | 757kB 6.8MB/s eta 0:00:01\r\u001b[K     |█████████████████████████       | 768kB 6.8MB/s eta 0:00:01\r\u001b[K     |█████████████████████████▍      | 778kB 6.8MB/s eta 0:00:01\r\u001b[K     |█████████████████████████▊      | 788kB 6.8MB/s eta 0:00:01\r\u001b[K     |██████████████████████████      | 798kB 6.8MB/s eta 0:00:01\r\u001b[K     |██████████████████████████▍     | 808kB 6.8MB/s eta 0:00:01\r\u001b[K     |██████████████████████████▊     | 819kB 6.8MB/s eta 0:00:01\r\u001b[K     |███████████████████████████     | 829kB 6.8MB/s eta 0:00:01\r\u001b[K     |███████████████████████████▍    | 839kB 6.8MB/s eta 0:00:01\r\u001b[K     |███████████████████████████▊    | 849kB 6.8MB/s eta 0:00:01\r\u001b[K     |████████████████████████████    | 860kB 6.8MB/s eta 0:00:01\r\u001b[K     |████████████████████████████▍   | 870kB 6.8MB/s eta 0:00:01\r\u001b[K     |████████████████████████████▊   | 880kB 6.8MB/s eta 0:00:01\r\u001b[K     |█████████████████████████████   | 890kB 6.8MB/s eta 0:00:01\r\u001b[K     |█████████████████████████████▍  | 901kB 6.8MB/s eta 0:00:01\r\u001b[K     |█████████████████████████████▊  | 911kB 6.8MB/s eta 0:00:01\r\u001b[K     |██████████████████████████████  | 921kB 6.8MB/s eta 0:00:01\r\u001b[K     |██████████████████████████████▍ | 931kB 6.8MB/s eta 0:00:01\r\u001b[K     |██████████████████████████████▊ | 942kB 6.8MB/s eta 0:00:01\r\u001b[K     |███████████████████████████████ | 952kB 6.8MB/s eta 0:00:01\r\u001b[K     |███████████████████████████████▍| 962kB 6.8MB/s eta 0:00:01\r\u001b[K     |███████████████████████████████▊| 972kB 6.8MB/s eta 0:00:01\r\u001b[K     |████████████████████████████████| 983kB 6.8MB/s \n",
            "\u001b[?25hRequirement already satisfied: six in /usr/local/lib/python3.6/dist-packages (from langdetect) (1.12.0)\n",
            "Building wheels for collected packages: langdetect\n",
            "  Building wheel for langdetect (setup.py) ... \u001b[?25l\u001b[?25hdone\n",
            "  Created wheel for langdetect: filename=langdetect-1.0.8-cp36-none-any.whl size=993193 sha256=fd5aee34c97b5c9597fee5f7896ec3af39b1bcdbc2aa6727483e9764445ca29f\n",
            "  Stored in directory: /root/.cache/pip/wheels/8d/b3/aa/6d99de9f3841d7d3d40a60ea06e6d669e8e5012e6c8b947a57\n",
            "Successfully built langdetect\n",
            "Installing collected packages: langdetect\n",
            "Successfully installed langdetect-1.0.8\n"
          ],
          "name": "stdout"
        }
      ]
    },
    {
      "cell_type": "code",
      "metadata": {
        "id": "l-F7Z5WBt2R4",
        "colab_type": "code",
        "colab": {
          "base_uri": "https://localhost:8080/",
          "height": 260
        },
        "outputId": "5afed437-747f-4e46-e551-7a0d523ddc19"
      },
      "source": [
        "# Method 2\n",
        "from langdetect import detect\n",
        "\n",
        "data = []\n",
        "for i in L: \n",
        "  # Language Detection \n",
        "  lang = detect(i)  \n",
        "  data.append([lang, i])\n",
        "  #print(lang, i) \n",
        "\n",
        "df = pd.DataFrame(data)\n",
        "print(df)"
      ],
      "execution_count": 17,
      "outputs": [
        {
          "output_type": "stream",
          "text": [
            "       0                                                  1\n",
            "0     en  Tourism body sees silver lining after covid19 ...\n",
            "1     en  will continue to be investor-friendly despite ...\n",
            "2     id   Airlines banyak gila buat sale. Tapi apakan daya\n",
            "3     en         Whatever state is happening at this moment\n",
            "4     en  Several factors affect economy such as politic...\n",
            "...   ..                                                ...\n",
            "4585  id  Mendeeeee sanggup la aku tunggu covid ni elok ...\n",
            "4586  id    akhirnya dapat juga bertemu dengan si covid ni \n",
            "4587  en  1GB free internet everyday for everyone until ...\n",
            "4588  en  Enriched Air Specialty Course (e-learning, dry...\n",
            "4589  id  Tahun ni sedih sikit tak dapat travel overseas...\n",
            "\n",
            "[4590 rows x 2 columns]\n"
          ],
          "name": "stdout"
        }
      ]
    },
    {
      "cell_type": "code",
      "metadata": {
        "id": "UPTDYIft9PTC",
        "colab_type": "code",
        "colab": {
          "base_uri": "https://localhost:8080/",
          "height": 521
        },
        "outputId": "dce7f297-256a-41ff-d1af-920940f5bf38"
      },
      "source": [
        "df.columns = ['Lang', 'Text']\n",
        "df['Lang'].value_counts()"
      ],
      "execution_count": 18,
      "outputs": [
        {
          "output_type": "execute_result",
          "data": {
            "text/plain": [
              "id    2799\n",
              "en    1614\n",
              "et      29\n",
              "es      26\n",
              "tl      17\n",
              "it      14\n",
              "hr      11\n",
              "sl      11\n",
              "so      10\n",
              "ro       9\n",
              "pt       8\n",
              "ca       7\n",
              "fr       6\n",
              "da       4\n",
              "sk       3\n",
              "af       3\n",
              "nl       3\n",
              "sv       3\n",
              "no       2\n",
              "tr       2\n",
              "de       2\n",
              "pl       1\n",
              "cy       1\n",
              "cs       1\n",
              "lt       1\n",
              "bn       1\n",
              "fi       1\n",
              "hu       1\n",
              "Name: Lang, dtype: int64"
            ]
          },
          "metadata": {
            "tags": []
          },
          "execution_count": 18
        }
      ]
    },
    {
      "cell_type": "code",
      "metadata": {
        "id": "G1BRRTC29XOA",
        "colab_type": "code",
        "colab": {
          "base_uri": "https://localhost:8080/",
          "height": 521
        },
        "outputId": "a21112cb-ea89-4599-c7d1-c5647e427e2a"
      },
      "source": [
        "df.columns = ['Lang', 'Text']\n",
        "df['Lang'].value_counts()"
      ],
      "execution_count": 19,
      "outputs": [
        {
          "output_type": "execute_result",
          "data": {
            "text/plain": [
              "id    2799\n",
              "en    1614\n",
              "et      29\n",
              "es      26\n",
              "tl      17\n",
              "it      14\n",
              "hr      11\n",
              "sl      11\n",
              "so      10\n",
              "ro       9\n",
              "pt       8\n",
              "ca       7\n",
              "fr       6\n",
              "da       4\n",
              "sk       3\n",
              "af       3\n",
              "nl       3\n",
              "sv       3\n",
              "no       2\n",
              "tr       2\n",
              "de       2\n",
              "pl       1\n",
              "cy       1\n",
              "cs       1\n",
              "lt       1\n",
              "bn       1\n",
              "fi       1\n",
              "hu       1\n",
              "Name: Lang, dtype: int64"
            ]
          },
          "metadata": {
            "tags": []
          },
          "execution_count": 19
        }
      ]
    },
    {
      "cell_type": "code",
      "metadata": {
        "id": "jIkw8MM5xTgh",
        "colab_type": "code",
        "colab": {
          "base_uri": "https://localhost:8080/",
          "height": 208
        },
        "outputId": "23a27174-7036-4e09-932f-2e296dc74ce7"
      },
      "source": [
        "%pip install langid"
      ],
      "execution_count": 20,
      "outputs": [
        {
          "output_type": "stream",
          "text": [
            "Collecting langid\n",
            "\u001b[?25l  Downloading https://files.pythonhosted.org/packages/ea/4c/0fb7d900d3b0b9c8703be316fbddffecdab23c64e1b46c7a83561d78bd43/langid-1.1.6.tar.gz (1.9MB)\n",
            "\r\u001b[K     |▏                               | 10kB 18.4MB/s eta 0:00:01\r\u001b[K     |▍                               | 20kB 7.2MB/s eta 0:00:01\r\u001b[K     |▌                               | 30kB 8.3MB/s eta 0:00:01\r\u001b[K     |▊                               | 40kB 7.9MB/s eta 0:00:01\r\u001b[K     |▉                               | 51kB 7.3MB/s eta 0:00:01\r\u001b[K     |█                               | 61kB 7.7MB/s eta 0:00:01\r\u001b[K     |█▏                              | 71kB 8.3MB/s eta 0:00:01\r\u001b[K     |█▍                              | 81kB 8.7MB/s eta 0:00:01\r\u001b[K     |█▌                              | 92kB 8.5MB/s eta 0:00:01\r\u001b[K     |█▊                              | 102kB 8.6MB/s eta 0:00:01\r\u001b[K     |█▉                              | 112kB 8.6MB/s eta 0:00:01\r\u001b[K     |██                              | 122kB 8.6MB/s eta 0:00:01\r\u001b[K     |██▏                             | 133kB 8.6MB/s eta 0:00:01\r\u001b[K     |██▍                             | 143kB 8.6MB/s eta 0:00:01\r\u001b[K     |██▌                             | 153kB 8.6MB/s eta 0:00:01\r\u001b[K     |██▊                             | 163kB 8.6MB/s eta 0:00:01\r\u001b[K     |███                             | 174kB 8.6MB/s eta 0:00:01\r\u001b[K     |███                             | 184kB 8.6MB/s eta 0:00:01\r\u001b[K     |███▎                            | 194kB 8.6MB/s eta 0:00:01\r\u001b[K     |███▍                            | 204kB 8.6MB/s eta 0:00:01\r\u001b[K     |███▋                            | 215kB 8.6MB/s eta 0:00:01\r\u001b[K     |███▊                            | 225kB 8.6MB/s eta 0:00:01\r\u001b[K     |████                            | 235kB 8.6MB/s eta 0:00:01\r\u001b[K     |████                            | 245kB 8.6MB/s eta 0:00:01\r\u001b[K     |████▎                           | 256kB 8.6MB/s eta 0:00:01\r\u001b[K     |████▍                           | 266kB 8.6MB/s eta 0:00:01\r\u001b[K     |████▋                           | 276kB 8.6MB/s eta 0:00:01\r\u001b[K     |████▊                           | 286kB 8.6MB/s eta 0:00:01\r\u001b[K     |█████                           | 296kB 8.6MB/s eta 0:00:01\r\u001b[K     |█████                           | 307kB 8.6MB/s eta 0:00:01\r\u001b[K     |█████▎                          | 317kB 8.6MB/s eta 0:00:01\r\u001b[K     |█████▍                          | 327kB 8.6MB/s eta 0:00:01\r\u001b[K     |█████▋                          | 337kB 8.6MB/s eta 0:00:01\r\u001b[K     |█████▉                          | 348kB 8.6MB/s eta 0:00:01\r\u001b[K     |██████                          | 358kB 8.6MB/s eta 0:00:01\r\u001b[K     |██████▏                         | 368kB 8.6MB/s eta 0:00:01\r\u001b[K     |██████▎                         | 378kB 8.6MB/s eta 0:00:01\r\u001b[K     |██████▌                         | 389kB 8.6MB/s eta 0:00:01\r\u001b[K     |██████▋                         | 399kB 8.6MB/s eta 0:00:01\r\u001b[K     |██████▉                         | 409kB 8.6MB/s eta 0:00:01\r\u001b[K     |███████                         | 419kB 8.6MB/s eta 0:00:01\r\u001b[K     |███████▏                        | 430kB 8.6MB/s eta 0:00:01\r\u001b[K     |███████▎                        | 440kB 8.6MB/s eta 0:00:01\r\u001b[K     |███████▌                        | 450kB 8.6MB/s eta 0:00:01\r\u001b[K     |███████▋                        | 460kB 8.6MB/s eta 0:00:01\r\u001b[K     |███████▉                        | 471kB 8.6MB/s eta 0:00:01\r\u001b[K     |████████                        | 481kB 8.6MB/s eta 0:00:01\r\u001b[K     |████████▏                       | 491kB 8.6MB/s eta 0:00:01\r\u001b[K     |████████▍                       | 501kB 8.6MB/s eta 0:00:01\r\u001b[K     |████████▌                       | 512kB 8.6MB/s eta 0:00:01\r\u001b[K     |████████▊                       | 522kB 8.6MB/s eta 0:00:01\r\u001b[K     |████████▉                       | 532kB 8.6MB/s eta 0:00:01\r\u001b[K     |█████████                       | 542kB 8.6MB/s eta 0:00:01\r\u001b[K     |█████████▏                      | 552kB 8.6MB/s eta 0:00:01\r\u001b[K     |█████████▍                      | 563kB 8.6MB/s eta 0:00:01\r\u001b[K     |█████████▌                      | 573kB 8.6MB/s eta 0:00:01\r\u001b[K     |█████████▊                      | 583kB 8.6MB/s eta 0:00:01\r\u001b[K     |█████████▉                      | 593kB 8.6MB/s eta 0:00:01\r\u001b[K     |██████████                      | 604kB 8.6MB/s eta 0:00:01\r\u001b[K     |██████████▏                     | 614kB 8.6MB/s eta 0:00:01\r\u001b[K     |██████████▍                     | 624kB 8.6MB/s eta 0:00:01\r\u001b[K     |██████████▌                     | 634kB 8.6MB/s eta 0:00:01\r\u001b[K     |██████████▊                     | 645kB 8.6MB/s eta 0:00:01\r\u001b[K     |██████████▉                     | 655kB 8.6MB/s eta 0:00:01\r\u001b[K     |███████████                     | 665kB 8.6MB/s eta 0:00:01\r\u001b[K     |███████████▎                    | 675kB 8.6MB/s eta 0:00:01\r\u001b[K     |███████████▍                    | 686kB 8.6MB/s eta 0:00:01\r\u001b[K     |███████████▋                    | 696kB 8.6MB/s eta 0:00:01\r\u001b[K     |███████████▊                    | 706kB 8.6MB/s eta 0:00:01\r\u001b[K     |████████████                    | 716kB 8.6MB/s eta 0:00:01\r\u001b[K     |████████████                    | 727kB 8.6MB/s eta 0:00:01\r\u001b[K     |████████████▎                   | 737kB 8.6MB/s eta 0:00:01\r\u001b[K     |████████████▍                   | 747kB 8.6MB/s eta 0:00:01\r\u001b[K     |████████████▋                   | 757kB 8.6MB/s eta 0:00:01\r\u001b[K     |████████████▊                   | 768kB 8.6MB/s eta 0:00:01\r\u001b[K     |█████████████                   | 778kB 8.6MB/s eta 0:00:01\r\u001b[K     |█████████████                   | 788kB 8.6MB/s eta 0:00:01\r\u001b[K     |█████████████▎                  | 798kB 8.6MB/s eta 0:00:01\r\u001b[K     |█████████████▍                  | 808kB 8.6MB/s eta 0:00:01\r\u001b[K     |█████████████▋                  | 819kB 8.6MB/s eta 0:00:01\r\u001b[K     |█████████████▉                  | 829kB 8.6MB/s eta 0:00:01\r\u001b[K     |██████████████                  | 839kB 8.6MB/s eta 0:00:01\r\u001b[K     |██████████████▏                 | 849kB 8.6MB/s eta 0:00:01\r\u001b[K     |██████████████▎                 | 860kB 8.6MB/s eta 0:00:01\r\u001b[K     |██████████████▌                 | 870kB 8.6MB/s eta 0:00:01\r\u001b[K     |██████████████▋                 | 880kB 8.6MB/s eta 0:00:01\r\u001b[K     |██████████████▉                 | 890kB 8.6MB/s eta 0:00:01\r\u001b[K     |███████████████                 | 901kB 8.6MB/s eta 0:00:01\r\u001b[K     |███████████████▏                | 911kB 8.6MB/s eta 0:00:01\r\u001b[K     |███████████████▎                | 921kB 8.6MB/s eta 0:00:01\r\u001b[K     |███████████████▌                | 931kB 8.6MB/s eta 0:00:01\r\u001b[K     |███████████████▋                | 942kB 8.6MB/s eta 0:00:01\r\u001b[K     |███████████████▉                | 952kB 8.6MB/s eta 0:00:01\r\u001b[K     |████████████████                | 962kB 8.6MB/s eta 0:00:01\r\u001b[K     |████████████████▏               | 972kB 8.6MB/s eta 0:00:01\r\u001b[K     |████████████████▎               | 983kB 8.6MB/s eta 0:00:01\r\u001b[K     |████████████████▌               | 993kB 8.6MB/s eta 0:00:01\r\u001b[K     |████████████████▊               | 1.0MB 8.6MB/s eta 0:00:01\r\u001b[K     |████████████████▉               | 1.0MB 8.6MB/s eta 0:00:01\r\u001b[K     |█████████████████               | 1.0MB 8.6MB/s eta 0:00:01\r\u001b[K     |█████████████████▏              | 1.0MB 8.6MB/s eta 0:00:01\r\u001b[K     |█████████████████▍              | 1.0MB 8.6MB/s eta 0:00:01\r\u001b[K     |█████████████████▌              | 1.1MB 8.6MB/s eta 0:00:01\r\u001b[K     |█████████████████▊              | 1.1MB 8.6MB/s eta 0:00:01\r\u001b[K     |█████████████████▉              | 1.1MB 8.6MB/s eta 0:00:01\r\u001b[K     |██████████████████              | 1.1MB 8.6MB/s eta 0:00:01\r\u001b[K     |██████████████████▏             | 1.1MB 8.6MB/s eta 0:00:01\r\u001b[K     |██████████████████▍             | 1.1MB 8.6MB/s eta 0:00:01\r\u001b[K     |██████████████████▌             | 1.1MB 8.6MB/s eta 0:00:01\r\u001b[K     |██████████████████▊             | 1.1MB 8.6MB/s eta 0:00:01\r\u001b[K     |██████████████████▉             | 1.1MB 8.6MB/s eta 0:00:01\r\u001b[K     |███████████████████             | 1.1MB 8.6MB/s eta 0:00:01\r\u001b[K     |███████████████████▎            | 1.2MB 8.6MB/s eta 0:00:01\r\u001b[K     |███████████████████▍            | 1.2MB 8.6MB/s eta 0:00:01\r\u001b[K     |███████████████████▋            | 1.2MB 8.6MB/s eta 0:00:01\r\u001b[K     |███████████████████▊            | 1.2MB 8.6MB/s eta 0:00:01\r\u001b[K     |████████████████████            | 1.2MB 8.6MB/s eta 0:00:01\r\u001b[K     |████████████████████            | 1.2MB 8.6MB/s eta 0:00:01\r\u001b[K     |████████████████████▎           | 1.2MB 8.6MB/s eta 0:00:01\r\u001b[K     |████████████████████▍           | 1.2MB 8.6MB/s eta 0:00:01\r\u001b[K     |████████████████████▋           | 1.2MB 8.6MB/s eta 0:00:01\r\u001b[K     |████████████████████▊           | 1.2MB 8.6MB/s eta 0:00:01\r\u001b[K     |█████████████████████           | 1.3MB 8.6MB/s eta 0:00:01\r\u001b[K     |█████████████████████           | 1.3MB 8.6MB/s eta 0:00:01\r\u001b[K     |█████████████████████▎          | 1.3MB 8.6MB/s eta 0:00:01\r\u001b[K     |█████████████████████▍          | 1.3MB 8.6MB/s eta 0:00:01\r\u001b[K     |█████████████████████▋          | 1.3MB 8.6MB/s eta 0:00:01\r\u001b[K     |█████████████████████▊          | 1.3MB 8.6MB/s eta 0:00:01\r\u001b[K     |██████████████████████          | 1.3MB 8.6MB/s eta 0:00:01\r\u001b[K     |██████████████████████▏         | 1.3MB 8.6MB/s eta 0:00:01\r\u001b[K     |██████████████████████▎         | 1.3MB 8.6MB/s eta 0:00:01\r\u001b[K     |██████████████████████▌         | 1.4MB 8.6MB/s eta 0:00:01\r\u001b[K     |██████████████████████▋         | 1.4MB 8.6MB/s eta 0:00:01\r\u001b[K     |██████████████████████▉         | 1.4MB 8.6MB/s eta 0:00:01\r\u001b[K     |███████████████████████         | 1.4MB 8.6MB/s eta 0:00:01\r\u001b[K     |███████████████████████▏        | 1.4MB 8.6MB/s eta 0:00:01\r\u001b[K     |███████████████████████▎        | 1.4MB 8.6MB/s eta 0:00:01\r\u001b[K     |███████████████████████▌        | 1.4MB 8.6MB/s eta 0:00:01\r\u001b[K     |███████████████████████▋        | 1.4MB 8.6MB/s eta 0:00:01\r\u001b[K     |███████████████████████▉        | 1.4MB 8.6MB/s eta 0:00:01\r\u001b[K     |████████████████████████        | 1.4MB 8.6MB/s eta 0:00:01\r\u001b[K     |████████████████████████▏       | 1.5MB 8.6MB/s eta 0:00:01\r\u001b[K     |████████████████████████▎       | 1.5MB 8.6MB/s eta 0:00:01\r\u001b[K     |████████████████████████▌       | 1.5MB 8.6MB/s eta 0:00:01\r\u001b[K     |████████████████████████▊       | 1.5MB 8.6MB/s eta 0:00:01\r\u001b[K     |████████████████████████▉       | 1.5MB 8.6MB/s eta 0:00:01\r\u001b[K     |█████████████████████████       | 1.5MB 8.6MB/s eta 0:00:01\r\u001b[K     |█████████████████████████▏      | 1.5MB 8.6MB/s eta 0:00:01\r\u001b[K     |█████████████████████████▍      | 1.5MB 8.6MB/s eta 0:00:01\r\u001b[K     |█████████████████████████▌      | 1.5MB 8.6MB/s eta 0:00:01\r\u001b[K     |█████████████████████████▊      | 1.5MB 8.6MB/s eta 0:00:01\r\u001b[K     |█████████████████████████▉      | 1.6MB 8.6MB/s eta 0:00:01\r\u001b[K     |██████████████████████████      | 1.6MB 8.6MB/s eta 0:00:01\r\u001b[K     |██████████████████████████▏     | 1.6MB 8.6MB/s eta 0:00:01\r\u001b[K     |██████████████████████████▍     | 1.6MB 8.6MB/s eta 0:00:01\r\u001b[K     |██████████████████████████▌     | 1.6MB 8.6MB/s eta 0:00:01\r\u001b[K     |██████████████████████████▊     | 1.6MB 8.6MB/s eta 0:00:01\r\u001b[K     |██████████████████████████▉     | 1.6MB 8.6MB/s eta 0:00:01\r\u001b[K     |███████████████████████████     | 1.6MB 8.6MB/s eta 0:00:01\r\u001b[K     |███████████████████████████▏    | 1.6MB 8.6MB/s eta 0:00:01\r\u001b[K     |███████████████████████████▍    | 1.6MB 8.6MB/s eta 0:00:01\r\u001b[K     |███████████████████████████▋    | 1.7MB 8.6MB/s eta 0:00:01\r\u001b[K     |███████████████████████████▊    | 1.7MB 8.6MB/s eta 0:00:01\r\u001b[K     |████████████████████████████    | 1.7MB 8.6MB/s eta 0:00:01\r\u001b[K     |████████████████████████████    | 1.7MB 8.6MB/s eta 0:00:01\r\u001b[K     |████████████████████████████▎   | 1.7MB 8.6MB/s eta 0:00:01\r\u001b[K     |████████████████████████████▍   | 1.7MB 8.6MB/s eta 0:00:01\r\u001b[K     |████████████████████████████▋   | 1.7MB 8.6MB/s eta 0:00:01\r\u001b[K     |████████████████████████████▊   | 1.7MB 8.6MB/s eta 0:00:01\r\u001b[K     |█████████████████████████████   | 1.7MB 8.6MB/s eta 0:00:01\r\u001b[K     |█████████████████████████████   | 1.8MB 8.6MB/s eta 0:00:01\r\u001b[K     |█████████████████████████████▎  | 1.8MB 8.6MB/s eta 0:00:01\r\u001b[K     |█████████████████████████████▍  | 1.8MB 8.6MB/s eta 0:00:01\r\u001b[K     |█████████████████████████████▋  | 1.8MB 8.6MB/s eta 0:00:01\r\u001b[K     |█████████████████████████████▊  | 1.8MB 8.6MB/s eta 0:00:01\r\u001b[K     |██████████████████████████████  | 1.8MB 8.6MB/s eta 0:00:01\r\u001b[K     |██████████████████████████████▏ | 1.8MB 8.6MB/s eta 0:00:01\r\u001b[K     |██████████████████████████████▎ | 1.8MB 8.6MB/s eta 0:00:01\r\u001b[K     |██████████████████████████████▌ | 1.8MB 8.6MB/s eta 0:00:01\r\u001b[K     |██████████████████████████████▋ | 1.8MB 8.6MB/s eta 0:00:01\r\u001b[K     |██████████████████████████████▉ | 1.9MB 8.6MB/s eta 0:00:01\r\u001b[K     |███████████████████████████████ | 1.9MB 8.6MB/s eta 0:00:01\r\u001b[K     |███████████████████████████████▏| 1.9MB 8.6MB/s eta 0:00:01\r\u001b[K     |███████████████████████████████▎| 1.9MB 8.6MB/s eta 0:00:01\r\u001b[K     |███████████████████████████████▌| 1.9MB 8.6MB/s eta 0:00:01\r\u001b[K     |███████████████████████████████▋| 1.9MB 8.6MB/s eta 0:00:01\r\u001b[K     |███████████████████████████████▉| 1.9MB 8.6MB/s eta 0:00:01\r\u001b[K     |████████████████████████████████| 1.9MB 8.6MB/s eta 0:00:01\r\u001b[K     |████████████████████████████████| 1.9MB 8.6MB/s \n",
            "\u001b[?25hRequirement already satisfied: numpy in /usr/local/lib/python3.6/dist-packages (from langid) (1.18.5)\n",
            "Building wheels for collected packages: langid\n",
            "  Building wheel for langid (setup.py) ... \u001b[?25l\u001b[?25hdone\n",
            "  Created wheel for langid: filename=langid-1.1.6-cp36-none-any.whl size=1941190 sha256=ab1b8e6bd06ad6b15d45c5c6d066d6279c5b9e71988066ac4f61acd407a84c8d\n",
            "  Stored in directory: /root/.cache/pip/wheels/29/bc/61/50a93be85d1afe9436c3dc61f38da8ad7b637a38af4824e86e\n",
            "Successfully built langid\n",
            "Installing collected packages: langid\n",
            "Successfully installed langid-1.1.6\n"
          ],
          "name": "stdout"
        }
      ]
    },
    {
      "cell_type": "code",
      "metadata": {
        "id": "-IbphaETxVN-",
        "colab_type": "code",
        "colab": {
          "base_uri": "https://localhost:8080/",
          "height": 260
        },
        "outputId": "e76ec315-10e1-490b-9786-3e3e09957b4d"
      },
      "source": [
        "# Method 3\n",
        "import langid\n",
        "\n",
        "data = []\n",
        "for i in L:  \n",
        "  # Language detection \n",
        "  data.append([langid.classify(i), i])\n",
        "  #print(langid.classify(i), i) \n",
        "  \n",
        "df = pd.DataFrame(data)\n",
        "print(df)"
      ],
      "execution_count": 21,
      "outputs": [
        {
          "output_type": "stream",
          "text": [
            "                              0                                                  1\n",
            "0      (en, -61.69154644012451)  Tourism body sees silver lining after covid19 ...\n",
            "1      (en, -137.5537166595459)  will continue to be investor-friendly despite ...\n",
            "2      (ms, -50.99863648414612)   Airlines banyak gila buat sale. Tapi apakan daya\n",
            "3      (en, -81.81701588630676)         Whatever state is happening at this moment\n",
            "4       (en, -73.0151104927063)  Several factors affect economy such as politic...\n",
            "...                         ...                                                ...\n",
            "4585  (id, -242.08991289138794)  Mendeeeee sanggup la aku tunggu covid ni elok ...\n",
            "4586   (id, -107.4961404800415)    akhirnya dapat juga bertemu dengan si covid ni \n",
            "4587   (en, -165.8987216949463)  1GB free internet everyday for everyone until ...\n",
            "4588   (it, -293.7871103286743)  Enriched Air Specialty Course (e-learning, dry...\n",
            "4589  (id, -178.68611192703247)  Tahun ni sedih sikit tak dapat travel overseas...\n",
            "\n",
            "[4590 rows x 2 columns]\n"
          ],
          "name": "stdout"
        }
      ]
    },
    {
      "cell_type": "code",
      "metadata": {
        "id": "F-uPAux8_sfk",
        "colab_type": "code",
        "colab": {
          "base_uri": "https://localhost:8080/",
          "height": 885
        },
        "outputId": "62ca1148-dd1a-4895-f51c-bd3788163f3e"
      },
      "source": [
        "df2 = pd.DataFrame(df[0].to_list(), columns=['Lang', 'Confidence'])\n",
        "df2['Text'] = df[1] \n",
        "df2['Lang'].value_counts()"
      ],
      "execution_count": 22,
      "outputs": [
        {
          "output_type": "execute_result",
          "data": {
            "text/plain": [
              "en    1575\n",
              "id    1509\n",
              "ms    1220\n",
              "jv      31\n",
              "tl      30\n",
              "sw      23\n",
              "sv      23\n",
              "it      17\n",
              "es      16\n",
              "fr      13\n",
              "de      11\n",
              "et      10\n",
              "eo       9\n",
              "nl       8\n",
              "pt       8\n",
              "af       7\n",
              "cy       6\n",
              "la       6\n",
              "rw       6\n",
              "sl       5\n",
              "mt       5\n",
              "zu       4\n",
              "da       4\n",
              "ro       4\n",
              "fi       4\n",
              "pl       3\n",
              "ht       3\n",
              "ca       3\n",
              "lt       2\n",
              "tr       2\n",
              "hu       2\n",
              "br       2\n",
              "hr       2\n",
              "zh       2\n",
              "bn       1\n",
              "ja       1\n",
              "th       1\n",
              "lb       1\n",
              "is       1\n",
              "an       1\n",
              "oc       1\n",
              "eu       1\n",
              "lv       1\n",
              "no       1\n",
              "wa       1\n",
              "nb       1\n",
              "mg       1\n",
              "qu       1\n",
              "ko       1\n",
              "Name: Lang, dtype: int64"
            ]
          },
          "metadata": {
            "tags": []
          },
          "execution_count": 22
        }
      ]
    },
    {
      "cell_type": "code",
      "metadata": {
        "id": "pLjLectsGpN-",
        "colab_type": "code",
        "colab": {
          "base_uri": "https://localhost:8080/",
          "height": 69
        },
        "outputId": "12d8111a-8a3e-4ea0-a857-a7b289ad0d75"
      },
      "source": [
        "%pip install textblob"
      ],
      "execution_count": 23,
      "outputs": [
        {
          "output_type": "stream",
          "text": [
            "Requirement already satisfied: textblob in /usr/local/lib/python3.6/dist-packages (0.15.3)\n",
            "Requirement already satisfied: nltk>=3.1 in /usr/local/lib/python3.6/dist-packages (from textblob) (3.2.5)\n",
            "Requirement already satisfied: six in /usr/local/lib/python3.6/dist-packages (from nltk>=3.1->textblob) (1.12.0)\n"
          ],
          "name": "stdout"
        }
      ]
    },
    {
      "cell_type": "code",
      "metadata": {
        "id": "agUiRqRfuvCg",
        "colab_type": "code",
        "colab": {
          "base_uri": "https://localhost:8080/",
          "height": 260
        },
        "outputId": "58295a25-b581-420f-e68b-cea571261662"
      },
      "source": [
        "# NOTE: textblob has http request limits\n",
        "# Method 4\n",
        "from textblob import TextBlob \n",
        "import time\n",
        "\n",
        "data = []\n",
        "for i in L: \n",
        "  # Language Detection \n",
        "  lang = TextBlob(i)\n",
        "  time.sleep(1)\n",
        "  data.append([lang.detect_language(), i])\n",
        "  #print(lang.detect_language(), i) \n",
        "\n",
        "df = pd.DataFrame(data)\n",
        "print(df)"
      ],
      "execution_count": 26,
      "outputs": [
        {
          "output_type": "stream",
          "text": [
            "       0                                                  1\n",
            "0     en  Tourism body sees silver lining after covid19 ...\n",
            "1     en  will continue to be investor-friendly despite ...\n",
            "2     id   Airlines banyak gila buat sale. Tapi apakan daya\n",
            "3     en         Whatever state is happening at this moment\n",
            "4     en  Several factors affect economy such as politic...\n",
            "...   ..                                                ...\n",
            "4585  ms  Mendeeeee sanggup la aku tunggu covid ni elok ...\n",
            "4586  ms    akhirnya dapat juga bertemu dengan si covid ni \n",
            "4587  en  1GB free internet everyday for everyone until ...\n",
            "4588  en  Enriched Air Specialty Course (e-learning, dry...\n",
            "4589  ms  Tahun ni sedih sikit tak dapat travel overseas...\n",
            "\n",
            "[4590 rows x 2 columns]\n"
          ],
          "name": "stdout"
        }
      ]
    },
    {
      "cell_type": "code",
      "metadata": {
        "id": "s3qZXYjVkZkU",
        "colab_type": "code",
        "colab": {
          "base_uri": "https://localhost:8080/",
          "height": 642
        },
        "outputId": "407f0d77-2b48-47fa-db9c-4795b9e3ca18"
      },
      "source": [
        "df2 = pd.DataFrame(df[0].to_list(), columns=['Lang'])\n",
        "df2['Text'] = df[1] \n",
        "df2['Lang'].value_counts()"
      ],
      "execution_count": 27,
      "outputs": [
        {
          "output_type": "execute_result",
          "data": {
            "text/plain": [
              "ms       2744\n",
              "en       1464\n",
              "id        296\n",
              "jw         23\n",
              "hi          6\n",
              "su          5\n",
              "es          5\n",
              "tl          5\n",
              "tr          3\n",
              "fr          3\n",
              "eo          3\n",
              "gu          3\n",
              "bn          2\n",
              "sk          2\n",
              "ceb         2\n",
              "hmn         2\n",
              "sv          2\n",
              "el          2\n",
              "pt          2\n",
              "ml          1\n",
              "sl          1\n",
              "ja          1\n",
              "da          1\n",
              "th          1\n",
              "no          1\n",
              "zh-CN       1\n",
              "nl          1\n",
              "hr          1\n",
              "mr          1\n",
              "ha          1\n",
              "te          1\n",
              "sn          1\n",
              "kn          1\n",
              "so          1\n",
              "haw         1\n",
              "Name: Lang, dtype: int64"
            ]
          },
          "metadata": {
            "tags": []
          },
          "execution_count": 27
        }
      ]
    }
  ]
}