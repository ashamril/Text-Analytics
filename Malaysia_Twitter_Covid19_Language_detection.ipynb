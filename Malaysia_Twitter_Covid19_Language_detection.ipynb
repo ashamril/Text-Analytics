{
  "nbformat": 4,
  "nbformat_minor": 0,
  "metadata": {
    "colab": {
      "name": "Malaysia Twitter Covid19 - Language detection.ipynb",
      "provenance": [],
      "collapsed_sections": [],
      "mount_file_id": "1-qewEwEO4dWY87rr6bDq3SRLXgTa6p3Z",
      "authorship_tag": "ABX9TyNKwez9AbWzOrDdbOxK3M6V",
      "include_colab_link": true
    },
    "kernelspec": {
      "name": "python3",
      "display_name": "Python 3"
    }
  },
  "cells": [
    {
      "cell_type": "markdown",
      "metadata": {
        "id": "view-in-github",
        "colab_type": "text"
      },
      "source": [
        "<a href=\"https://colab.research.google.com/github/ashamril/Text-Analytics/blob/master/Malaysia_Twitter_Covid19_Language_detection.ipynb\" target=\"_parent\"><img src=\"https://colab.research.google.com/assets/colab-badge.svg\" alt=\"Open In Colab\"/></a>"
      ]
    },
    {
      "cell_type": "code",
      "metadata": {
        "id": "itAvpxr8xV5g",
        "colab_type": "code",
        "colab": {
          "base_uri": "https://localhost:8080/",
          "height": 124
        },
        "outputId": "cf19a905-943d-4d25-f14b-c874a9ac3e95"
      },
      "source": [
        "from google.colab import drive\n",
        "drive.mount('/content/drive', force_remount=True)"
      ],
      "execution_count": 1,
      "outputs": [
        {
          "output_type": "stream",
          "text": [
            "Go to this URL in a browser: https://accounts.google.com/o/oauth2/auth?client_id=947318989803-6bn6qk8qdgf4n4g3pfee6491hc0brc4i.apps.googleusercontent.com&redirect_uri=urn%3aietf%3awg%3aoauth%3a2.0%3aoob&response_type=code&scope=email%20https%3a%2f%2fwww.googleapis.com%2fauth%2fdocs.test%20https%3a%2f%2fwww.googleapis.com%2fauth%2fdrive%20https%3a%2f%2fwww.googleapis.com%2fauth%2fdrive.photos.readonly%20https%3a%2f%2fwww.googleapis.com%2fauth%2fpeopleapi.readonly\n",
            "\n",
            "Enter your authorization code:\n",
            "··········\n",
            "Mounted at /content/drive\n"
          ],
          "name": "stdout"
        }
      ]
    },
    {
      "cell_type": "code",
      "metadata": {
        "id": "6py5AIof9pvT",
        "colab_type": "code",
        "colab": {}
      },
      "source": [
        "file_path_feb = \"/content/drive/My Drive/Twitter Covid Coronavirus/tweet_malaysia-covid-feb-2020-cleaned.csv\"\n",
        "file_path_mac = \"/content/drive/My Drive/Twitter Covid Coronavirus/tweet_malaysia-covid-mac-2020-cleaned.csv\"\n",
        "file_path_apr = \"/content/drive/My Drive/Twitter Covid Coronavirus/tweet_malaysia-covid-apr-2020-cleaned.csv\"\n",
        "file_path_may = \"/content/drive/My Drive/Twitter Covid Coronavirus/tweet_malaysia-covid-may-2020-cleaned.csv\"\n",
        "file_path_jun = \"/content/drive/My Drive/Twitter Covid Coronavirus/tweet_malaysia-covid-jun-2020-cleaned.csv\""
      ],
      "execution_count": 2,
      "outputs": []
    },
    {
      "cell_type": "code",
      "metadata": {
        "id": "h_ywOc6Rx1Wo",
        "colab_type": "code",
        "colab": {}
      },
      "source": [
        "import pandas as pd\n",
        "\n",
        "corpus_feb = pd.read_csv(file_path_feb, quotechar='\"')\n",
        "corpus_list_feb = corpus_feb[\"text\"].tolist()\n",
        "corpus_mac = pd.read_csv(file_path_mac, quotechar='\"')\n",
        "corpus_list_mac = corpus_mac[\"text\"].tolist() \n",
        "corpus_apr = pd.read_csv(file_path_apr, quotechar='\"')\n",
        "corpus_list_apr = corpus_apr[\"text\"].tolist() \n",
        "corpus_may = pd.read_csv(file_path_may, quotechar='\"')\n",
        "corpus_list_may = corpus_may[\"text\"].tolist() \n",
        "corpus_jun = pd.read_csv(file_path_jun, quotechar='\"')\n",
        "corpus_list_jun = corpus_jun[\"text\"].tolist() "
      ],
      "execution_count": 3,
      "outputs": []
    },
    {
      "cell_type": "code",
      "metadata": {
        "id": "0s0KbqoJksh3",
        "colab_type": "code",
        "colab": {}
      },
      "source": [
        "# Lists too long, have to split into 2 lists\n",
        "def split_list(a_list):\n",
        "    half = len(a_list)//2\n",
        "    return a_list[:half], a_list[half:]"
      ],
      "execution_count": 4,
      "outputs": []
    },
    {
      "cell_type": "code",
      "metadata": {
        "id": "WYq5p9yNszvg",
        "colab_type": "code",
        "colab": {}
      },
      "source": [
        "corpus_list_feb_part1, corpus_list_feb_part2 = split_list(corpus_list_feb)\n",
        "corpus_list_mac_part1, corpus_list_mac_part2 = split_list(corpus_list_mac)\n",
        "corpus_list_apr_part1, corpus_list_apr_part2 = split_list(corpus_list_apr)\n",
        "corpus_list_may_part1, corpus_list_may_part2 = split_list(corpus_list_may)\n",
        "corpus_list_jun_part1, corpus_list_jun_part2 = split_list(corpus_list_jun)"
      ],
      "execution_count": 27,
      "outputs": []
    },
    {
      "cell_type": "code",
      "metadata": {
        "id": "oZYJjRi0IqPk",
        "colab_type": "code",
        "colab": {}
      },
      "source": [
        "all_corpus = corpus_list_feb + corpus_list_mac + corpus_list_apr + corpus_list_may + corpus_list_jun"
      ],
      "execution_count": 150,
      "outputs": []
    },
    {
      "cell_type": "code",
      "metadata": {
        "id": "f-uokPBDxv0s",
        "colab_type": "code",
        "colab": {}
      },
      "source": [
        "L = all_corpus"
      ],
      "execution_count": 151,
      "outputs": []
    },
    {
      "cell_type": "code",
      "metadata": {
        "id": "I9zf1o-XtkPJ",
        "colab_type": "code",
        "colab": {
          "base_uri": "https://localhost:8080/",
          "height": 278
        },
        "outputId": "5626ef73-6d57-4105-f6c7-450c10773106"
      },
      "source": [
        "%pip install googletrans"
      ],
      "execution_count": 152,
      "outputs": [
        {
          "output_type": "stream",
          "text": [
            "Requirement already satisfied: googletrans in /usr/local/lib/python3.6/dist-packages (3.0.0)\n",
            "Requirement already satisfied: httpx==0.13.3 in /usr/local/lib/python3.6/dist-packages (from googletrans) (0.13.3)\n",
            "Requirement already satisfied: rfc3986<2,>=1.3 in /usr/local/lib/python3.6/dist-packages (from httpx==0.13.3->googletrans) (1.4.0)\n",
            "Requirement already satisfied: chardet==3.* in /usr/local/lib/python3.6/dist-packages (from httpx==0.13.3->googletrans) (3.0.4)\n",
            "Requirement already satisfied: idna==2.* in /usr/local/lib/python3.6/dist-packages (from httpx==0.13.3->googletrans) (2.10)\n",
            "Requirement already satisfied: httpcore==0.9.* in /usr/local/lib/python3.6/dist-packages (from httpx==0.13.3->googletrans) (0.9.1)\n",
            "Requirement already satisfied: certifi in /usr/local/lib/python3.6/dist-packages (from httpx==0.13.3->googletrans) (2020.6.20)\n",
            "Requirement already satisfied: hstspreload in /usr/local/lib/python3.6/dist-packages (from httpx==0.13.3->googletrans) (2020.7.17)\n",
            "Requirement already satisfied: sniffio in /usr/local/lib/python3.6/dist-packages (from httpx==0.13.3->googletrans) (1.1.0)\n",
            "Requirement already satisfied: h2==3.* in /usr/local/lib/python3.6/dist-packages (from httpcore==0.9.*->httpx==0.13.3->googletrans) (3.2.0)\n",
            "Requirement already satisfied: h11<0.10,>=0.8 in /usr/local/lib/python3.6/dist-packages (from httpcore==0.9.*->httpx==0.13.3->googletrans) (0.9.0)\n",
            "Requirement already satisfied: contextvars>=2.1; python_version < \"3.7\" in /usr/local/lib/python3.6/dist-packages (from sniffio->httpx==0.13.3->googletrans) (2.4)\n",
            "Requirement already satisfied: hyperframe<6,>=5.2.0 in /usr/local/lib/python3.6/dist-packages (from h2==3.*->httpcore==0.9.*->httpx==0.13.3->googletrans) (5.2.0)\n",
            "Requirement already satisfied: hpack<4,>=3.0 in /usr/local/lib/python3.6/dist-packages (from h2==3.*->httpcore==0.9.*->httpx==0.13.3->googletrans) (3.0.0)\n",
            "Requirement already satisfied: immutables>=0.9 in /usr/local/lib/python3.6/dist-packages (from contextvars>=2.1; python_version < \"3.7\"->sniffio->httpx==0.13.3->googletrans) (0.14)\n"
          ],
          "name": "stdout"
        }
      ]
    },
    {
      "cell_type": "code",
      "metadata": {
        "id": "h8AtuE6Bz02Q",
        "colab_type": "code",
        "colab": {
          "base_uri": "https://localhost:8080/",
          "height": 260
        },
        "outputId": "06b25fb0-9b4d-4b68-b56b-8c563c62ff22"
      },
      "source": [
        "# Method 1\n",
        "from googletrans import Translator\n",
        "\n",
        "data = []\n",
        "for i in L: \n",
        "  # Language Detection \n",
        "  t = Translator().detect(i)\n",
        "  data.append([t.lang, t.confidence, i])\n",
        "  #print(t.lang, t.confidence, i) \n",
        "\n",
        "import pandas as pd\n",
        "df = pd.DataFrame(data)\n",
        "print(df)"
      ],
      "execution_count": 153,
      "outputs": [
        {
          "output_type": "stream",
          "text": [
            "         0         1                                                  2\n",
            "0       en  1.000000  Tourism body sees silver lining after covid19 ...\n",
            "1       en  1.000000  will continue to be investor-friendly despite ...\n",
            "2       id  0.831667   Airlines banyak gila buat sale. Tapi apakan daya\n",
            "3       en  1.000000         Whatever state is happening at this moment\n",
            "4       en  1.000000  Several factors affect economy such as politic...\n",
            "...    ...       ...                                                ...\n",
            "4585    ms  0.833178  Mendeeeee sanggup la aku tunggu covid ni elok ...\n",
            "4586  msid  0.501354    akhirnya dapat juga bertemu dengan si covid ni \n",
            "4587    en  1.000000  1GB free internet everyday for everyone until ...\n",
            "4588    en  1.000000  Enriched Air Specialty Course (e-learning, dry...\n",
            "4589    ms  0.972142  Tahun ni sedih sikit tak dapat travel overseas...\n",
            "\n",
            "[4590 rows x 3 columns]\n"
          ],
          "name": "stdout"
        }
      ]
    },
    {
      "cell_type": "code",
      "metadata": {
        "id": "9Ak2BzTE8VwD",
        "colab_type": "code",
        "colab": {
          "base_uri": "https://localhost:8080/",
          "height": 816
        },
        "outputId": "9fbc7df9-6c18-4aa8-c50a-12209f34e04b"
      },
      "source": [
        "df.columns = ['Lang','Confidence','Text']\n",
        "df['Lang'].value_counts()"
      ],
      "execution_count": 154,
      "outputs": [
        {
          "output_type": "execute_result",
          "data": {
            "text/plain": [
              "ms       2591\n",
              "en       1491\n",
              "id        177\n",
              "msid      134\n",
              "idms       96\n",
              "jw         20\n",
              "enms       11\n",
              "msen        7\n",
              "es          6\n",
              "su          5\n",
              "hi          5\n",
              "tl          4\n",
              "ceb         3\n",
              "haw         2\n",
              "enid        2\n",
              "tr          2\n",
              "bn          2\n",
              "fr          2\n",
              "gu          2\n",
              "pt          2\n",
              "el          2\n",
              "ha          1\n",
              "zh-CN       1\n",
              "hr          1\n",
              "hiid        1\n",
              "mlen        1\n",
              "sk          1\n",
              "no          1\n",
              "so          1\n",
              "hmn         1\n",
              "msjw        1\n",
              "ja          1\n",
              "mssu        1\n",
              "jwms        1\n",
              "nl          1\n",
              "svpl        1\n",
              "sv          1\n",
              "enjw        1\n",
              "kn          1\n",
              "te          1\n",
              "entl        1\n",
              "sn          1\n",
              "eo          1\n",
              "sl          1\n",
              "th          1\n",
              "Name: Lang, dtype: int64"
            ]
          },
          "metadata": {
            "tags": []
          },
          "execution_count": 154
        }
      ]
    },
    {
      "cell_type": "code",
      "metadata": {
        "id": "Vru2lkH7t8tM",
        "colab_type": "code",
        "colab": {
          "base_uri": "https://localhost:8080/",
          "height": 52
        },
        "outputId": "b44ff544-677e-4ff1-de33-fcb98e6e8647"
      },
      "source": [
        "%pip install langdetect"
      ],
      "execution_count": 155,
      "outputs": [
        {
          "output_type": "stream",
          "text": [
            "Requirement already satisfied: langdetect in /usr/local/lib/python3.6/dist-packages (1.0.8)\n",
            "Requirement already satisfied: six in /usr/local/lib/python3.6/dist-packages (from langdetect) (1.12.0)\n"
          ],
          "name": "stdout"
        }
      ]
    },
    {
      "cell_type": "code",
      "metadata": {
        "id": "l-F7Z5WBt2R4",
        "colab_type": "code",
        "colab": {
          "base_uri": "https://localhost:8080/",
          "height": 260
        },
        "outputId": "553e9732-ab31-42e5-aae8-b78c3aa54b5c"
      },
      "source": [
        "# Method 2\n",
        "from langdetect import detect\n",
        "\n",
        "data = []\n",
        "for i in L: \n",
        "  # Language Detection \n",
        "  lang = detect(i)  \n",
        "  data.append([lang, i])\n",
        "  #print(lang, i) \n",
        "\n",
        "import pandas as pd\n",
        "df = pd.DataFrame(data)\n",
        "print(df)"
      ],
      "execution_count": 156,
      "outputs": [
        {
          "output_type": "stream",
          "text": [
            "       0                                                  1\n",
            "0     en  Tourism body sees silver lining after covid19 ...\n",
            "1     en  will continue to be investor-friendly despite ...\n",
            "2     id   Airlines banyak gila buat sale. Tapi apakan daya\n",
            "3     en         Whatever state is happening at this moment\n",
            "4     en  Several factors affect economy such as politic...\n",
            "...   ..                                                ...\n",
            "4585  id  Mendeeeee sanggup la aku tunggu covid ni elok ...\n",
            "4586  id    akhirnya dapat juga bertemu dengan si covid ni \n",
            "4587  en  1GB free internet everyday for everyone until ...\n",
            "4588  en  Enriched Air Specialty Course (e-learning, dry...\n",
            "4589  id  Tahun ni sedih sikit tak dapat travel overseas...\n",
            "\n",
            "[4590 rows x 2 columns]\n"
          ],
          "name": "stdout"
        }
      ]
    },
    {
      "cell_type": "code",
      "metadata": {
        "id": "UPTDYIft9PTC",
        "colab_type": "code",
        "colab": {
          "base_uri": "https://localhost:8080/",
          "height": 538
        },
        "outputId": "a54359a6-0d51-49f2-d37d-71ad79a07183"
      },
      "source": [
        "df.columns = ['Lang', 'Text']\n",
        "df['Lang'].value_counts()"
      ],
      "execution_count": 157,
      "outputs": [
        {
          "output_type": "execute_result",
          "data": {
            "text/plain": [
              "id    2805\n",
              "en    1601\n",
              "et      28\n",
              "es      25\n",
              "tl      16\n",
              "it      15\n",
              "sl      13\n",
              "so      12\n",
              "ro      10\n",
              "ca       9\n",
              "hr       9\n",
              "pt       8\n",
              "fr       6\n",
              "sv       5\n",
              "af       4\n",
              "da       4\n",
              "nl       3\n",
              "de       3\n",
              "no       2\n",
              "tr       2\n",
              "sk       2\n",
              "cs       1\n",
              "fi       1\n",
              "hu       1\n",
              "cy       1\n",
              "sq       1\n",
              "pl       1\n",
              "bn       1\n",
              "lt       1\n",
              "Name: Lang, dtype: int64"
            ]
          },
          "metadata": {
            "tags": []
          },
          "execution_count": 157
        }
      ]
    },
    {
      "cell_type": "code",
      "metadata": {
        "id": "G1BRRTC29XOA",
        "colab_type": "code",
        "colab": {
          "base_uri": "https://localhost:8080/",
          "height": 538
        },
        "outputId": "50ea2cab-b4a3-4e5c-a0a8-9f300801a2b9"
      },
      "source": [
        "df.columns = ['Lang', 'Text']\n",
        "df['Lang'].value_counts()"
      ],
      "execution_count": 158,
      "outputs": [
        {
          "output_type": "execute_result",
          "data": {
            "text/plain": [
              "id    2805\n",
              "en    1601\n",
              "et      28\n",
              "es      25\n",
              "tl      16\n",
              "it      15\n",
              "sl      13\n",
              "so      12\n",
              "ro      10\n",
              "ca       9\n",
              "hr       9\n",
              "pt       8\n",
              "fr       6\n",
              "sv       5\n",
              "af       4\n",
              "da       4\n",
              "nl       3\n",
              "de       3\n",
              "no       2\n",
              "tr       2\n",
              "sk       2\n",
              "cs       1\n",
              "fi       1\n",
              "hu       1\n",
              "cy       1\n",
              "sq       1\n",
              "pl       1\n",
              "bn       1\n",
              "lt       1\n",
              "Name: Lang, dtype: int64"
            ]
          },
          "metadata": {
            "tags": []
          },
          "execution_count": 158
        }
      ]
    },
    {
      "cell_type": "code",
      "metadata": {
        "id": "jIkw8MM5xTgh",
        "colab_type": "code",
        "colab": {
          "base_uri": "https://localhost:8080/",
          "height": 52
        },
        "outputId": "341209cc-12db-41d2-c9f2-0f2dbc0f4ee7"
      },
      "source": [
        "%pip install langid"
      ],
      "execution_count": 159,
      "outputs": [
        {
          "output_type": "stream",
          "text": [
            "Requirement already satisfied: langid in /usr/local/lib/python3.6/dist-packages (1.1.6)\n",
            "Requirement already satisfied: numpy in /usr/local/lib/python3.6/dist-packages (from langid) (1.18.5)\n"
          ],
          "name": "stdout"
        }
      ]
    },
    {
      "cell_type": "code",
      "metadata": {
        "id": "-IbphaETxVN-",
        "colab_type": "code",
        "colab": {
          "base_uri": "https://localhost:8080/",
          "height": 260
        },
        "outputId": "5776cfde-76e6-4f21-8f67-7c8f17e0dce0"
      },
      "source": [
        "# Method 3\n",
        "import langid\n",
        "\n",
        "data = []\n",
        "for i in L:  \n",
        "  # Language detection \n",
        "  data.append([langid.classify(i), i])\n",
        "  #print(langid.classify(i), i) \n",
        "  \n",
        "import pandas as pd\n",
        "df = pd.DataFrame(data)\n",
        "print(df)"
      ],
      "execution_count": 160,
      "outputs": [
        {
          "output_type": "stream",
          "text": [
            "                              0                                                  1\n",
            "0      (en, -61.69154644012451)  Tourism body sees silver lining after covid19 ...\n",
            "1      (en, -137.5537166595459)  will continue to be investor-friendly despite ...\n",
            "2      (ms, -50.99863648414612)   Airlines banyak gila buat sale. Tapi apakan daya\n",
            "3      (en, -81.81701588630676)         Whatever state is happening at this moment\n",
            "4       (en, -73.0151104927063)  Several factors affect economy such as politic...\n",
            "...                         ...                                                ...\n",
            "4585  (id, -242.08991289138794)  Mendeeeee sanggup la aku tunggu covid ni elok ...\n",
            "4586   (id, -107.4961404800415)    akhirnya dapat juga bertemu dengan si covid ni \n",
            "4587   (en, -165.8987216949463)  1GB free internet everyday for everyone until ...\n",
            "4588   (it, -293.7871103286743)  Enriched Air Specialty Course (e-learning, dry...\n",
            "4589  (id, -178.68611192703247)  Tahun ni sedih sikit tak dapat travel overseas...\n",
            "\n",
            "[4590 rows x 2 columns]\n"
          ],
          "name": "stdout"
        }
      ]
    },
    {
      "cell_type": "code",
      "metadata": {
        "id": "F-uPAux8_sfk",
        "colab_type": "code",
        "colab": {
          "base_uri": "https://localhost:8080/",
          "height": 885
        },
        "outputId": "e0cf9e23-fa03-4ca9-e8a2-94ca0077a17a"
      },
      "source": [
        "df2 = pd.DataFrame(df[0].to_list(), columns=['Lang', 'Confidence'])\n",
        "df2['Text'] = df[1] \n",
        "df2['Lang'].value_counts()"
      ],
      "execution_count": 161,
      "outputs": [
        {
          "output_type": "execute_result",
          "data": {
            "text/plain": [
              "en    1575\n",
              "id    1509\n",
              "ms    1220\n",
              "jv      31\n",
              "tl      30\n",
              "sw      23\n",
              "sv      23\n",
              "it      17\n",
              "es      16\n",
              "fr      13\n",
              "de      11\n",
              "et      10\n",
              "eo       9\n",
              "pt       8\n",
              "nl       8\n",
              "af       7\n",
              "cy       6\n",
              "la       6\n",
              "rw       6\n",
              "mt       5\n",
              "sl       5\n",
              "ro       4\n",
              "da       4\n",
              "zu       4\n",
              "fi       4\n",
              "ht       3\n",
              "ca       3\n",
              "pl       3\n",
              "lt       2\n",
              "hr       2\n",
              "zh       2\n",
              "br       2\n",
              "hu       2\n",
              "tr       2\n",
              "eu       1\n",
              "bn       1\n",
              "oc       1\n",
              "th       1\n",
              "is       1\n",
              "ko       1\n",
              "an       1\n",
              "nb       1\n",
              "lb       1\n",
              "lv       1\n",
              "no       1\n",
              "wa       1\n",
              "mg       1\n",
              "ja       1\n",
              "qu       1\n",
              "Name: Lang, dtype: int64"
            ]
          },
          "metadata": {
            "tags": []
          },
          "execution_count": 161
        }
      ]
    },
    {
      "cell_type": "code",
      "metadata": {
        "id": "pLjLectsGpN-",
        "colab_type": "code",
        "colab": {
          "base_uri": "https://localhost:8080/",
          "height": 69
        },
        "outputId": "f605a6b6-b65d-45a4-9dfc-a6bcfa5ce16b"
      },
      "source": [
        "%pip install textblob"
      ],
      "execution_count": 162,
      "outputs": [
        {
          "output_type": "stream",
          "text": [
            "Requirement already satisfied: textblob in /usr/local/lib/python3.6/dist-packages (0.15.3)\n",
            "Requirement already satisfied: nltk>=3.1 in /usr/local/lib/python3.6/dist-packages (from textblob) (3.2.5)\n",
            "Requirement already satisfied: six in /usr/local/lib/python3.6/dist-packages (from nltk>=3.1->textblob) (1.12.0)\n"
          ],
          "name": "stdout"
        }
      ]
    },
    {
      "cell_type": "code",
      "metadata": {
        "id": "agUiRqRfuvCg",
        "colab_type": "code",
        "colab": {}
      },
      "source": [
        "# NOTE: textblob has http request limits\n",
        "# # Method 4\n",
        "# from textblob import TextBlob \n",
        "# import time\n",
        "\n",
        "# data = []\n",
        "# for i in L: \n",
        "#   # Language Detection \n",
        "#   lang = TextBlob(i)\n",
        "#   time.sleep(1)\n",
        "#   data.append([lang.detect_language(), i])\n",
        "#   #print(lang.detect_language(), i) \n",
        "\n",
        "# import pandas as pd\n",
        "# df = pd.DataFrame(data)\n",
        "# print(df)"
      ],
      "execution_count": 163,
      "outputs": []
    }
  ]
}