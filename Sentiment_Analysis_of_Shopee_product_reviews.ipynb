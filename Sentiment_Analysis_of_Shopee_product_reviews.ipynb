{
  "nbformat": 4,
  "nbformat_minor": 0,
  "metadata": {
    "colab": {
      "name": "Sentiment Analysis of Shopee product reviews.ipynb",
      "provenance": [],
      "collapsed_sections": [],
      "authorship_tag": "ABX9TyNnuORcMCXzHWlk+K0VdF/4",
      "include_colab_link": true
    },
    "kernelspec": {
      "name": "python3",
      "display_name": "Python 3"
    }
  },
  "cells": [
    {
      "cell_type": "markdown",
      "metadata": {
        "id": "view-in-github",
        "colab_type": "text"
      },
      "source": [
        "<a href=\"https://colab.research.google.com/github/ashamril/Text-Analytics/blob/master/Sentiment_Analysis_of_Shopee_product_reviews.ipynb\" target=\"_parent\"><img src=\"https://colab.research.google.com/assets/colab-badge.svg\" alt=\"Open In Colab\"/></a>"
      ]
    },
    {
      "cell_type": "markdown",
      "metadata": {
        "id": "KNhAWqL9SJpF"
      },
      "source": [
        "# Sentiment Analysis of Shopee product reviews\n",
        "## English reviews are using 4 pre-trained machine learning models\n",
        "1. Huggingface Pipeline<br>\n",
        "The pipelines are a great and easy way to use models for inference. These pipelines are objects that abstract most of the complex code from the library, offering a simple API dedicated to several tasks, including Named Entity Recognition, Masked Language Modeling, Sentiment Analysis, Feature Extraction and Question Answering<br>\n",
        "https://huggingface.co/transformers/main_classes/pipelines.html\n",
        "2. VADER<br>\n",
        "Valence Aware Dictionary and sEntiment Reasoner is a lexicon and rule-based sentiment analysis tool that is specifically attuned to sentiments expressed in social media.\n",
        "VADER uses a combination of a sentiment lexicon is a list of lexical features (e.g., words) which are generally labelled according to their semantic orientation as either positive or negative.<br>\n",
        "https://github.com/cjhutto/vaderSentiment\n",
        "3. Flair<br>\n",
        "Flair’s sentiment classifier is based on a character-level LSTM neural network which takes sequences of letters and words into account when predicting\n",
        "Allows you to apply state-of-the-art natural language processing (NLP) models to sections of text. It works quite differently to the previously mentioned models. \n",
        "Flair utilizes a pre-trained model to detect positive or negative comments and print a number in brackets behind the label which is a prediction confidence.<br>\n",
        "https://github.com/flairNLP/flair\n",
        "4. Textblob<br>\n",
        "Textblob’s Sentiment Analysis works in a similar way to NLTK — using a bag of words classifier, but the advantage is that it includes Subjectivity Analysis too (how factual/opinionated a piece of text is)<br>\n",
        "https://textblob.readthedocs.io/en/dev/\n",
        "<br>\n",
        "\n",
        "## Bahasa Melayu reviews are using 1 pre-trained machine learning model\n",
        "1. Malaya<br>\n",
        "A Natural-Language-Toolkit library for Bahasa Malaysia, powered by Deep Learning Tensorflow.\n",
        "Malaya provided basic interface for Pre-trained Transformer encoder models, specific to Malay, local social media slang and Manglish language, called Transformer-Bahasa.<br>\n",
        "https://malaya.readthedocs.io/en/latest/"
      ]
    },
    {
      "cell_type": "code",
      "metadata": {
        "id": "eiMXqU08sXM5"
      },
      "source": [
        "%pip -q install tabulate\n",
        "%pip -q install textblob\n",
        "%pip -q install google_trans_new"
      ],
      "execution_count": 1,
      "outputs": []
    },
    {
      "cell_type": "code",
      "metadata": {
        "id": "ZSpu5fpPsogE"
      },
      "source": [
        "%pip -q install flair"
      ],
      "execution_count": 2,
      "outputs": []
    },
    {
      "cell_type": "code",
      "metadata": {
        "id": "UJFvBp7ksyxu"
      },
      "source": [
        "from textblob import TextBlob"
      ],
      "execution_count": 3,
      "outputs": []
    },
    {
      "cell_type": "code",
      "metadata": {
        "id": "cNwY0RrCs-fk"
      },
      "source": [
        "%pip -q install malaya"
      ],
      "execution_count": 4,
      "outputs": []
    },
    {
      "cell_type": "code",
      "metadata": {
        "id": "B9EruCqRwKIs",
        "colab": {
          "base_uri": "https://localhost:8080/"
        },
        "outputId": "c52b1a8d-0f64-4f4a-ffad-f4f9fa9c5d6a"
      },
      "source": [
        "import re\n",
        "import requests\n",
        "import pandas as pd\n",
        "from tabulate import tabulate\n",
        "import nltk\n",
        "nltk.download('vader_lexicon')\n",
        "from nltk.sentiment.vader import SentimentIntensityAnalyzer\n",
        "import flair\n",
        "import malaya\n",
        "import json\n",
        "from google_trans_new import google_translator\n",
        "from transformers import pipeline"
      ],
      "execution_count": 5,
      "outputs": [
        {
          "output_type": "stream",
          "text": [
            "[nltk_data] Downloading package vader_lexicon to /root/nltk_data...\n",
            "[nltk_data]   Package vader_lexicon is already up-to-date!\n"
          ],
          "name": "stdout"
        },
        {
          "output_type": "stream",
          "text": [
            "/usr/local/lib/python3.7/dist-packages/nltk/twitter/__init__.py:20: UserWarning: The twython library has not been installed. Some functionality from the twitter package will not be available.\n",
            "  warnings.warn(\"The twython library has not been installed. \"\n",
            "/usr/local/lib/python3.7/dist-packages/malaya/function/__init__.py:32: UserWarning: Cannot import beam_search_ops not available for Tensorflow 2, `deep_model` for stemmer will not available to use.\n",
            "  'Cannot import beam_search_ops not available for Tensorflow 2, `deep_model` for stemmer will not available to use.'\n"
          ],
          "name": "stderr"
        }
      ]
    },
    {
      "cell_type": "code",
      "metadata": {
        "id": "93GMZ9x-tB1k"
      },
      "source": [
        "# Using stacking model for better results\n",
        "bert = malaya.sentiment.transformer('bert')\n",
        "tinybert = malaya.sentiment.transformer('tiny-bert')\n",
        "albert = malaya.sentiment.transformer('albert')\n",
        "tinyalbert = malaya.sentiment.transformer('tiny-albert')\n",
        "xlnet = malaya.sentiment.transformer('xlnet')\n",
        "alxlnet = malaya.sentiment.transformer('alxlnet')"
      ],
      "execution_count": 6,
      "outputs": []
    },
    {
      "cell_type": "code",
      "metadata": {
        "id": "inktngoHUrOP"
      },
      "source": [
        "# url = input(\"Enter the Shopee product URL: \")\n",
        "# # Example: https://shopee.com.my/Acer-Aspire-3-A315-35-15.6-Laptop-(Celeron-N4500-4GB-256GB-Intel)-(Windows-10-Pro-Basic-Installation)-i.268863847.4038359450"
      ],
      "execution_count": 7,
      "outputs": []
    },
    {
      "cell_type": "code",
      "metadata": {
        "colab": {
          "base_uri": "https://localhost:8080/"
        },
        "id": "vrZVMivtONcC",
        "outputId": "532f32bc-476e-4f2b-a72e-c674fcde5f16"
      },
      "source": [
        "url = 'https://shopee.com.my/-Bundle-Microsoft-Surface-Pro-7-Platinum-(i5-1035G4-Intel-Iris-Plus-Graphics-8GB-128GB-12.3-Windows-10)-i.154568882.4433101145'\n",
        "#url = 'https://shopee.com.my/Acer-Aspire-3-A315-35-15.6-Laptop-(Celeron-N4500-4GB-256GB-Intel)-(Windows-10-Pro-Basic-Installation)-i.268863847.4038359450'\n",
        "#url = 'https://shopee.com.my/%E3%80%90EXP-MAY-2021%E3%80%91Nongshim-Shin-Ramyun-Korea-Ramen-5-Pack-%E9%9F%A9%E5%9B%BD%E8%BE%9B%E6%8B%89%E9%9D%A2%E6%B3%A1%E8%8F%9C%E9%9D%A2-Instant-Spicy-Noodle-Soup-i.39931794.2920958018'\n",
        "#url = 'https://shopee.com.my/Verbatim-New-Slider-USB-2.0-Flash-Drive-Pendrive-16GB-32GB-i.143275520.2312604078'\n",
        "\n",
        "numberInURL = re.findall('\\d+', url)\n",
        "itemid = numberInURL[-1]\n",
        "shopid = numberInURL[-2]\n",
        "print(\"Shop ID: \", shopid)\n",
        "print(\"Item ID: \", itemid)"
      ],
      "execution_count": 8,
      "outputs": [
        {
          "output_type": "stream",
          "text": [
            "Shop ID:  154568882\n",
            "Item ID:  4433101145\n"
          ],
          "name": "stdout"
        }
      ]
    },
    {
      "cell_type": "code",
      "metadata": {
        "colab": {
          "base_uri": "https://localhost:8080/"
        },
        "id": "gEf46SMxT1N1",
        "outputId": "311bf046-8056-4ca0-cf68-6b7a3eb10893"
      },
      "source": [
        "ratings_url = 'https://shopee.com.my/api/v2/item/get_ratings?filter=0&flag=1&itemid={item_id}&limit=20&offset={offset}&shopid={shop_id}&type=0'\n",
        "\n",
        "komen = []\n",
        "offset = 0\n",
        "\n",
        "while True:\n",
        "    data = requests.get(ratings_url.format(shop_id=shopid, item_id=itemid, offset=offset)).json()\n",
        "\n",
        "    # uncomment this to print all data:\n",
        "    # print(json.dumps(data, indent=4))\n",
        "\n",
        "    i = 1\n",
        "    for i, rating in enumerate(data['data']['ratings'], 1):\n",
        "      if len(rating['comment']) > 2:\n",
        "        #print(i, rating['comment'])\n",
        "        #print('-' * 80)\n",
        "        komen.append(rating['comment'])\n",
        "    if i % 20:\n",
        "        break\n",
        "    offset += 20\n",
        "\n",
        "print(komen)"
      ],
      "execution_count": 9,
      "outputs": [
        {
          "output_type": "stream",
          "text": [
            "['Memang berbaloi tunggu promo tu !!!\\nAnd packaging mmg kemas dan selamat walaupun dkt kotak tu mcm kemik sikit tapi alhamdulillah takde calar pape pun dkt tab 🥺😍. ', 'Barang sampai dalam keadaan yang selamat dan penghantaran yang baik...👍👍👍', 'I got mine. The delivery quite average to east malaysia. Thank you', 'Item was properly sealed and packed with Fragile sticker.\\nNo dent on the product.\\nReally super fast delivery to East Malaysia.\\n\\n👍🏽👍🏽👍🏽👍🏽👍🏽👍🏽👍🏽👍🏽👍🏽👍🏽👍🏽👍🏽👍🏽👍🏽👍🏽👍🏽👍🏽👍🏽👍🏽👍🏽👍🏽👍🏽👍🏽👍🏽👍🏽👍🏽👍🏽👍🏽👍🏽👍🏽👍🏽👍🏽👍🏽👍🏽👍🏽👍🏽👍🏽👍🏽👍🏽👍🏽👍🏽👍🏽👍🏽', 'Arrived 2 days after payment. Serve by Seng Heng. Very good price and original product.', 'Nice! Everything looks good. I was carry surface pro1. Now switch to pro7. Taller than previous but still looks beautiful.ice blue typecover but it more like light grey/sliver instead but it is still nice.thanks.', 'Buy it during the promotion, worth it ', 'Thanks man! Superb fast delivery ! All item was packed nicely 🥺🥺🥺 will buy a pen and mouse later on', 'The service was great, the product are also great, just an issue with the shipping, there are no tracking number given, need to constantly asked the customer services dept for an update on the parcel.', 'received well \\nseller very cooperative\\ngood product\\ngood price for bundle deals\\n', 'No bubble wrap whatsoever. How crazy is that ? \\nJust the box which contains Surface being put in another box. I really don’t understand why SenHeng didn’t wrap it ???', 'The items were well packed and much secure. It took 3 days to arrived for me its fast enough. Original product come with 1 year warranty as stated.. recommended 👍🏻', 'Fast delivery and product arrives in perfect condition!!', 'Fast shipping and amazing value for money.', \"Bought this on 3.3 during the wee hours which is totally worth it. Initially thought there was a problem with the type cover when I tried to input '@', but later found out that it works on English (US) and not English (UK). Once I changed the keyboard settings, the problem was solved.\", 'Everything ok', 'Product: Great!\\nDelivery time: Fast, only 2 days!\\nDelivery updates: 0/10, non-existent, even when I confirmed receipt it still showed goods have been shipped. Terrible service by delivery partner, no updates where is product or when to expect arrival. Luckily I live in apartment with concierge. ', \"I've received a very bad condition parcel and came with a dented camera. Contacted the seller from Seng Heng and informed they couldn't assist but asked to sent back to Microsoft. Microsoft does not entertained defect due to delivery. I suggest to buy from the shop, as the defect is at your own cost\", 'Nasib kurang baik...cover terima yg tak ok. Bila tekan shift + 2 keluar \" tidak keluar @. Bila tanya minta pergi center...menyesalnya beli online, xde jaminan daripada kedai. ', 'brg berkualiti', 'Receive after 4 days.\\nTq SEN HENG', 'Very fast delivery', 'Produk original, penghantaran sangat cepat, pembungkusan kemas.. sangat berpuashati', 'Terbaik...saya sgt suka, dah lama survey akhir beli juga...seller mesra pelanggan...recomanded laa sape nk beli kat sini, pas tu order senin, khmis dah smpai...⭐⭐⭐⭐⭐ pembungkusan kemas, dpt semua baru dlm plastik.', 'Very fast shipping. My surface working excellent!! Tq!!!', 'Order 2.2.2021 ... 4.2.2021 dah sampai', 'fast service. received the items within 48 hours. thank you CHN', 'Good packaging. Very quick delivery. Great value for money (when offer was valid). Works great. Good deal overall :)', 'Good product', 'Parcel diterima dalam keadaan baik. Walaupun penghantaran agak lambat. Tapi seller sangat responsive. Penghantaran ke kuching. Sangat berpuas hati. ', 'it took 14 days for microsoft to deliver the items. as comparison, it only took 7 days for items from USA to arrive at my doorstep. this is unacceptable. please improve your service. if this is your level of service, i will not recommend your store to anyone. \\nsurface pro7 is good tho. ', 'Barang selamat sampai..walaupun lewat tapi service tip top utk beri respon setiap kali tanya..terbaik..', '4 stars coz 2weeks + delivery, otherwise seller really responsive to msg and item was good', 'Best value for money during 11.11 Sale. Trusted seller. Just frustrated on the speed of delivery. Claimed shipped on 16/11 & expected at most 23/11 reaching destination. Actually, item arrived on 27/11 with no details on tracking status (not provided). Nevertheless, items have safely arrived. ', 'Barang sgt puas hati.cuma delivery agak slow.', 'Delivery too slow ', 'I would have rated a 5. But a hiccup with the shipping left me close to cancelling the order. Fortunately, the seller managed to secure a unit and had it delivered to my address. Product is in good working condition.', 'Product arrived safe with bubble wrap around but abit late for the delivery', 'Item received within 5 days!!! Fast and efficient! Love it👍👍', 'This pro 7 is so superb. Really love it. ', 'Fast Delivery & Good value for money', 'Terbaikkk!! 2 hari je dah sampai ❤️❤️❤️❤️❤️❤️❤️❤️❤️❤️❤️❤️❤️❤️❤️❤️❤️❤️❤️❤️❤️❤️', '👍🏼👍🏼👍🏼👍🏼👍🏼👍🏼👍🏼👍🏼👍🏼👍🏼👍🏼👍🏼👍🏼👍🏼👍🏼👍🏼👍🏼👍🏼👍🏼👍🏼👍🏼👍🏼👍🏼👍🏼👍🏼👍🏼👍🏼👍🏼']\n"
          ],
          "name": "stdout"
        }
      ]
    },
    {
      "cell_type": "code",
      "metadata": {
        "colab": {
          "base_uri": "https://localhost:8080/"
        },
        "id": "1TamDvsffyxb",
        "outputId": "50e922dd-ba29-4b5d-a7c8-d7eecf3b8aa0"
      },
      "source": [
        "#  Language detection using Google translator\n",
        "\n",
        "corpus_list = komen\n",
        "dataEN = []\n",
        "dataMSID = []\n",
        "for i in corpus_list: \n",
        "  t = google_translator().detect(i)\n",
        "  if t[0] == 'en':\n",
        "    dataEN.append([t[0], i])\n",
        "  elif t[0] == 'ms' or t[0] == 'id':\n",
        "    dataMSID.append([t[0], i])\n",
        "\n",
        "dfKomenEN = pd.DataFrame(dataEN)\n",
        "dfKomenEN.columns = ['Language', 'Review']\n",
        "dfKomenMSID = pd.DataFrame(dataMSID)\n",
        "dfKomenMSID.columns = ['Language', 'Review']\n",
        "print(\"English reviews: \\n\", tabulate(dfKomenEN, showindex=False, headers=dfKomenEN.columns))\n",
        "print(\"\")\n",
        "print(\"Bahasa Melayu reviews: \\n\", tabulate(dfKomenMSID, showindex=False, headers=dfKomenMSID.columns))"
      ],
      "execution_count": 10,
      "outputs": [
        {
          "output_type": "stream",
          "text": [
            "English reviews: \n",
            " Language    Review\n",
            "----------  ------------------------------------------------------------------------------------------------------------------------------------------------------------------------------------------------------------------------------------------------------------------------------------------------------------\n",
            "en          I got mine. The delivery quite average to east malaysia. Thank you\n",
            "en          Item was properly sealed and packed with Fragile sticker.\n",
            "            No dent on the product.\n",
            "            Really super fast delivery to East Malaysia.\n",
            "\n",
            "            👍🏽👍🏽👍🏽👍🏽👍🏽👍🏽👍🏽👍🏽👍🏽👍🏽👍🏽👍🏽👍🏽👍🏽👍🏽👍🏽👍🏽👍🏽👍🏽👍🏽👍🏽👍🏽👍🏽👍🏽👍🏽👍🏽👍🏽👍🏽👍🏽👍🏽👍🏽👍🏽👍🏽👍🏽👍🏽👍🏽👍🏽👍🏽👍🏽👍🏽👍🏽👍🏽👍🏽\n",
            "en          Arrived 2 days after payment. Serve by Seng Heng. Very good price and original product.\n",
            "en          Nice! Everything looks good. I was carry surface pro1. Now switch to pro7. Taller than previous but still looks beautiful.ice blue typecover but it more like light grey/sliver instead but it is still nice.thanks.\n",
            "en          Buy it during the promotion, worth it\n",
            "en          Thanks man! Superb fast delivery ! All item was packed nicely 🥺🥺🥺 will buy a pen and mouse later on\n",
            "en          The service was great, the product are also great, just an issue with the shipping, there are no tracking number given, need to constantly asked the customer services dept for an update on the parcel.\n",
            "en          received well\n",
            "            seller very cooperative\n",
            "            good product\n",
            "            good price for bundle deals\n",
            "en          No bubble wrap whatsoever. How crazy is that ?\n",
            "            Just the box which contains Surface being put in another box. I really don’t understand why SenHeng didn’t wrap it ???\n",
            "en          The items were well packed and much secure. It took 3 days to arrived for me its fast enough. Original product come with 1 year warranty as stated.. recommended 👍🏻\n",
            "en          Fast delivery and product arrives in perfect condition!!\n",
            "en          Fast shipping and amazing value for money.\n",
            "en          Bought this on 3.3 during the wee hours which is totally worth it. Initially thought there was a problem with the type cover when I tried to input '@', but later found out that it works on English (US) and not English (UK). Once I changed the keyboard settings, the problem was solved.\n",
            "en          Everything ok\n",
            "en          Product: Great!\n",
            "            Delivery time: Fast, only 2 days!\n",
            "            Delivery updates: 0/10, non-existent, even when I confirmed receipt it still showed goods have been shipped. Terrible service by delivery partner, no updates where is product or when to expect arrival. Luckily I live in apartment with concierge.\n",
            "en          I've received a very bad condition parcel and came with a dented camera. Contacted the seller from Seng Heng and informed they couldn't assist but asked to sent back to Microsoft. Microsoft does not entertained defect due to delivery. I suggest to buy from the shop, as the defect is at your own cost\n",
            "en          Receive after 4 days.\n",
            "            Tq SEN HENG\n",
            "en          Very fast delivery\n",
            "en          Very fast shipping. My surface working excellent!! Tq!!!\n",
            "en          fast service. received the items within 48 hours. thank you CHN\n",
            "en          Good packaging. Very quick delivery. Great value for money (when offer was valid). Works great. Good deal overall :)\n",
            "en          Good product\n",
            "en          it took 14 days for microsoft to deliver the items. as comparison, it only took 7 days for items from USA to arrive at my doorstep. this is unacceptable. please improve your service. if this is your level of service, i will not recommend your store to anyone.\n",
            "            surface pro7 is good tho.\n",
            "en          4 stars coz 2weeks + delivery, otherwise seller really responsive to msg and item was good\n",
            "en          Best value for money during 11.11 Sale. Trusted seller. Just frustrated on the speed of delivery. Claimed shipped on 16/11 & expected at most 23/11 reaching destination. Actually, item arrived on 27/11 with no details on tracking status (not provided). Nevertheless, items have safely arrived.\n",
            "en          Delivery too slow\n",
            "en          I would have rated a 5. But a hiccup with the shipping left me close to cancelling the order. Fortunately, the seller managed to secure a unit and had it delivered to my address. Product is in good working condition.\n",
            "en          Product arrived safe with bubble wrap around but abit late for the delivery\n",
            "en          Item received within 5 days!!! Fast and efficient! Love it👍👍\n",
            "en          This pro 7 is so superb. Really love it.\n",
            "en          Fast Delivery & Good value for money\n",
            "\n",
            "Bahasa Melayu reviews: \n",
            " Language    Review\n",
            "----------  --------------------------------------------------------------------------------------------------------------------------------------------------------------------------------------------------------------------------\n",
            "ms          Memang berbaloi tunggu promo tu !!!\n",
            "            And packaging mmg kemas dan selamat walaupun dkt kotak tu mcm kemik sikit tapi alhamdulillah takde calar pape pun dkt tab 🥺😍.\n",
            "ms          Barang sampai dalam keadaan yang selamat dan penghantaran yang baik...👍👍👍\n",
            "ms          Nasib kurang baik...cover terima yg tak ok. Bila tekan shift + 2 keluar \" tidak keluar @. Bila tanya minta pergi center...menyesalnya beli online, xde jaminan daripada kedai.\n",
            "ms          brg berkualiti\n",
            "ms          Produk original, penghantaran sangat cepat, pembungkusan kemas.. sangat berpuashati\n",
            "ms          Terbaik...saya sgt suka, dah lama survey akhir beli juga...seller mesra pelanggan...recomanded laa sape nk beli kat sini, pas tu order senin, khmis dah smpai...⭐⭐⭐⭐⭐ pembungkusan kemas, dpt semua baru dlm plastik.\n",
            "id          Order 2.2.2021 ... 4.2.2021 dah sampai\n",
            "ms          Parcel diterima dalam keadaan baik. Walaupun penghantaran agak lambat. Tapi seller sangat responsive. Penghantaran ke kuching. Sangat berpuas hati.\n",
            "id          Barang selamat sampai..walaupun lewat tapi service tip top utk beri respon setiap kali tanya..terbaik..\n",
            "ms          Barang sgt puas hati.cuma delivery agak slow.\n",
            "id          Terbaikkk!! 2 hari je dah sampai ❤️❤️❤️❤️❤️❤️❤️❤️❤️❤️❤️❤️❤️❤️❤️❤️❤️❤️❤️❤️❤️❤️\n"
          ],
          "name": "stdout"
        }
      ]
    },
    {
      "cell_type": "code",
      "metadata": {
        "id": "feU0dGytIC2W"
      },
      "source": [
        "# # Language Detection using TextBlob\n",
        "\n",
        "# corpus_list = komen\n",
        "# from textblob import TextBlob \n",
        "# import time\n",
        "\n",
        "# dataEN = []\n",
        "# dataMSID = []\n",
        "# for i in corpus_list: \n",
        "#   lang = TextBlob(i)\n",
        "#   time.sleep(1)\n",
        "#   if lang.detect_language() == 'en':\n",
        "#     dataEN.append([lang.detect_language(), i])\n",
        "#   elif lang.detect_language() == 'ms' or lang.detect_language() == 'id':\n",
        "#     dataMSID.append([lang.detect_language(), i])\n",
        "\n",
        "# dfKomenEN = pd.DataFrame(dataEN)\n",
        "# dfKomenEN.columns = ['Language', 'Review']\n",
        "# dfKomenMSID = pd.DataFrame(dataMSID)\n",
        "# dfKomenMSID.columns = ['Language', 'Review']\n",
        "# print(\"English reviews: \\n\", tabulate(dfKomenEN, showindex=False, headers=dfKomenEN.columns))\n",
        "# print(\"\")\n",
        "# print(\"Bahasa Melayu reviews: \\n\", tabulate(dfKomenMSID, showindex=False, headers=dfKomenMSID.columns))"
      ],
      "execution_count": 11,
      "outputs": []
    },
    {
      "cell_type": "code",
      "metadata": {
        "id": "jPo5xmV12UCj"
      },
      "source": [
        "# By default, the model downloaded for this pipeline is called “distilbert-base-uncased-finetuned-sst-2-english”. \n",
        "# It uses the DistilBERT architecture and has been fine-tuned on a dataset called SST-2 for the sentiment analysis task.\n",
        "classifier = pipeline('sentiment-analysis')\n",
        "\n",
        "# Using specific model\n",
        "#classifier = pipeline('sentiment-analysis', model=\"bert-base-cased\")\n",
        "#classifier = pipeline('sentiment-analysis', model=\"xlnet-base-cased\")"
      ],
      "execution_count": 12,
      "outputs": []
    },
    {
      "cell_type": "code",
      "metadata": {
        "id": "u9STtUee-QbJ"
      },
      "source": [
        "corpus = dfKomenEN['Review']\n",
        "corpus_list = corpus.tolist()\n",
        "corpus_list = [x.replace('\\n', '') for x in corpus_list]"
      ],
      "execution_count": 13,
      "outputs": []
    },
    {
      "cell_type": "code",
      "metadata": {
        "id": "KAvHiNTQ2X4w"
      },
      "source": [
        "def cls_corpus_pipeline(corpus_list):\n",
        "  data = []\n",
        "  global df\n",
        "  global df3\n",
        "  for sentence in corpus_list: \n",
        "    corpus_result = classifier(sentence)\n",
        "    listToStr = ' '.join([str(elem) for elem in corpus_result])\n",
        "    listToStr = listToStr.replace('\\'', '')\n",
        "    listToStr = listToStr.replace('}', '')\n",
        "    listToStr = listToStr.replace(',', '')\n",
        "    label = listToStr.split()[1]\n",
        "    score = listToStr.split()[3]\n",
        "    data.append([label, score, sentence])\n",
        "    df = pd.DataFrame(data)\n",
        "\n",
        "  df.columns=['Classification', 'Score', 'Text']\n",
        "  class_count  = df['Classification'].value_counts().sort_index()\n",
        "  s = df.Classification\n",
        "  counts = s.value_counts()\n",
        "  percent100 = s.value_counts(normalize=True).mul(100).round(2).astype(str) + '%'\n",
        "  df3 = pd.DataFrame({'Counts': counts, 'Percentage': percent100}).sort_index(ascending=False)"
      ],
      "execution_count": 14,
      "outputs": []
    },
    {
      "cell_type": "code",
      "metadata": {
        "id": "bw7W_f-f_5l7"
      },
      "source": [
        "cls_corpus_pipeline(corpus_list)\n",
        "dfPipeline = df.copy()\n",
        "dfPipelineCount = df3.copy()"
      ],
      "execution_count": 15,
      "outputs": []
    },
    {
      "cell_type": "code",
      "metadata": {
        "id": "ue58Sj_fPDCt"
      },
      "source": [
        "model = SentimentIntensityAnalyzer()"
      ],
      "execution_count": 16,
      "outputs": []
    },
    {
      "cell_type": "code",
      "metadata": {
        "id": "HzZHZ31kPIMi"
      },
      "source": [
        "def cls_corpus_vader(corpus_list):\n",
        "  data=[]\n",
        "  global df2\n",
        "  global df3\n",
        "  for sentence in corpus_list: \n",
        "    corpus_result = model.polarity_scores(sentence)\n",
        "    # Decide whether the text is positive, negative or neutral \n",
        "    if corpus_result['compound'] >= 0.05 : \n",
        "      cls = \"Positive\"\n",
        "    elif corpus_result['compound'] <= -0.05 : \n",
        "      cls = \"Negative\" \n",
        "    else : \n",
        "      cls = \"Neutral\" \n",
        "    data.append([corpus_result, cls, sentence])\n",
        "    df = pd.DataFrame(data)\n",
        "\n",
        "  df2 = pd.DataFrame(df[0].values.tolist(), index=df.index)\n",
        "  df2.columns=['Negative', 'Neutral', 'Positive', 'Compound']\n",
        "\n",
        "  df2['Classification'] = df[1]\n",
        "  df2['Text'] = df[2]\n",
        "  class_count  = df2['Classification'].value_counts().sort_index()\n",
        "  s = df2.Classification\n",
        "  counts = s.value_counts()\n",
        "  percent100 = s.value_counts(normalize=True).mul(100).round(2).astype(str) + '%'\n",
        "  dfvader = pd.DataFrame({'Counts': counts, 'Percentage': percent100}).sort_index(ascending=False)"
      ],
      "execution_count": 17,
      "outputs": []
    },
    {
      "cell_type": "code",
      "metadata": {
        "id": "sDb_IeFcPM9J"
      },
      "source": [
        "cls_corpus_vader(corpus_list)\n",
        "dfVader = df2.copy()\n",
        "dfVaderCount = df3.copy()"
      ],
      "execution_count": 18,
      "outputs": []
    },
    {
      "cell_type": "code",
      "metadata": {
        "colab": {
          "base_uri": "https://localhost:8080/"
        },
        "id": "Aq0ewLTplRhO",
        "outputId": "f449c6f1-e848-4cbb-837c-64b6c181aaba"
      },
      "source": [
        "flair_sentiment = flair.models.TextClassifier.load('en-sentiment')"
      ],
      "execution_count": 19,
      "outputs": [
        {
          "output_type": "stream",
          "text": [
            "2021-04-09 15:47:52,543 loading file /root/.flair/models/sentiment-en-mix-distillbert_4.pt\n"
          ],
          "name": "stdout"
        }
      ]
    },
    {
      "cell_type": "code",
      "metadata": {
        "id": "6F1vIzX_lY-5"
      },
      "source": [
        "def cls_corpus_flair(corpus_list):\n",
        "  data=[]\n",
        "  global df\n",
        "  global df3\n",
        "  for sentence in corpus_list: \n",
        "    corpus_result = flair.data.Sentence(sentence)\n",
        "    flair_sentiment.predict(corpus_result)\n",
        "    total_sentiment = corpus_result.labels\n",
        "    total_sentiment = total_sentiment.pop()\n",
        "    data.append([round(total_sentiment.score, 3), total_sentiment.value, sentence])\n",
        "  \n",
        "  df = pd.DataFrame(data)\n",
        "  df.columns=['Predict', 'Classification', 'Text']\n",
        "\n",
        "  class_count  = df['Classification'].value_counts().sort_index()\n",
        "  s = df.Classification\n",
        "  counts = s.value_counts()\n",
        "  percent100 = s.value_counts(normalize=True).mul(100).round(2).astype(str) + '%'\n",
        "  df3 = pd.DataFrame({'Counts': counts, 'Percentage': percent100}).sort_index(ascending=False)"
      ],
      "execution_count": 20,
      "outputs": []
    },
    {
      "cell_type": "code",
      "metadata": {
        "id": "DiytPpxmlxPH"
      },
      "source": [
        "cls_corpus_flair(corpus_list)\n",
        "dfFlair = df.copy()\n",
        "dfFlairCount = df3.copy()"
      ],
      "execution_count": 21,
      "outputs": []
    },
    {
      "cell_type": "code",
      "metadata": {
        "id": "xVlMv6FRmnHA"
      },
      "source": [
        "def cls_corpus_textblob(corpus_list):\n",
        "  data=[]\n",
        "  global df\n",
        "  global df3\n",
        "  for sentence in corpus_list: \n",
        "    corpus_result = TextBlob(sentence)\n",
        "    result = round(corpus_result.sentiment.polarity, 3)\n",
        "    # Decide whether the text is positive, negative or neutral \n",
        "    if result > 0 : \n",
        "      cls = \"Positive\"\n",
        "    elif result < 0 : \n",
        "      cls = \"Negative\" \n",
        "    else : \n",
        "      cls = \"Neutral\" \n",
        "    data.append([result, cls, sentence])\n",
        "\n",
        "  df = pd.DataFrame(data)\n",
        "  df.columns=['Polarity', 'Classification', 'Text']\n",
        "  class_count  = df['Classification'].value_counts().sort_index()\n",
        "  s = df.Classification\n",
        "  counts = s.value_counts()\n",
        "  percent100 = s.value_counts(normalize=True).mul(100).round(2).astype(str) + '%'\n",
        "  df3 = pd.DataFrame({'Counts': counts, 'Percentage': percent100}).sort_index(ascending=False)"
      ],
      "execution_count": 22,
      "outputs": []
    },
    {
      "cell_type": "code",
      "metadata": {
        "id": "ww2R_fmamtfo"
      },
      "source": [
        "cls_corpus_textblob(corpus_list)\n",
        "dfTextblob = df.copy()\n",
        "dfTextblobCount = df3.copy()"
      ],
      "execution_count": 23,
      "outputs": []
    },
    {
      "cell_type": "code",
      "metadata": {
        "id": "6NXR2xVNW63r",
        "colab": {
          "base_uri": "https://localhost:8080/",
          "height": 242
        },
        "outputId": "f5c9eafe-90f3-4c45-e1dd-568230728121"
      },
      "source": [
        "# Available Transformer models\n",
        "malaya.sentiment.available_transformer()"
      ],
      "execution_count": 24,
      "outputs": [
        {
          "output_type": "stream",
          "text": [
            "INFO:root:tested on 20% test set.\n"
          ],
          "name": "stderr"
        },
        {
          "output_type": "execute_result",
          "data": {
            "text/html": [
              "<div>\n",
              "<style scoped>\n",
              "    .dataframe tbody tr th:only-of-type {\n",
              "        vertical-align: middle;\n",
              "    }\n",
              "\n",
              "    .dataframe tbody tr th {\n",
              "        vertical-align: top;\n",
              "    }\n",
              "\n",
              "    .dataframe thead th {\n",
              "        text-align: right;\n",
              "    }\n",
              "</style>\n",
              "<table border=\"1\" class=\"dataframe\">\n",
              "  <thead>\n",
              "    <tr style=\"text-align: right;\">\n",
              "      <th></th>\n",
              "      <th>Size (MB)</th>\n",
              "      <th>Quantized Size (MB)</th>\n",
              "      <th>macro precision</th>\n",
              "      <th>macro recall</th>\n",
              "      <th>macro f1-score</th>\n",
              "    </tr>\n",
              "  </thead>\n",
              "  <tbody>\n",
              "    <tr>\n",
              "      <th>bert</th>\n",
              "      <td>425.6</td>\n",
              "      <td>111.00</td>\n",
              "      <td>0.99330</td>\n",
              "      <td>0.99330</td>\n",
              "      <td>0.99329</td>\n",
              "    </tr>\n",
              "    <tr>\n",
              "      <th>tiny-bert</th>\n",
              "      <td>57.4</td>\n",
              "      <td>15.40</td>\n",
              "      <td>0.98774</td>\n",
              "      <td>0.98774</td>\n",
              "      <td>0.98774</td>\n",
              "    </tr>\n",
              "    <tr>\n",
              "      <th>albert</th>\n",
              "      <td>48.6</td>\n",
              "      <td>12.80</td>\n",
              "      <td>0.99227</td>\n",
              "      <td>0.99226</td>\n",
              "      <td>0.99226</td>\n",
              "    </tr>\n",
              "    <tr>\n",
              "      <th>tiny-albert</th>\n",
              "      <td>22.4</td>\n",
              "      <td>5.98</td>\n",
              "      <td>0.98554</td>\n",
              "      <td>0.98550</td>\n",
              "      <td>0.98551</td>\n",
              "    </tr>\n",
              "    <tr>\n",
              "      <th>xlnet</th>\n",
              "      <td>446.6</td>\n",
              "      <td>118.00</td>\n",
              "      <td>0.99353</td>\n",
              "      <td>0.99353</td>\n",
              "      <td>0.99353</td>\n",
              "    </tr>\n",
              "    <tr>\n",
              "      <th>alxlnet</th>\n",
              "      <td>46.8</td>\n",
              "      <td>13.30</td>\n",
              "      <td>0.99188</td>\n",
              "      <td>0.99188</td>\n",
              "      <td>0.99188</td>\n",
              "    </tr>\n",
              "  </tbody>\n",
              "</table>\n",
              "</div>"
            ],
            "text/plain": [
              "             Size (MB)  Quantized Size (MB)  ...  macro recall  macro f1-score\n",
              "bert             425.6               111.00  ...       0.99330         0.99329\n",
              "tiny-bert         57.4                15.40  ...       0.98774         0.98774\n",
              "albert            48.6                12.80  ...       0.99226         0.99226\n",
              "tiny-albert       22.4                 5.98  ...       0.98550         0.98551\n",
              "xlnet            446.6               118.00  ...       0.99353         0.99353\n",
              "alxlnet           46.8                13.30  ...       0.99188         0.99188\n",
              "\n",
              "[6 rows x 5 columns]"
            ]
          },
          "metadata": {
            "tags": []
          },
          "execution_count": 24
        }
      ]
    },
    {
      "cell_type": "code",
      "metadata": {
        "id": "y3RF6OsdXBT3"
      },
      "source": [
        "def cls_corpus_malaya(corpus_list):\n",
        "  #model = malaya.sentiment.transformer('albert')\n",
        "  data = []\n",
        "  global df2\n",
        "  global df3\n",
        "  for i in corpus_list: \n",
        "    corpus_result = malaya.stack.predict_stack([bert, tinybert, albert, tinyalbert, xlnet, alxlnet], [i])\n",
        "    #corpus_result = model.predict_proba([i])\n",
        "    for j in corpus_result:\n",
        "      corpus_result = j.values()\n",
        "      data.append([corpus_result, i])\n",
        "\n",
        "  df = pd.DataFrame(data)\n",
        "  df2 = pd.DataFrame(df[0].values.tolist(), index=df.index)\n",
        "  df2.columns=['Negative', 'Positive', 'Neutral']\n",
        "  df2['Classification'] = df2[['Negative','Positive','Neutral']].idxmax(axis=1)\n",
        "  df2['Text'] = df[1]\n",
        "\n",
        "  class_count  = df2['Classification'].value_counts().sort_index()\n",
        "  s = df2.Classification\n",
        "  counts = s.value_counts()\n",
        "  percent100 = s.value_counts(normalize=True).mul(100).round(2).astype(str) + '%'\n",
        "  df3 = pd.DataFrame({'Counts': counts, 'Percentage': percent100})"
      ],
      "execution_count": 25,
      "outputs": []
    },
    {
      "cell_type": "code",
      "metadata": {
        "id": "ei6sgc0qXF_F"
      },
      "source": [
        "corpus = dfKomenMSID['Review']\n",
        "corpus_list = corpus.tolist()\n",
        "corpus_list = [x.replace('\\n', '') for x in corpus_list]\n",
        "cls_corpus_malaya(corpus_list)\n",
        "dfMalaya = df2.copy()\n",
        "dfMalayaCount = df3.copy()"
      ],
      "execution_count": 26,
      "outputs": []
    },
    {
      "cell_type": "code",
      "metadata": {
        "colab": {
          "base_uri": "https://localhost:8080/"
        },
        "id": "W4gzrUPMF9Jt",
        "outputId": "3c812734-db3f-4da1-905f-0bf7f82a435c"
      },
      "source": [
        "print(\"Total Number of EN Reviews: \", dfPipeline['Classification'].count())\n",
        "print(\"1. EN Model Pipeline: \\n\", dfPipelineCount)\n",
        "print(\"\")\n",
        "print(\"2. EN Model Vader: \\n\", dfVaderCount)\n",
        "print(\"\")\n",
        "print(\"3. EN Model Flair: \\n\", dfFlairCount)\n",
        "print(\"\")\n",
        "print(\"4. EN Model Textblob: \\n\", dfTextblobCount)\n",
        "print(\"\")\n",
        "print(\"Total Number of BM Reviews: \", dfMalaya['Classification'].count())\n",
        "print(\"1. BM Model Malaya: \\n\", dfMalayaCount)"
      ],
      "execution_count": 27,
      "outputs": [
        {
          "output_type": "stream",
          "text": [
            "Total Number of EN Reviews:  31\n",
            "1. EN Model Pipeline: \n",
            "           Counts Percentage\n",
            "POSITIVE      22     70.97%\n",
            "NEGATIVE       9     29.03%\n",
            "\n",
            "2. EN Model Vader: \n",
            "           Counts Percentage\n",
            "POSITIVE      22     70.97%\n",
            "NEGATIVE       9     29.03%\n",
            "\n",
            "3. EN Model Flair: \n",
            "           Counts Percentage\n",
            "POSITIVE      21     67.74%\n",
            "NEGATIVE      10     32.26%\n",
            "\n",
            "4. EN Model Textblob: \n",
            "           Counts Percentage\n",
            "Positive      25     80.65%\n",
            "Neutral        1      3.23%\n",
            "Negative       5     16.13%\n",
            "\n",
            "Total Number of BM Reviews:  11\n",
            "1. BM Model Malaya: \n",
            "           Counts Percentage\n",
            "Positive      10     90.91%\n",
            "Negative       1      9.09%\n"
          ],
          "name": "stdout"
        }
      ]
    },
    {
      "cell_type": "code",
      "metadata": {
        "colab": {
          "base_uri": "https://localhost:8080/"
        },
        "id": "jdYYXMh3HpL4",
        "outputId": "4bdd57ab-5515-4803-e777-8404e05aca17"
      },
      "source": [
        "print(\"1. EN Model Pipeline: \\n\", tabulate(dfPipeline, showindex=False, headers=dfPipeline.columns))"
      ],
      "execution_count": 28,
      "outputs": [
        {
          "output_type": "stream",
          "text": [
            "1. EN Model Pipeline: \n",
            " Classification       Score  Text\n",
            "----------------  --------  ------------------------------------------------------------------------------------------------------------------------------------------------------------------------------------------------------------------------------------------------------------------------------------------------------------\n",
            "POSITIVE          0.99978   I got mine. The delivery quite average to east malaysia. Thank you\n",
            "NEGATIVE          0.950041  Item was properly sealed and packed with Fragile sticker.No dent on the product.Really super fast delivery to East Malaysia.👍🏽👍🏽👍🏽👍🏽👍🏽👍🏽👍🏽👍🏽👍🏽👍🏽👍🏽👍🏽👍🏽👍🏽👍🏽👍🏽👍🏽👍🏽👍🏽👍🏽👍🏽👍🏽👍🏽👍🏽👍🏽👍🏽👍🏽👍🏽👍🏽👍🏽👍🏽👍🏽👍🏽👍🏽👍🏽👍🏽👍🏽👍🏽👍🏽👍🏽👍🏽👍🏽👍🏽\n",
            "POSITIVE          0.998006  Arrived 2 days after payment. Serve by Seng Heng. Very good price and original product.\n",
            "POSITIVE          0.999771  Nice! Everything looks good. I was carry surface pro1. Now switch to pro7. Taller than previous but still looks beautiful.ice blue typecover but it more like light grey/sliver instead but it is still nice.thanks.\n",
            "POSITIVE          0.999741  Buy it during the promotion, worth it\n",
            "POSITIVE          0.999838  Thanks man! Superb fast delivery ! All item was packed nicely 🥺🥺🥺 will buy a pen and mouse later on\n",
            "POSITIVE          0.971914  The service was great, the product are also great, just an issue with the shipping, there are no tracking number given, need to constantly asked the customer services dept for an update on the parcel.\n",
            "POSITIVE          0.996622  received well seller very cooperativegood productgood price for bundle deals\n",
            "NEGATIVE          0.999368  No bubble wrap whatsoever. How crazy is that ? Just the box which contains Surface being put in another box. I really don’t understand why SenHeng didn’t wrap it ???\n",
            "POSITIVE          0.995827  The items were well packed and much secure. It took 3 days to arrived for me its fast enough. Original product come with 1 year warranty as stated.. recommended 👍🏻\n",
            "POSITIVE          0.999627  Fast delivery and product arrives in perfect condition!!\n",
            "POSITIVE          0.999866  Fast shipping and amazing value for money.\n",
            "POSITIVE          0.998642  Bought this on 3.3 during the wee hours which is totally worth it. Initially thought there was a problem with the type cover when I tried to input '@', but later found out that it works on English (US) and not English (UK). Once I changed the keyboard settings, the problem was solved.\n",
            "POSITIVE          0.999824  Everything ok\n",
            "NEGATIVE          0.9239    Product: Great!Delivery time: Fast, only 2 days!Delivery updates: 0/10, non-existent, even when I confirmed receipt it still showed goods have been shipped. Terrible service by delivery partner, no updates where is product or when to expect arrival. Luckily I live in apartment with concierge.\n",
            "NEGATIVE          0.997369  I've received a very bad condition parcel and came with a dented camera. Contacted the seller from Seng Heng and informed they couldn't assist but asked to sent back to Microsoft. Microsoft does not entertained defect due to delivery. I suggest to buy from the shop, as the defect is at your own cost\n",
            "NEGATIVE          0.595768  Receive after 4 days.Tq SEN HENG\n",
            "POSITIVE          0.999513  Very fast delivery\n",
            "POSITIVE          0.999657  Very fast shipping. My surface working excellent!! Tq!!!\n",
            "POSITIVE          0.999028  fast service. received the items within 48 hours. thank you CHN\n",
            "POSITIVE          0.999808  Good packaging. Very quick delivery. Great value for money (when offer was valid). Works great. Good deal overall :)\n",
            "POSITIVE          0.999859  Good product\n",
            "POSITIVE          0.79333   it took 14 days for microsoft to deliver the items. as comparison, it only took 7 days for items from USA to arrive at my doorstep. this is unacceptable. please improve your service. if this is your level of service, i will not recommend your store to anyone. surface pro7 is good tho.\n",
            "POSITIVE          0.997718  4 stars coz 2weeks + delivery, otherwise seller really responsive to msg and item was good\n",
            "NEGATIVE          0.977062  Best value for money during 11.11 Sale. Trusted seller. Just frustrated on the speed of delivery. Claimed shipped on 16/11 & expected at most 23/11 reaching destination. Actually, item arrived on 27/11 with no details on tracking status (not provided). Nevertheless, items have safely arrived.\n",
            "NEGATIVE          0.99973   Delivery too slow\n",
            "NEGATIVE          0.787532  I would have rated a 5. But a hiccup with the shipping left me close to cancelling the order. Fortunately, the seller managed to secure a unit and had it delivered to my address. Product is in good working condition.\n",
            "NEGATIVE          0.994746  Product arrived safe with bubble wrap around but abit late for the delivery\n",
            "POSITIVE          0.999638  Item received within 5 days!!! Fast and efficient! Love it👍👍\n",
            "POSITIVE          0.999886  This pro 7 is so superb. Really love it.\n",
            "POSITIVE          0.999825  Fast Delivery & Good value for money\n"
          ],
          "name": "stdout"
        }
      ]
    },
    {
      "cell_type": "code",
      "metadata": {
        "colab": {
          "base_uri": "https://localhost:8080/"
        },
        "id": "pkKR53XSLjPl",
        "outputId": "71e4ddc1-ea60-436c-93de-d59d3257ba2f"
      },
      "source": [
        "print(\"2. EN Model Vader: \\n\", tabulate(dfVader, showindex=False, headers=dfVader.columns))"
      ],
      "execution_count": 29,
      "outputs": [
        {
          "output_type": "stream",
          "text": [
            "2. EN Model Vader: \n",
            "   Negative    Neutral    Positive    Compound  Classification    Text\n",
            "----------  ---------  ----------  ----------  ----------------  ------------------------------------------------------------------------------------------------------------------------------------------------------------------------------------------------------------------------------------------------------------------------------------------------------------\n",
            "     0          0.8         0.2        0.3612  Positive          I got mine. The delivery quite average to east malaysia. Thank you\n",
            "     0          0.822       0.178      0.5994  Positive          Item was properly sealed and packed with Fragile sticker.No dent on the product.Really super fast delivery to East Malaysia.👍🏽👍🏽👍🏽👍🏽👍🏽👍🏽👍🏽👍🏽👍🏽👍🏽👍🏽👍🏽👍🏽👍🏽👍🏽👍🏽👍🏽👍🏽👍🏽👍🏽👍🏽👍🏽👍🏽👍🏽👍🏽👍🏽👍🏽👍🏽👍🏽👍🏽👍🏽👍🏽👍🏽👍🏽👍🏽👍🏽👍🏽👍🏽👍🏽👍🏽👍🏽👍🏽👍🏽\n",
            "     0          0.686       0.314      0.6697  Positive          Arrived 2 days after payment. Serve by Seng Heng. Very good price and original product.\n",
            "     0          0.793       0.207      0.7803  Positive          Nice! Everything looks good. I was carry surface pro1. Now switch to pro7. Taller than previous but still looks beautiful.ice blue typecover but it more like light grey/sliver instead but it is still nice.thanks.\n",
            "     0          0.759       0.241      0.2263  Positive          Buy it during the promotion, worth it\n",
            "     0          0.589       0.411      0.8881  Positive          Thanks man! Superb fast delivery ! All item was packed nicely 🥺🥺🥺 will buy a pen and mouse later on\n",
            "     0.052      0.726       0.222      0.8074  Positive          The service was great, the product are also great, just an issue with the shipping, there are no tracking number given, need to constantly asked the customer services dept for an update on the parcel.\n",
            "     0          0.811       0.189      0.2732  Positive          received well seller very cooperativegood productgood price for bundle deals\n",
            "     0.176      0.824       0         -0.6767  Negative          No bubble wrap whatsoever. How crazy is that ? Just the box which contains Surface being put in another box. I really don’t understand why SenHeng didn’t wrap it ???\n",
            "     0          0.736       0.264      0.765   Positive          The items were well packed and much secure. It took 3 days to arrived for me its fast enough. Original product come with 1 year warranty as stated.. recommended 👍🏻\n",
            "     0          0.62        0.38       0.6467  Positive          Fast delivery and product arrives in perfect condition!!\n",
            "     0          0.446       0.554      0.7351  Positive          Fast shipping and amazing value for money.\n",
            "     0.097      0.827       0.076     -0.2854  Negative          Bought this on 3.3 during the wee hours which is totally worth it. Initially thought there was a problem with the type cover when I tried to input '@', but later found out that it works on English (US) and not English (UK). Once I changed the keyboard settings, the problem was solved.\n",
            "     0          0.312       0.688      0.296   Positive          Everything ok\n",
            "     0.125      0.805       0.07      -0.3786  Negative          Product: Great!Delivery time: Fast, only 2 days!Delivery updates: 0/10, non-existent, even when I confirmed receipt it still showed goods have been shipped. Terrible service by delivery partner, no updates where is product or when to expect arrival. Luckily I live in apartment with concierge.\n",
            "     0.092      0.819       0.089     -0.0453  Neutral           I've received a very bad condition parcel and came with a dented camera. Contacted the seller from Seng Heng and informed they couldn't assist but asked to sent back to Microsoft. Microsoft does not entertained defect due to delivery. I suggest to buy from the shop, as the defect is at your own cost\n",
            "     0          1           0          0       Neutral           Receive after 4 days.Tq SEN HENG\n",
            "     0          1           0          0       Neutral           Very fast delivery\n",
            "     0          0.59        0.41       0.7067  Positive          Very fast shipping. My surface working excellent!! Tq!!!\n",
            "     0          0.8         0.2        0.3612  Positive          fast service. received the items within 48 hours. thank you CHN\n",
            "     0          0.398       0.602      0.9621  Positive          Good packaging. Very quick delivery. Great value for money (when offer was valid). Works great. Good deal overall :)\n",
            "     0          0.256       0.744      0.4404  Positive          Good product\n",
            "     0.086      0.777       0.137      0.457   Positive          it took 14 days for microsoft to deliver the items. as comparison, it only took 7 days for items from USA to arrive at my doorstep. this is unacceptable. please improve your service. if this is your level of service, i will not recommend your store to anyone. surface pro7 is good tho.\n",
            "     0          0.678       0.322      0.6901  Positive          4 stars coz 2weeks + delivery, otherwise seller really responsive to msg and item was good\n",
            "     0.097      0.643       0.26       0.8548  Positive          Best value for money during 11.11 Sale. Trusted seller. Just frustrated on the speed of delivery. Claimed shipped on 16/11 & expected at most 23/11 reaching destination. Actually, item arrived on 27/11 with no details on tracking status (not provided). Nevertheless, items have safely arrived.\n",
            "     0          1           0          0       Neutral           Delivery too slow\n",
            "     0.045      0.823       0.132      0.5423  Positive          I would have rated a 5. But a hiccup with the shipping left me close to cancelling the order. Fortunately, the seller managed to secure a unit and had it delivered to my address. Product is in good working condition.\n",
            "     0          0.86        0.14       0.2382  Positive          Product arrived safe with bubble wrap around but abit late for the delivery\n",
            "     0          0.461       0.539      0.8469  Positive          Item received within 5 days!!! Fast and efficient! Love it👍👍\n",
            "     0          0.375       0.625      0.9     Positive          This pro 7 is so superb. Really love it.\n",
            "     0          0.43        0.57       0.6486  Positive          Fast Delivery & Good value for money\n"
          ],
          "name": "stdout"
        }
      ]
    },
    {
      "cell_type": "code",
      "metadata": {
        "colab": {
          "base_uri": "https://localhost:8080/"
        },
        "id": "FoYqS6dNLnBO",
        "outputId": "8c045d5a-5b69-459a-aadf-6cbabb5d2288"
      },
      "source": [
        "print(\"3. EN Model Flair: \\n\", tabulate(dfFlair, showindex=False, headers=dfFlair.columns))"
      ],
      "execution_count": 30,
      "outputs": [
        {
          "output_type": "stream",
          "text": [
            "3. EN Model Flair: \n",
            "   Predict  Classification    Text\n",
            "---------  ----------------  ------------------------------------------------------------------------------------------------------------------------------------------------------------------------------------------------------------------------------------------------------------------------------------------------------------\n",
            "    0.862  POSITIVE          I got mine. The delivery quite average to east malaysia. Thank you\n",
            "    0.905  POSITIVE          Item was properly sealed and packed with Fragile sticker.No dent on the product.Really super fast delivery to East Malaysia.👍🏽👍🏽👍🏽👍🏽👍🏽👍🏽👍🏽👍🏽👍🏽👍🏽👍🏽👍🏽👍🏽👍🏽👍🏽👍🏽👍🏽👍🏽👍🏽👍🏽👍🏽👍🏽👍🏽👍🏽👍🏽👍🏽👍🏽👍🏽👍🏽👍🏽👍🏽👍🏽👍🏽👍🏽👍🏽👍🏽👍🏽👍🏽👍🏽👍🏽👍🏽👍🏽👍🏽\n",
            "    0.986  POSITIVE          Arrived 2 days after payment. Serve by Seng Heng. Very good price and original product.\n",
            "    0.996  POSITIVE          Nice! Everything looks good. I was carry surface pro1. Now switch to pro7. Taller than previous but still looks beautiful.ice blue typecover but it more like light grey/sliver instead but it is still nice.thanks.\n",
            "    0.999  POSITIVE          Buy it during the promotion, worth it\n",
            "    0.996  POSITIVE          Thanks man! Superb fast delivery ! All item was packed nicely 🥺🥺🥺 will buy a pen and mouse later on\n",
            "    0.994  NEGATIVE          The service was great, the product are also great, just an issue with the shipping, there are no tracking number given, need to constantly asked the customer services dept for an update on the parcel.\n",
            "    0.992  POSITIVE          received well seller very cooperativegood productgood price for bundle deals\n",
            "    1      NEGATIVE          No bubble wrap whatsoever. How crazy is that ? Just the box which contains Surface being put in another box. I really don’t understand why SenHeng didn’t wrap it ???\n",
            "    0.999  POSITIVE          The items were well packed and much secure. It took 3 days to arrived for me its fast enough. Original product come with 1 year warranty as stated.. recommended 👍🏻\n",
            "    0.999  POSITIVE          Fast delivery and product arrives in perfect condition!!\n",
            "    0.997  POSITIVE          Fast shipping and amazing value for money.\n",
            "    1      POSITIVE          Bought this on 3.3 during the wee hours which is totally worth it. Initially thought there was a problem with the type cover when I tried to input '@', but later found out that it works on English (US) and not English (UK). Once I changed the keyboard settings, the problem was solved.\n",
            "    0.99   POSITIVE          Everything ok\n",
            "    0.999  NEGATIVE          Product: Great!Delivery time: Fast, only 2 days!Delivery updates: 0/10, non-existent, even when I confirmed receipt it still showed goods have been shipped. Terrible service by delivery partner, no updates where is product or when to expect arrival. Luckily I live in apartment with concierge.\n",
            "    1      NEGATIVE          I've received a very bad condition parcel and came with a dented camera. Contacted the seller from Seng Heng and informed they couldn't assist but asked to sent back to Microsoft. Microsoft does not entertained defect due to delivery. I suggest to buy from the shop, as the defect is at your own cost\n",
            "    0.999  NEGATIVE          Receive after 4 days.Tq SEN HENG\n",
            "    0.894  POSITIVE          Very fast delivery\n",
            "    0.998  POSITIVE          Very fast shipping. My surface working excellent!! Tq!!!\n",
            "    0.994  POSITIVE          fast service. received the items within 48 hours. thank you CHN\n",
            "    0.999  POSITIVE          Good packaging. Very quick delivery. Great value for money (when offer was valid). Works great. Good deal overall :)\n",
            "    0.983  POSITIVE          Good product\n",
            "    1      NEGATIVE          it took 14 days for microsoft to deliver the items. as comparison, it only took 7 days for items from USA to arrive at my doorstep. this is unacceptable. please improve your service. if this is your level of service, i will not recommend your store to anyone. surface pro7 is good tho.\n",
            "    0.883  POSITIVE          4 stars coz 2weeks + delivery, otherwise seller really responsive to msg and item was good\n",
            "    0.701  NEGATIVE          Best value for money during 11.11 Sale. Trusted seller. Just frustrated on the speed of delivery. Claimed shipped on 16/11 & expected at most 23/11 reaching destination. Actually, item arrived on 27/11 with no details on tracking status (not provided). Nevertheless, items have safely arrived.\n",
            "    0.999  NEGATIVE          Delivery too slow\n",
            "    0.686  NEGATIVE          I would have rated a 5. But a hiccup with the shipping left me close to cancelling the order. Fortunately, the seller managed to secure a unit and had it delivered to my address. Product is in good working condition.\n",
            "    0.944  NEGATIVE          Product arrived safe with bubble wrap around but abit late for the delivery\n",
            "    0.999  POSITIVE          Item received within 5 days!!! Fast and efficient! Love it👍👍\n",
            "    0.998  POSITIVE          This pro 7 is so superb. Really love it.\n",
            "    0.995  POSITIVE          Fast Delivery & Good value for money\n"
          ],
          "name": "stdout"
        }
      ]
    },
    {
      "cell_type": "code",
      "metadata": {
        "colab": {
          "base_uri": "https://localhost:8080/"
        },
        "id": "lnhCbBqzLqRF",
        "outputId": "500eeb0e-b555-43b7-d2d1-9c923285be67"
      },
      "source": [
        "print(\"4. EN Model Textblob: \\n\", tabulate(dfTextblob, showindex=False, headers=dfTextblob.columns))"
      ],
      "execution_count": 31,
      "outputs": [
        {
          "output_type": "stream",
          "text": [
            "4. EN Model Textblob: \n",
            "   Polarity  Classification    Text\n",
            "----------  ----------------  ------------------------------------------------------------------------------------------------------------------------------------------------------------------------------------------------------------------------------------------------------------------------------------------------------------\n",
            "    -0.15   Negative          I got mine. The delivery quite average to east malaysia. Thank you\n",
            "     0.133  Positive          Item was properly sealed and packed with Fragile sticker.No dent on the product.Really super fast delivery to East Malaysia.👍🏽👍🏽👍🏽👍🏽👍🏽👍🏽👍🏽👍🏽👍🏽👍🏽👍🏽👍🏽👍🏽👍🏽👍🏽👍🏽👍🏽👍🏽👍🏽👍🏽👍🏽👍🏽👍🏽👍🏽👍🏽👍🏽👍🏽👍🏽👍🏽👍🏽👍🏽👍🏽👍🏽👍🏽👍🏽👍🏽👍🏽👍🏽👍🏽👍🏽👍🏽👍🏽👍🏽\n",
            "     0.642  Positive          Arrived 2 days after payment. Serve by Seng Heng. Very good price and original product.\n",
            "     0.364  Positive          Nice! Everything looks good. I was carry surface pro1. Now switch to pro7. Taller than previous but still looks beautiful.ice blue typecover but it more like light grey/sliver instead but it is still nice.thanks.\n",
            "     0.3    Positive          Buy it during the promotion, worth it\n",
            "     0.42   Positive          Thanks man! Superb fast delivery ! All item was packed nicely 🥺🥺🥺 will buy a pen and mouse later on\n",
            "     0.533  Positive          The service was great, the product are also great, just an issue with the shipping, there are no tracking number given, need to constantly asked the customer services dept for an update on the parcel.\n",
            "     0.2    Positive          received well seller very cooperativegood productgood price for bundle deals\n",
            "    -0.2    Negative          No bubble wrap whatsoever. How crazy is that ? Just the box which contains Surface being put in another box. I really don’t understand why SenHeng didn’t wrap it ???\n",
            "     0.244  Positive          The items were well packed and much secure. It took 3 days to arrived for me its fast enough. Original product come with 1 year warranty as stated.. recommended 👍🏻\n",
            "     0.6    Positive          Fast delivery and product arrives in perfect condition!!\n",
            "     0.4    Positive          Fast shipping and amazing value for money.\n",
            "     0.06   Positive          Bought this on 3.3 during the wee hours which is totally worth it. Initially thought there was a problem with the type cover when I tried to input '@', but later found out that it works on English (US) and not English (UK). Once I changed the keyboard settings, the problem was solved.\n",
            "     0.5    Positive          Everything ok\n",
            "    -0.053  Negative          Product: Great!Delivery time: Fast, only 2 days!Delivery updates: 0/10, non-existent, even when I confirmed receipt it still showed goods have been shipped. Terrible service by delivery partner, no updates where is product or when to expect arrival. Luckily I live in apartment with concierge.\n",
            "    -0.109  Negative          I've received a very bad condition parcel and came with a dented camera. Contacted the seller from Seng Heng and informed they couldn't assist but asked to sent back to Microsoft. Microsoft does not entertained defect due to delivery. I suggest to buy from the shop, as the defect is at your own cost\n",
            "     0      Neutral           Receive after 4 days.Tq SEN HENG\n",
            "     0.26   Positive          Very fast delivery\n",
            "     0.63   Positive          Very fast shipping. My surface working excellent!! Tq!!!\n",
            "     0.2    Positive          fast service. received the items within 48 hours. thank you CHN\n",
            "     0.562  Positive          Good packaging. Very quick delivery. Great value for money (when offer was valid). Works great. Good deal overall :)\n",
            "     0.7    Positive          Good product\n",
            "     0.35   Positive          it took 14 days for microsoft to deliver the items. as comparison, it only took 7 days for items from USA to arrive at my doorstep. this is unacceptable. please improve your service. if this is your level of service, i will not recommend your store to anyone. surface pro7 is good tho.\n",
            "     0.45   Positive          4 stars coz 2weeks + delivery, otherwise seller really responsive to msg and item was good\n",
            "     0.2    Positive          Best value for money during 11.11 Sale. Trusted seller. Just frustrated on the speed of delivery. Claimed shipped on 16/11 & expected at most 23/11 reaching destination. Actually, item arrived on 27/11 with no details on tracking status (not provided). Nevertheless, items have safely arrived.\n",
            "    -0.3    Negative          Delivery too slow\n",
            "     0.375  Positive          I would have rated a 5. But a hiccup with the shipping left me close to cancelling the order. Fortunately, the seller managed to secure a unit and had it delivered to my address. Product is in good working condition.\n",
            "     0.1    Positive          Product arrived safe with bubble wrap around but abit late for the delivery\n",
            "     0.375  Positive          Item received within 5 days!!! Fast and efficient! Love it👍👍\n",
            "     0.75   Positive          This pro 7 is so superb. Really love it.\n",
            "     0.45   Positive          Fast Delivery & Good value for money\n"
          ],
          "name": "stdout"
        }
      ]
    },
    {
      "cell_type": "code",
      "metadata": {
        "colab": {
          "base_uri": "https://localhost:8080/"
        },
        "id": "180sePtfLtPf",
        "outputId": "45f0e215-7469-4e80-d3e0-330bb107c850"
      },
      "source": [
        "print(\"1. BM Model Malaya: \\n\", tabulate(dfMalaya, showindex=False, headers=dfMalaya.columns))"
      ],
      "execution_count": 32,
      "outputs": [
        {
          "output_type": "stream",
          "text": [
            "1. BM Model Malaya: \n",
            "    Negative     Positive      Neutral  Classification    Text\n",
            "-----------  -----------  -----------  ----------------  --------------------------------------------------------------------------------------------------------------------------------------------------------------------------------------------------------------------------\n",
            "5.28512e-06  0.997439     0.000522789  Positive          Memang berbaloi tunggu promo tu !!!And packaging mmg kemas dan selamat walaupun dkt kotak tu mcm kemik sikit tapi alhamdulillah takde calar pape pun dkt tab 🥺😍.\n",
            "0.000134307  0.94672      0.0132966    Positive          Barang sampai dalam keadaan yang selamat dan penghantaran yang baik...👍👍👍\n",
            "0.99902      1.53571e-06  0.00015033   Negative          Nasib kurang baik...cover terima yg tak ok. Bila tekan shift + 2 keluar \" tidak keluar @. Bila tanya minta pergi center...menyesalnya beli online, xde jaminan daripada kedai.\n",
            "3.79842e-06  0.999023     0.000374773  Positive          brg berkualiti\n",
            "6.9786e-05   0.968913     0.00690849   Positive          Produk original, penghantaran sangat cepat, pembungkusan kemas.. sangat berpuashati\n",
            "3.03155e-06  0.999039     0.000299949  Positive          Terbaik...saya sgt suka, dah lama survey akhir beli juga...seller mesra pelanggan...recomanded laa sape nk beli kat sini, pas tu order senin, khmis dah smpai...⭐⭐⭐⭐⭐ pembungkusan kemas, dpt semua baru dlm plastik.\n",
            "0.00131235   0.380701     0.0716173    Positive          Order 2.2.2021 ... 4.2.2021 dah sampai\n",
            "1.35126e-05  0.989042     0.00133445   Positive          Parcel diterima dalam keadaan baik. Walaupun penghantaran agak lambat. Tapi seller sangat responsive. Penghantaran ke kuching. Sangat berpuas hati.\n",
            "5.32235e-05  0.988786     0.00526898   Positive          Barang selamat sampai..walaupun lewat tapi service tip top utk beri respon setiap kali tanya..terbaik..\n",
            "7.38733e-06  0.998288     0.000731028  Positive          Barang sgt puas hati.cuma delivery agak slow.\n",
            "3.32376e-05  0.949118     0.00328587   Positive          Terbaikkk!! 2 hari je dah sampai ❤️❤️❤️❤️❤️❤️❤️❤️❤️❤️❤️❤️❤️❤️❤️❤️❤️❤️❤️❤️❤️❤️\n"
          ],
          "name": "stdout"
        }
      ]
    },
    {
      "cell_type": "code",
      "metadata": {
        "id": "qZfBqSDTWEd1"
      },
      "source": [
        "# # Testing\n",
        "# model = malaya.sentiment.transformer('alxlnet')\n",
        "# string1 = 'Item selamat sampai. Tiada kerosakan. Tak sampai 24 jam order dh smpaii wowww💖 Seller bagus, call bgtau psl stock. Good job'\n",
        "# model.predict_proba([string1])"
      ],
      "execution_count": 33,
      "outputs": []
    }
  ]
}