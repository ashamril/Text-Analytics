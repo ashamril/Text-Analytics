{
  "nbformat": 4,
  "nbformat_minor": 0,
  "metadata": {
    "colab": {
      "name": "Sentiment Analysis of Shopee product reviews.ipynb",
      "provenance": [],
      "collapsed_sections": [],
      "authorship_tag": "ABX9TyPQrsvwfkY0FbPVhgBFVvON",
      "include_colab_link": true
    },
    "kernelspec": {
      "display_name": "Python 3",
      "name": "python3"
    }
  },
  "cells": [
    {
      "cell_type": "markdown",
      "metadata": {
        "id": "view-in-github",
        "colab_type": "text"
      },
      "source": [
        "<a href=\"https://colab.research.google.com/github/ashamril/Text-Analytics/blob/master/Sentiment_Analysis_of_Shopee_product_reviews.ipynb\" target=\"_parent\"><img src=\"https://colab.research.google.com/assets/colab-badge.svg\" alt=\"Open In Colab\"/></a>"
      ]
    },
    {
      "cell_type": "markdown",
      "metadata": {
        "id": "KNhAWqL9SJpF"
      },
      "source": [
        "# Sentiment Analysis of Shopee product reviews\n",
        "## English reviews are using 4 pre-trained machine learning models\n",
        "1. Huggingface Pipeline<br>\n",
        "The pipelines are a great and easy way to use models for inference. These pipelines are objects that abstract most of the complex code from the library, offering a simple API dedicated to several tasks, including Named Entity Recognition, Masked Language Modeling, Sentiment Analysis, Feature Extraction and Question Answering<br>\n",
        "https://huggingface.co/transformers/main_classes/pipelines.html\n",
        "2. VADER<br>\n",
        "Valence Aware Dictionary and sEntiment Reasoner is a lexicon and rule-based sentiment analysis tool that is specifically attuned to sentiments expressed in social media.\n",
        "VADER uses a combination of a sentiment lexicon is a list of lexical features (e.g., words) which are generally labelled according to their semantic orientation as either positive or negative.<br>\n",
        "https://github.com/cjhutto/vaderSentiment\n",
        "3. Flair<br>\n",
        "Flair’s sentiment classifier is based on a character-level LSTM neural network which takes sequences of letters and words into account when predicting\n",
        "Allows you to apply state-of-the-art natural language processing (NLP) models to sections of text. It works quite differently to the previously mentioned models. \n",
        "Flair utilizes a pre-trained model to detect positive or negative comments and print a number in brackets behind the label which is a prediction confidence.<br>\n",
        "https://github.com/flairNLP/flair\n",
        "4. Textblob<br>\n",
        "Textblob’s Sentiment Analysis works in a similar way to NLTK — using a bag of words classifier, but the advantage is that it includes Subjectivity Analysis too (how factual/opinionated a piece of text is)<br>\n",
        "https://textblob.readthedocs.io/en/dev/\n",
        "<br>\n",
        "\n",
        "## Bahasa Melayu reviews are using 1 pre-trained machine learning model\n",
        "1. Malaya<br>\n",
        "A Natural-Language-Toolkit library for Bahasa Malaysia, powered by Deep Learning Tensorflow.\n",
        "Malaya provided basic interface for Pre-trained Transformer encoder models, specific to Malay, local social media slang and Manglish language, called Transformer-Bahasa.<br>\n",
        "https://malaya.readthedocs.io/en/latest/"
      ]
    },
    {
      "cell_type": "code",
      "metadata": {
        "id": "eiMXqU08sXM5"
      },
      "source": [
        "%pip -q install tabulate\n",
        "%pip -q install textblob\n",
        "%pip -q install google_trans_new\n",
        "%pip -q install flair\n",
        "%pip -q install malaya"
      ],
      "execution_count": null,
      "outputs": []
    },
    {
      "cell_type": "code",
      "metadata": {
        "colab": {
          "base_uri": "https://localhost:8080/"
        },
        "id": "B9EruCqRwKIs",
        "outputId": "16c4011e-c541-4ae9-be6f-b861f83355c0"
      },
      "source": [
        "import re\n",
        "import requests\n",
        "import pandas as pd\n",
        "from tabulate import tabulate\n",
        "import nltk\n",
        "nltk.download('vader_lexicon')\n",
        "from nltk.sentiment.vader import SentimentIntensityAnalyzer\n",
        "import flair\n",
        "import malaya\n",
        "import json\n",
        "from google_trans_new import google_translator\n",
        "from transformers import pipeline\n",
        "import matplotlib.pyplot as plt\n",
        "from textblob import TextBlob"
      ],
      "execution_count": null,
      "outputs": [
        {
          "output_type": "stream",
          "text": [
            "[nltk_data] Downloading package vader_lexicon to /root/nltk_data...\n",
            "[nltk_data]   Package vader_lexicon is already up-to-date!\n"
          ],
          "name": "stdout"
        },
        {
          "output_type": "stream",
          "text": [
            "/usr/local/lib/python3.7/dist-packages/nltk/twitter/__init__.py:20: UserWarning: The twython library has not been installed. Some functionality from the twitter package will not be available.\n",
            "  warnings.warn(\"The twython library has not been installed. \"\n",
            "/usr/local/lib/python3.7/dist-packages/malaya/function/__init__.py:32: UserWarning: Cannot import beam_search_ops not available for Tensorflow 2, `deep_model` for stemmer will not available to use.\n",
            "  'Cannot import beam_search_ops not available for Tensorflow 2, `deep_model` for stemmer will not available to use.'\n"
          ],
          "name": "stderr"
        }
      ]
    },
    {
      "cell_type": "code",
      "metadata": {
        "id": "93GMZ9x-tB1k"
      },
      "source": [
        "# Using stacking model for better results\n",
        "bert = malaya.sentiment.transformer('bert')\n",
        "tinybert = malaya.sentiment.transformer('tiny-bert')\n",
        "albert = malaya.sentiment.transformer('albert')\n",
        "tinyalbert = malaya.sentiment.transformer('tiny-albert')\n",
        "xlnet = malaya.sentiment.transformer('xlnet')\n",
        "alxlnet = malaya.sentiment.transformer('alxlnet')"
      ],
      "execution_count": null,
      "outputs": []
    },
    {
      "cell_type": "code",
      "metadata": {
        "colab": {
          "base_uri": "https://localhost:8080/"
        },
        "id": "inktngoHUrOP",
        "outputId": "b26b65b1-0f1d-4c1e-b2bf-6551473cbdc0"
      },
      "source": [
        "url = input(\"Enter the Shopee product URL: \")\n",
        "# # Example: https://shopee.com.my/Acer-Aspire-3-A315-35-15.6-Laptop-(Celeron-N4500-4GB-256GB-Intel)-(Windows-10-Pro-Basic-Installation)-i.268863847.4038359450"
      ],
      "execution_count": 112,
      "outputs": [
        {
          "output_type": "stream",
          "text": [
            "Enter the Shopee product URL: https://shopee.com.my/TTRacing-Swift-X-2020-Gaming-Chair-i.296677843.5646712777\n"
          ],
          "name": "stdout"
        }
      ]
    },
    {
      "cell_type": "code",
      "metadata": {
        "colab": {
          "base_uri": "https://localhost:8080/"
        },
        "id": "vrZVMivtONcC",
        "outputId": "6e3674e4-7590-462a-d766-8a0b98ab9fed"
      },
      "source": [
        "#url = 'https://shopee.com.my/-Bundle-Microsoft-Surface-Pro-7-Platinum-(i5-1035G4-Intel-Iris-Plus-Graphics-8GB-128GB-12.3-Windows-10)-i.154568882.4433101145'\n",
        "#url = 'https://shopee.com.my/Acer-Aspire-3-A315-35-15.6-Laptop-(Celeron-N4500-4GB-256GB-Intel)-(Windows-10-Pro-Basic-Installation)-i.268863847.4038359450'\n",
        "#url = 'https://shopee.com.my/%E3%80%90EXP-MAY-2021%E3%80%91Nongshim-Shin-Ramyun-Korea-Ramen-5-Pack-%E9%9F%A9%E5%9B%BD%E8%BE%9B%E6%8B%89%E9%9D%A2%E6%B3%A1%E8%8F%9C%E9%9D%A2-Instant-Spicy-Noodle-Soup-i.39931794.2920958018'\n",
        "#url = 'https://shopee.com.my/Verbatim-New-Slider-USB-2.0-Flash-Drive-Pendrive-16GB-32GB-i.143275520.2312604078'\n",
        "#url = \"https://shopee.com.my/Scott's-Vitamin-C-Pastilles-Orange-(50s)-i.21516516.297088349\"\n",
        "\n",
        "numberInURL = re.findall('\\d+', url)\n",
        "itemid = numberInURL[-1]\n",
        "shopid = numberInURL[-2]\n",
        "print(\"Shop ID: \", shopid)\n",
        "print(\"Item ID: \", itemid)"
      ],
      "execution_count": 113,
      "outputs": [
        {
          "output_type": "stream",
          "text": [
            "Shop ID:  296677843\n",
            "Item ID:  5646712777\n"
          ],
          "name": "stdout"
        }
      ]
    },
    {
      "cell_type": "code",
      "metadata": {
        "colab": {
          "base_uri": "https://localhost:8080/"
        },
        "id": "gEf46SMxT1N1",
        "outputId": "6b6da803-1e16-411b-9720-af4c6b340210"
      },
      "source": [
        "ratings_url = 'https://shopee.com.my/api/v2/item/get_ratings?filter=0&flag=1&itemid={item_id}&limit=20&offset={offset}&shopid={shop_id}&type=0'\n",
        "\n",
        "komen = []\n",
        "offset = 0\n",
        "\n",
        "while True:\n",
        "    data = requests.get(ratings_url.format(shop_id=shopid, item_id=itemid, offset=offset)).json()\n",
        "\n",
        "    # uncomment this to print all data:\n",
        "    # print(json.dumps(data, indent=4))\n",
        "\n",
        "    i = 1\n",
        "    for i, rating in enumerate(data['data']['ratings'], 1):\n",
        "      #if len(rating['comment']) > 2:\n",
        "        #print(i, rating['comment'])\n",
        "        #print('-' * 80)\n",
        "        komen.append(rating['comment'])\n",
        "    if i % 20:\n",
        "        break\n",
        "    offset += 20\n",
        "\n",
        "komen = list(filter(None, komen))\n",
        "komen = [x.replace('\\n', '') for x in komen]\n",
        "\n",
        "print(komen)"
      ],
      "execution_count": 114,
      "outputs": [
        {
          "output_type": "stream",
          "text": [
            "['Fast delivery and all in good condition. Real comfortable chair.', 'ok sedap duduk atas gaming chair ni sampai tertidoq hehe tqq', 'thorbaekthorbaekthorbaekthorbaekthorbaekthorbaekthorbaek', 'I love the chair !!! Although pre order took quite some time but it’s really comfortable and beautiful. Smells like the interior of a new car too 😹. Thank you seller!!', 'Fast delivery !Nice product !Seller very nice !Like ! Like ! Like ', 'Good product quality good value for money fast delivery date', 'Bought at 27 March arrived 31 March although mentioned pre-order . Super fast delivery and worth for money', 'Mantap seller .. walau pre order tp pantas .. Moga murah rezeki seller .. amin', 'Products well packing, received in good condition ', 'Already recieved mine, thanks seller, provinding us with good service', 'Barang puas hati cuma lmbat sikit ja', 'I topup change to TTracing Surge Red because stock ready. if swift X preorder take time. I think its worth to topup to surge. I really like this gaming chair. Thumbs up 👍', 'Thanks seller for the above. I bought TTRacing Swift X2020 in red. Seat ada aesthetic flaws, so kita tengah tunggu replacement. Nonetheless, the seller and his support team are very2 supportive and responsive. Hopefully the replacement part is great as well. The seat is very nice & comfortable!!!!♥️', 'Barang sampai dalam keadaan baik dan terkawal dan dihantar dengan cepat oleh penjual.Cara bersembang pon amat mesra ', \"Holy moly! You just don't feel like getting up once you've seated. Great stuff indeed. Assembling wasn't hard too. However since there's no ventilation for the back seat, best to seat in a cold, air-conditioned or near fan environment. In total, worth the prize. 👍\", 'It got quality, feel comfortable n sturdy.. But a bit disappointed with the lumbar cushion, suppose to have a straps..Anyway so far so good. ', 'Barang baik. Sedap duduk. Order then seller bagitahu kena pre order, dapat dalam lagi 3 minggu. Tapi dalam seminggu lepas tu tiba2 dapat message yang kerusi dah otw. Terbaik.Seller response pon tip top sampai tgh mlm pon layan', 'The shipping time is a long time, it will be a little hot after sitting for a long time. Other good', 'Comfortable, doesn’t disappoint!Seller is super helpful and quick to respond to messages. Easy to assemble ', 'Items received with wrong color. Originally I ordered black, but then I chatted with the seller to change it to grey since the black color was out of stock. Unfortunately, the seller sent me the red one. Since, I already assembled it and dont want to face the hassle of returning it, i accepted it.', \"Great product! Bought this during sales n worth every penny.Delivery was great just no update from the courier. (Didn't state it will be deliver today)It cost a tiny little cracked but it doesn't matter for me.Assemble easily n super fast with just 20 - 25 min by myself.\", 'ALHAMDULILLAH...selamat sampai...a very friendly and superb seller. Mine was pre-ordered and should be posted on 1st Feb. But I received the chair on 1st. Very fast. The chair is very comfy and awesome. Love it ', 'This chair is super nice for the price. Tried Corsair Rush few days back priced at 1.4k. This TT Racing chair, is comparable to that in comfort level at a much lower price. Truly a bargain. *Plus Extra Star for the chat responsiveness and seller professionalism in communicating with customer. 👍', 'Got the swift x within 2 days after placing order on 2.2 midnight. Very good deal as it was lowered to RM519 and with vouchers, I got it at RM493, about RM100 lower than its usual price. Glad I waited till 2.2 sales. Courier is good too. Seller is responsive to questions too. ', 'Items received as advertised. Fast delivery and service by seller. ', 'tq very much seller. sgt friendly dan sbr lyn setiap pertanyaan. very comfy n original', \"Very comfortable!! Very worth the price. Just what i expected. The padding is just enough, the material is also good. And it's very easy to assemble, took only half an hour for me to assemble them. Very worth it\", 'Mantap.. fast delivery, nice services by seller.. dpt grab msa tgh promo, da pasang & sgt seller.. recommended utk yg cari gaming chair.. xda defect, & packing pun nice', 'My bro loves it! I gave this for his upcoming birthday this 7/2. Sooo comfy and worth the money! Highly recommended! HE LOVES IT SO MUCH!! You guys need to buy this also okie!!! THANK YOU SO MUCH TTRACING MALAYSIA! ❤️❤️❤️', 'Fast delivery ... easy to assembly ... very comfortable chair 👍🏻👍🏻', 'siap pasang within 50minutes. boleh siap cepat lagi sbnr nya since i tak perasan skru2 dh attached dkt body kerusi. proses unscrewed dan screwed tu ambil masa jugak 😝 all in all. senang je pasang. just follow je the diagram. thankyou seller. brg semua complete. quality pun awesome.', 'Penghantaran memang thorbaek, 2 hari dah terima dgn kotak masih baru, thorbaek abang delivery. Material mmg memuaskan, lembut tapi tahan lasak. Senang nak pasang. Dapat pula bantal 2 biji. Mmg boek la ttracing. Seller pun peramah. Nak repeat oder lagu ni. Beribu bintang di langit. ', 'Very fast to receive the gaming chair... although expensive but is really comfortable when sitting on this chair.', \"Some paint detached at certain parts. The assembly is darned difficult without video instructions. But overall, I'm satisfied\", 'Wow penghantaran sangat pantas. 2 hari sudah sampai. risau juga lambat sampai bila lihat komen di fb courier tu. Kerusi sangat selesa dan berkualiti. Senang pasang. Lepasni x perlu risau sgt sakit belakang Bekerja Dari Rumah BDR. Tq TTRacing. ', 'Padu....fast delivery n good customer services...trbaik bossku...', 'Berbaloi beli untuk husband ✌🏻husband love it!!', 'Good quality and good product. Seller response time very fast. Customer service tip top.. Thank you seller. Wish you sell plenty. ', 'Bought preorder on 12.12 sale, received on 29.12. Very good product. Installation was easy. Recommended seller. 👍', 'OK. Second time dah beli ni. ', 'Baik bagus barang baik kerusi selesa delivery on time packaging baik', '1st of all i would like to say, very fast delivery. I did not expect to received it earlier than Shoppe or seller estimation. Secondly thanks to seller for great service and helpful conversation. Last but not least, the product is just simply astonishing. I am a happy nerdy now. 😂', '💯 ', 'Tipu!! Say pre order but arrived within 3 days 😂🤣 I was planning not to tell my boyfriend mana tau you arrived so early the surprise bocor d! But he loves it so much, the smell (plastic smell) it very heavy so be mindful when you put in a small room. ', 'Barang sampai Dengan selamat... Tetap 5 star walaupun kurang 2 skru Dan seller ganti juga... Paling memuaskan ialah saya minta tukar ke stealh....  Kuality dah rasa sebelum beli... Kat cc 24 jam pun boleh pakai hingga lebih kurang 2 tahun walaupun macam2 size duduk Dan tidur... Recommended sangat', 'Sape sanggup tunggu mmg bebaloi la. Lame nk dpt tapi kualiti superb. ', 'Bantal di punggung memang tiada tali ya bosku...btw nice gaming chair...😁', 'Arrived next day after shipped out. Thank you so much for the great service and chairs.', 'Goods received in good condition,  not too difficult to assembly. 👍👍', 'This chair is superb!Very comfy feels like expensive chair and the built is in very high quality.Recommended for those who wants to find gaming / office chair.Will repeat order for my wifey soon. Although need to wait for pre order but seller sent out the item ahead of scheduled time.Good product!', 'Hampir sebulan gakk laa tunggu barang pre-order ni,tu mmg xleh wat apa laa sbb mmg dh bg tau tempoh dlm 25 hari utk dpt..tpi apa yg terbaik nye,bru semalam seller kate brng dh hanta keluar,arini dh dpt..mmg terbaik.bab pasang tu ok laa sbb ada instruction yg mudah paham..terbaik bossku', \"Feel cheated. Didn't receive the adjustable lumbar strap.Edit: My bad. Didn't realize it was as advertised. They didn't cheat me at all.\", 'After product available, very fast delivery. Chair quality really nice. Love it! ', 'Installation take 30min. ', 'Yesterday order and today get it. Good product quality and comfortable🌟🌟🌟🌟🌟', 'Kerusi selesa , kemas dan cantik. Pemasangan yang mudah dlm setengah jam dah siap pasang. Cuma kotak penghantaran saja kemek teruk tp nasib baik barang semua okay. Terima kasih', 'Delivery faster than expected! Product is good seller is responsive good job 👍🏻 ', 'Delivery faster than expected dateUndamaged package at allThe colour on the seat seems to fade a bit..but thats OK...Very satisfied!', 'Akhirnya sampai... TQ TTracing...Semalam pos hari ni smpai depan pintu rumah👍👍👍👍👍👍', 'Thankyou , my husband love it ❤️✨', 'kerusi sampai dengan keadaan selamat... sedap duduk... selesaaaa', 'Although the price is cheap. When you see this chair in person, it looks like High Quality Gaming Chair. Sit on it its like a dream. Recommended to everyone.', 'good', 'Sedap duduk tp xde kaler pink🥰', 'Paduu!!', 'Mantap', 'Took almost a month to deliver. Everytjing else is okay.', 'Classic, comfort, worth the money!', 'Comfy!', 'Sangat puas hati dan selesa! Delivery pun cepat tiptop 👍🏻', 'Barang baekk boss', 'Items received safely.. thank you seller.', 'Fast delivery!!!! received early than expected! Quality also best!', 'mantap', 'arrived and done installed. Overall good. Good service by seller. Shipped out earlier than expected. ', 'Excellent product! ', 'Good quality chair 😍', 'Terbaik ', '不错，很好', 'easy assembly!', 'great product !', 'Good quality, TQ very much..........👌👌👌👌😍', 'Barang diterima dalam keadaan baik ! Postage on time ! Seller baik selalu update .. tq seller 👍🏾', 'Fast delivery but the tt racing sewing not so good, already naik', '1) Fast delivery because it is pre order.2) I received 1 wheel that cannot plug in because got 2 hinge but customer service really helpful.3) Product quality is very good and it is super comfortable.', 'Very comfortable chair! Can get kinda hot after sitting for too long if there is no air cond. Took me an hour plus to assemble because they are pretty heavy. Delivery all good, no damage or scratches. ', 'Product quality is good but delivery service is poor. No one can answer on the expected delivery date until I filed for return.Please order only if you are fine with the super long waiting period. It would be good if seller can improve on the customer service as it is be very frustrated for buyer.', 'Was going to get cheaper one instead but why not upgrade to get a better chair. It’s super comfy to sit on and the stealth colour is super nice too. Hope it lasts ', 'Expected delivery of 26 Feb but arrived 10 Feb, great CNY gift for myself! Chair is comfortable and in good condition except for a very small stitching problem my OCD eye caught as shown in attached photo. However still satisfied with the quality. Recommended!', 'Unexpected, fast delivery although mentioned pre order TBA April. Thanks seller. Comfortable , definitely need air conditioning surrounded environment.Worth that value. Highly recommended', '❤️👌', 'Barang sampai dalam keadaam baik. tiada sebarang kerosakan. kotak bungkusan pon tiada kemek. cara pemasangan mudah dan cepat. sangat berpuas hati kualiti kerusi ini. material sangat selesa dan nampak premium.serta kukuh dan padu. tiada bunyi yang tidak diingini. roda berfungsi & tidak terlalu licin.', 'Item received in good condition. Fast delivery, placed 2 orders on 19th Feb and delivered 1 unit on 22nd Feb another order still pending. Installation was easy even my 16 years old brother can do it on his own. Very comfortable chair. ', 'Cepat betul brg sampai. Seller pon mmg terbaik. Layan soalan walaupun tgh mlm. Tq tq! 🤩 ', 'So happy my GC is delivered before CNY. Earlier than scheduled. When doing inventory check I did not see the many screws shown in the pic. Contacted the seller via chat and received immediate reply that the screws are actually screwed onto the base of the chair itself. Thx seller. U r d best. 👍', 'Delivery takes 4days bcos CNY holiday,, box was in good condition,,, items all complete,, had one trouble one of the skru was super hard to unskru need to hammer it lol,, seller was responsive tq 😉 the rest all good,,, love the color ❤ ', 'The best ever...pro set', 'Beli tme sales 2.2.Tgk app ptt delivery by 5/2.Tp seller x update tracking no. When I asked seller,die ckp i beli pre-order item.bile check ngn shopee diaorg confirm i beli ready stock item.aftr complaint bru seller nk pos brg on 6/2.puas hati dgn kualiti brg.tp xpuas hati ngn seller pnye service.', 'Hv been looking around for a comfortable and stylish chair and after getting this chair, really satisfied. Although there was some delay due to stock availability, they did inform in advance. Overall, good chair to consider. 👍👍', 'I got the chair in less than 2 weeks. The instruction is easy to understand but I have to point out that there was a typo in the instructions. There is no Step 5 seen. Comfy chair. Suggest to buy it during sales for extra savings.', 'Received a bit defect item which a replaceable piece was broken, need to pay RM 6 as shipping fee for the cover. Everything is okay after some extra repairing work need to be done. Patience and responsible seller, never have a monent think they try to avoid problem. Well done. ', 'Great product and good value for money. Assembly was easy too and not many steps but needed additional pair of hands to help hold parts in place.Overall very happy with purchase. Highly recommended!', 'Tq boss. Everything is perfect.', 'so far ok ', 'This my first gaming chair.Seller fast response and incredible fast ship out.Thumb up for seller.Assembly took 30 minutes with clear instructions notes.Chair very good quality. Highly recommended.', 'terbaik... fast delivery... berkualiti', 'Terima kasih untuk gift.. ', 'All is good. Except I order grey. But they told me don’t have grey and give me few options. Either wait or change other color. ', 'It is so spacious & comfortable. Definitely will add more hours into my gaming with this much comfort. 👍❤️', 'Item collected by ownself because im very excited to have it , i give 10/10 . Seller respond chat very fast , i recommeded this seller . ', \"Send to east Malaysia within 3 days by Pgeon Delivery. Quite fast, manual no so detail for person who bought first time. Overall still ok, but one small screw on side does not fit... Hope it won't cause any problem.\", 'Terbaekkk la seller... terima kasih.', 'Terbaik😊.', 'Alhamdulillah..after a long awaited..actually 6 days 😆..finally received the chair in a good condition..btw..seller so friendly..highly recommended..nice quality..thanks ttracing', 'Seller ramah.. penghntrn pantesssss 👍🏻👍🏻👍🏻 kerusi mantoppppp 😍', \"I'm amazed with this chair. The quality felt premium, easy to assemble and I even get the one that I needed (Which I asked for non-wrinkle and good looking). I think the price is really bang for the buck for this year 2021 in gaming chair category. Very recommended for all my family and friends.  TQ\", 'overall ok, received like this but luckily no parts missing', 'Tq bos barang sudah sampai terbaik ', 'tq seller..tbaek..order 2.2.2021.. terima 6.2.2021..beli sbg hadiah birthday.. husband ske.. lps nie leh work from home dgn lebih selesa.. ', 'Mulanya confuse mana semua skru dia, rupanya da siap2 pasang dekat setiap parts, kerusi yg sangat menarik, Alhamdulillah ', 'Barang sampai quality superb dan seller peramah bila tanya soalan.', 'Fast delivery Received within one week Can’t wait to try now', '- Good product quality- Good value for money- fast respond from seller👍', 'Fast delivery by seller. Really recommended this', 'Sangat puas hati..respond p  cepat..kualiti berbaloi 👍👍👍', '👍👍👍👍👍😍😍😍😍😍very fast delivery.. today order.. tomorrow delivered..', 'In product details seller stated will ship by 1 Feb, and I receive on 1 Feb. Easy to assemble. If you’re strong it’s a one man job, if not so strong, get someone to help you assemble together', 'Harga paling murah dalam market.. penghantaran cepat.. 2 lebih hari smpai yong peng.. keep it up seller! 👍👍👍👍👍', 'mmg terbaik, seller pown ramah je, kerusi ngam soi', 'Thank you seller. fast delivery and received in good condition', 'Memang mantap !', 'Puas hati beli kerusi nie..penghantaran pun cepat..', 'Ordered on 18/1 and received on 20/1. quite fast during mco. price RM569 plus additional 10% coin cash back. good in quality and worth it than paying for other high end chair. easy to assemble. hopefully can last long before started peeling off.', 'Chair is as described, feels sturdy and the removable neckrest/backrest are a nice touch for added comfort.', 'Fast delivery and received in good condition. Assembly it with my 11 years old son, a mother and a son doing a good job. Just follow the manual. Screws are attached to the chair and have to be unscrewed before assembly. The chair is comfortable, we love it.', \"Paid on 28dec, promised to ship out in 3days (31dec) but unable to ship out by then. The product is good, solid. Recommended to buy. Don't promise customer if cannot deliver. Service good 🤗, Overall good 👍🏻Ps: no preorder batch. But did called me on third day whether i want to wait for black. \", 'Item received in good condition. Fast delivery. Fast response from seller for replying message. My first time of purchasing a gaming chair. The chair is awesome. Quality is fantastic. Overall expericence is extremely good. My height is 183cm and the chair fits me well.', 'Barang dah sampai. Alhamdulillah selesa giler', 'nice', 'Goodbye old chair and hello new chair, hopefully swift x 2020 will satisfy me.When the chair arrive it’s abit oily at the seats but it’s ok to me, will purchase again for family if really satisfying me. ', 'Suka yg amat. ', 'Padu barang smp laju.. seller mesra.. tq bossku...', 'Superb service', 'Best PC Gaming !! my mom pun suka😘😘', 'The seller was responsive in answering my queries.This purchased was ideally to upgrade my TT Racing Duo chair(suitable to my heights).', 'Ngam. . Mmg selesa, kualiti baikk yg paling OP penghantaran pantas. . Semalam oder harini sampai. . ', 'Super fast service. Good quality product. Very satisfied with the purchase. Tq seller. ', 'Terbaikkkkkk!!!', 'Barang dalam keadaan baik. ', 'item received in good condition, fast delivery, tq seller', 'Great product and easy to assemble! I could sit on this chair for hours, it’s so comfortable ', 'fast delivery', 'Alhamdulillah!', 'Nice and very fast delivery ', 'Good leather and quality ', 'Bestttt', 'The assembly is easy enough but the effort needed isn’t cos its heavy! I wouldn’t say the finish on the materials is nice. There are bubbles and the edges are rough. But the cushion is very nice. I hope it lasts! I foresee the connection part of the seat and back support may have tears in long run. ', 'Delivery the next day!', 'Good', 'Mmg terbaik la seller ni. Cepat betul dia hantar, kejap je dah sampai. Yang hebatnya, penghantaran terus ke rumah, bukannya singgah mana2 cawangan atau tempat simpanan dulu. Kualiti? Mmg terbaik. Kusyen mengalahkan kusyen kereta mewah. Xde pun nampak kedut2. Mmg padu la buatannya', 'Kualiti brg sngt bagus. Respond dri seller sngt bagus. Courier service pon bagus ( kawasan trtentu sahaja). Order 2.1.21 pos 4.1.21 trima brg 5.1.21. 🔥🔥🔥', 'Just received this morning 😁😁. Very nice packaging & quality.. Also excellent service by seller.. Really recommended!! 👍👍', 'kerusi ok..delivery laju..cuma ad skru yg loose untuk masuk allen key trpaksa pkai spanar..ad sket molding cover defect tp ok la just untuk cover dh setting baik pny..yg lain2 ok terbaik', 'seller peramah .. pgnhtran cepat . brang belum bkak lg .. insha Allah ok kot', 'Super fast delivery, with very good boxing and received in good condition 👍🏻👍🏻👍🏻👍🏻👍🏻', 'good one.', '把手的组装说明可以再仔细一点，不然前后会装倒反。基本上我是装对啦🤣都很满意👍', 'Goooooood.....👍👍👍👍👍👍👍👍👍👍👍👍👍👍👍👍👍👍👍👍👍👍👍👍👍👍👍👍👍👍👍👍👍👍👍👍👍👍👍👍', 'keep it up dong gibab ...........keep it up dong gibab ...........keep it up dong gibab ...........keep it up dong gibab ...........']\n"
          ],
          "name": "stdout"
        }
      ]
    },
    {
      "cell_type": "code",
      "metadata": {
        "colab": {
          "base_uri": "https://localhost:8080/"
        },
        "id": "1TamDvsffyxb",
        "outputId": "979c5f08-4bf8-4837-c531-0d0543be8d81"
      },
      "source": [
        "#  Language detection using Google translator\n",
        "\n",
        "corpus_list = komen\n",
        "dataEN = []\n",
        "dataMSID = []\n",
        "for i in corpus_list: \n",
        "  if i != \"\":\n",
        "    t = google_translator().detect(i)\n",
        "    if t[0] == 'en':\n",
        "      dataEN.append([t[0], i])\n",
        "    elif t[0] == 'ms' or t[0] == 'id':\n",
        "      dataMSID.append([t[0], i])\n",
        "\n",
        "dfKomenEN = pd.DataFrame(dataEN)\n",
        "dfKomenEN.columns = ['Language', 'Review']\n",
        "dfKomenMSID = pd.DataFrame(dataMSID)\n",
        "dfKomenMSID.columns = ['Language', 'Review']\n",
        "print(\"English reviews: \\n\", tabulate(dfKomenEN, showindex=False, headers=dfKomenEN.columns))\n",
        "print(\"\")\n",
        "print(\"Bahasa Melayu reviews: \\n\", tabulate(dfKomenMSID, showindex=False, headers=dfKomenMSID.columns))"
      ],
      "execution_count": 115,
      "outputs": [
        {
          "output_type": "stream",
          "text": [
            "English reviews: \n",
            " Language    Review\n",
            "----------  ------------------------------------------------------------------------------------------------------------------------------------------------------------------------------------------------------------------------------------------------------------------------------------------------------------\n",
            "en          Fast delivery and all in good condition. Real comfortable chair.\n",
            "en          I love the chair !!! Although pre order took quite some time but it’s really comfortable and beautiful. Smells like the interior of a new car too 😹. Thank you seller!!\n",
            "en          Fast delivery !Nice product !Seller very nice !Like ! Like ! Like\n",
            "en          Good product quality good value for money fast delivery date\n",
            "en          Bought at 27 March arrived 31 March although mentioned pre-order . Super fast delivery and worth for money\n",
            "en          Products well packing, received in good condition\n",
            "en          Already recieved mine, thanks seller, provinding us with good service\n",
            "en          I topup change to TTracing Surge Red because stock ready. if swift X preorder take time. I think its worth to topup to surge. I really like this gaming chair. Thumbs up 👍\n",
            "en          Thanks seller for the above. I bought TTRacing Swift X2020 in red. Seat ada aesthetic flaws, so kita tengah tunggu replacement. Nonetheless, the seller and his support team are very2 supportive and responsive. Hopefully the replacement part is great as well. The seat is very nice & comfortable!!!!♥️\n",
            "en          Holy moly! You just don't feel like getting up once you've seated. Great stuff indeed. Assembling wasn't hard too. However since there's no ventilation for the back seat, best to seat in a cold, air-conditioned or near fan environment. In total, worth the prize. 👍\n",
            "en          It got quality, feel comfortable n sturdy.. But a bit disappointed with the lumbar cushion, suppose to have a straps..Anyway so far so good.\n",
            "en          The shipping time is a long time, it will be a little hot after sitting for a long time. Other good\n",
            "en          Comfortable, doesn’t disappoint!Seller is super helpful and quick to respond to messages. Easy to assemble\n",
            "en          Items received with wrong color. Originally I ordered black, but then I chatted with the seller to change it to grey since the black color was out of stock. Unfortunately, the seller sent me the red one. Since, I already assembled it and dont want to face the hassle of returning it, i accepted it.\n",
            "en          Great product! Bought this during sales n worth every penny.Delivery was great just no update from the courier. (Didn't state it will be deliver today)It cost a tiny little cracked but it doesn't matter for me.Assemble easily n super fast with just 20 - 25 min by myself.\n",
            "en          ALHAMDULILLAH...selamat sampai...a very friendly and superb seller. Mine was pre-ordered and should be posted on 1st Feb. But I received the chair on 1st. Very fast. The chair is very comfy and awesome. Love it\n",
            "en          This chair is super nice for the price. Tried Corsair Rush few days back priced at 1.4k. This TT Racing chair, is comparable to that in comfort level at a much lower price. Truly a bargain. *Plus Extra Star for the chat responsiveness and seller professionalism in communicating with customer. 👍\n",
            "en          Got the swift x within 2 days after placing order on 2.2 midnight. Very good deal as it was lowered to RM519 and with vouchers, I got it at RM493, about RM100 lower than its usual price. Glad I waited till 2.2 sales. Courier is good too. Seller is responsive to questions too.\n",
            "en          Items received as advertised. Fast delivery and service by seller.\n",
            "en          Very comfortable!! Very worth the price. Just what i expected. The padding is just enough, the material is also good. And it's very easy to assemble, took only half an hour for me to assemble them. Very worth it\n",
            "en          My bro loves it! I gave this for his upcoming birthday this 7/2. Sooo comfy and worth the money! Highly recommended! HE LOVES IT SO MUCH!! You guys need to buy this also okie!!! THANK YOU SO MUCH TTRACING MALAYSIA! ❤️❤️❤️\n",
            "en          Fast delivery ... easy to assembly ... very comfortable chair 👍🏻👍🏻\n",
            "en          Very fast to receive the gaming chair... although expensive but is really comfortable when sitting on this chair.\n",
            "en          Some paint detached at certain parts. The assembly is darned difficult without video instructions. But overall, I'm satisfied\n",
            "en          Good quality and good product. Seller response time very fast. Customer service tip top.. Thank you seller. Wish you sell plenty.\n",
            "en          Bought preorder on 12.12 sale, received on 29.12. Very good product. Installation was easy. Recommended seller. 👍\n",
            "en          1st of all i would like to say, very fast delivery. I did not expect to received it earlier than Shoppe or seller estimation. Secondly thanks to seller for great service and helpful conversation. Last but not least, the product is just simply astonishing. I am a happy nerdy now. 😂\n",
            "en          Tipu!! Say pre order but arrived within 3 days 😂🤣 I was planning not to tell my boyfriend mana tau you arrived so early the surprise bocor d! But he loves it so much, the smell (plastic smell) it very heavy so be mindful when you put in a small room.\n",
            "en          Arrived next day after shipped out. Thank you so much for the great service and chairs.\n",
            "en          Goods received in good condition,  not too difficult to assembly. 👍👍\n",
            "en          This chair is superb!Very comfy feels like expensive chair and the built is in very high quality.Recommended for those who wants to find gaming / office chair.Will repeat order for my wifey soon. Although need to wait for pre order but seller sent out the item ahead of scheduled time.Good product!\n",
            "en          Feel cheated. Didn't receive the adjustable lumbar strap.Edit: My bad. Didn't realize it was as advertised. They didn't cheat me at all.\n",
            "en          After product available, very fast delivery. Chair quality really nice. Love it!\n",
            "en          Installation take 30min.\n",
            "en          Yesterday order and today get it. Good product quality and comfortable🌟🌟🌟🌟🌟\n",
            "en          Delivery faster than expected! Product is good seller is responsive good job 👍🏻\n",
            "en          Delivery faster than expected dateUndamaged package at allThe colour on the seat seems to fade a bit..but thats OK...Very satisfied!\n",
            "en          Thankyou , my husband love it ❤️✨\n",
            "en          Although the price is cheap. When you see this chair in person, it looks like High Quality Gaming Chair. Sit on it its like a dream. Recommended to everyone.\n",
            "en          good\n",
            "en          Took almost a month to deliver. Everytjing else is okay.\n",
            "en          Classic, comfort, worth the money!\n",
            "en          Comfy!\n",
            "en          Items received safely.. thank you seller.\n",
            "en          Fast delivery!!!! received early than expected! Quality also best!\n",
            "en          arrived and done installed. Overall good. Good service by seller. Shipped out earlier than expected.\n",
            "en          Excellent product!\n",
            "en          Good quality chair 😍\n",
            "en          easy assembly!\n",
            "en          great product !\n",
            "en          Good quality, TQ very much..........👌👌👌👌😍\n",
            "en          Fast delivery but the tt racing sewing not so good, already naik\n",
            "en          1) Fast delivery because it is pre order.2) I received 1 wheel that cannot plug in because got 2 hinge but customer service really helpful.3) Product quality is very good and it is super comfortable.\n",
            "en          Very comfortable chair! Can get kinda hot after sitting for too long if there is no air cond. Took me an hour plus to assemble because they are pretty heavy. Delivery all good, no damage or scratches.\n",
            "en          Product quality is good but delivery service is poor. No one can answer on the expected delivery date until I filed for return.Please order only if you are fine with the super long waiting period. It would be good if seller can improve on the customer service as it is be very frustrated for buyer.\n",
            "en          Was going to get cheaper one instead but why not upgrade to get a better chair. It’s super comfy to sit on and the stealth colour is super nice too. Hope it lasts\n",
            "en          Expected delivery of 26 Feb but arrived 10 Feb, great CNY gift for myself! Chair is comfortable and in good condition except for a very small stitching problem my OCD eye caught as shown in attached photo. However still satisfied with the quality. Recommended!\n",
            "en          Unexpected, fast delivery although mentioned pre order TBA April. Thanks seller. Comfortable , definitely need air conditioning surrounded environment.Worth that value. Highly recommended\n",
            "en          Item received in good condition. Fast delivery, placed 2 orders on 19th Feb and delivered 1 unit on 22nd Feb another order still pending. Installation was easy even my 16 years old brother can do it on his own. Very comfortable chair.\n",
            "en          So happy my GC is delivered before CNY. Earlier than scheduled. When doing inventory check I did not see the many screws shown in the pic. Contacted the seller via chat and received immediate reply that the screws are actually screwed onto the base of the chair itself. Thx seller. U r d best. 👍\n",
            "en          Delivery takes 4days bcos CNY holiday,, box was in good condition,,, items all complete,, had one trouble one of the skru was super hard to unskru need to hammer it lol,, seller was responsive tq 😉 the rest all good,,, love the color ❤\n",
            "en          The best ever...pro set\n",
            "en          Beli tme sales 2.2.Tgk app ptt delivery by 5/2.Tp seller x update tracking no. When I asked seller,die ckp i beli pre-order item.bile check ngn shopee diaorg confirm i beli ready stock item.aftr complaint bru seller nk pos brg on 6/2.puas hati dgn kualiti brg.tp xpuas hati ngn seller pnye service.\n",
            "en          Hv been looking around for a comfortable and stylish chair and after getting this chair, really satisfied. Although there was some delay due to stock availability, they did inform in advance. Overall, good chair to consider. 👍👍\n",
            "en          I got the chair in less than 2 weeks. The instruction is easy to understand but I have to point out that there was a typo in the instructions. There is no Step 5 seen. Comfy chair. Suggest to buy it during sales for extra savings.\n",
            "en          Received a bit defect item which a replaceable piece was broken, need to pay RM 6 as shipping fee for the cover. Everything is okay after some extra repairing work need to be done. Patience and responsible seller, never have a monent think they try to avoid problem. Well done.\n",
            "en          Great product and good value for money. Assembly was easy too and not many steps but needed additional pair of hands to help hold parts in place.Overall very happy with purchase. Highly recommended!\n",
            "en          Tq boss. Everything is perfect.\n",
            "en          so far ok\n",
            "en          This my first gaming chair.Seller fast response and incredible fast ship out.Thumb up for seller.Assembly took 30 minutes with clear instructions notes.Chair very good quality. Highly recommended.\n",
            "en          All is good. Except I order grey. But they told me don’t have grey and give me few options. Either wait or change other color.\n",
            "en          It is so spacious & comfortable. Definitely will add more hours into my gaming with this much comfort. 👍❤️\n",
            "en          Item collected by ownself because im very excited to have it , i give 10/10 . Seller respond chat very fast , i recommeded this seller .\n",
            "en          Send to east Malaysia within 3 days by Pgeon Delivery. Quite fast, manual no so detail for person who bought first time. Overall still ok, but one small screw on side does not fit... Hope it won't cause any problem.\n",
            "en          Alhamdulillah..after a long awaited..actually 6 days 😆..finally received the chair in a good condition..btw..seller so friendly..highly recommended..nice quality..thanks ttracing\n",
            "en          I'm amazed with this chair. The quality felt premium, easy to assemble and I even get the one that I needed (Which I asked for non-wrinkle and good looking). I think the price is really bang for the buck for this year 2021 in gaming chair category. Very recommended for all my family and friends.  TQ\n",
            "en          overall ok, received like this but luckily no parts missing\n",
            "en          Fast delivery Received within one week Can’t wait to try now\n",
            "en          - Good product quality- Good value for money- fast respond from seller👍\n",
            "en          Fast delivery by seller. Really recommended this\n",
            "en          👍👍👍👍👍😍😍😍😍😍very fast delivery.. today order.. tomorrow delivered..\n",
            "en          In product details seller stated will ship by 1 Feb, and I receive on 1 Feb. Easy to assemble. If you’re strong it’s a one man job, if not so strong, get someone to help you assemble together\n",
            "en          Thank you seller. fast delivery and received in good condition\n",
            "en          Ordered on 18/1 and received on 20/1. quite fast during mco. price RM569 plus additional 10% coin cash back. good in quality and worth it than paying for other high end chair. easy to assemble. hopefully can last long before started peeling off.\n",
            "en          Chair is as described, feels sturdy and the removable neckrest/backrest are a nice touch for added comfort.\n",
            "en          Fast delivery and received in good condition. Assembly it with my 11 years old son, a mother and a son doing a good job. Just follow the manual. Screws are attached to the chair and have to be unscrewed before assembly. The chair is comfortable, we love it.\n",
            "en          Paid on 28dec, promised to ship out in 3days (31dec) but unable to ship out by then. The product is good, solid. Recommended to buy. Don't promise customer if cannot deliver. Service good 🤗, Overall good 👍🏻Ps: no preorder batch. But did called me on third day whether i want to wait for black.\n",
            "en          Item received in good condition. Fast delivery. Fast response from seller for replying message. My first time of purchasing a gaming chair. The chair is awesome. Quality is fantastic. Overall expericence is extremely good. My height is 183cm and the chair fits me well.\n",
            "en          nice\n",
            "en          Goodbye old chair and hello new chair, hopefully swift x 2020 will satisfy me.When the chair arrive it’s abit oily at the seats but it’s ok to me, will purchase again for family if really satisfying me.\n",
            "en          Superb service\n",
            "en          The seller was responsive in answering my queries.This purchased was ideally to upgrade my TT Racing Duo chair(suitable to my heights).\n",
            "en          Super fast service. Good quality product. Very satisfied with the purchase. Tq seller.\n",
            "en          item received in good condition, fast delivery, tq seller\n",
            "en          Great product and easy to assemble! I could sit on this chair for hours, it’s so comfortable\n",
            "en          fast delivery\n",
            "en          Nice and very fast delivery\n",
            "en          Good leather and quality\n",
            "en          Bestttt\n",
            "en          The assembly is easy enough but the effort needed isn’t cos its heavy! I wouldn’t say the finish on the materials is nice. There are bubbles and the edges are rough. But the cushion is very nice. I hope it lasts! I foresee the connection part of the seat and back support may have tears in long run.\n",
            "en          Delivery the next day!\n",
            "en          Good\n",
            "en          Just received this morning 😁😁. Very nice packaging & quality.. Also excellent service by seller.. Really recommended!! 👍👍\n",
            "en          Super fast delivery, with very good boxing and received in good condition 👍🏻👍🏻👍🏻👍🏻👍🏻\n",
            "en          good one.\n",
            "en          Goooooood.....👍👍👍👍👍👍👍👍👍👍👍👍👍👍👍👍👍👍👍👍👍👍👍👍👍👍👍👍👍👍👍👍👍👍👍👍👍👍👍👍\n",
            "en          keep it up dong gibab ...........keep it up dong gibab ...........keep it up dong gibab ...........keep it up dong gibab ...........\n",
            "\n",
            "Bahasa Melayu reviews: \n",
            " Language    Review\n",
            "----------  ------------------------------------------------------------------------------------------------------------------------------------------------------------------------------------------------------------------------------------------------------------------------------------------------------------\n",
            "id          ok sedap duduk atas gaming chair ni sampai tertidoq hehe tqq\n",
            "ms          Mantap seller .. walau pre order tp pantas .. Moga murah rezeki seller .. amin\n",
            "ms          Barang puas hati cuma lmbat sikit ja\n",
            "ms          Barang sampai dalam keadaan baik dan terkawal dan dihantar dengan cepat oleh penjual.Cara bersembang pon amat mesra\n",
            "ms          Barang baik. Sedap duduk. Order then seller bagitahu kena pre order, dapat dalam lagi 3 minggu. Tapi dalam seminggu lepas tu tiba2 dapat message yang kerusi dah otw. Terbaik.Seller response pon tip top sampai tgh mlm pon layan\n",
            "id          tq very much seller. sgt friendly dan sbr lyn setiap pertanyaan. very comfy n original\n",
            "id          Mantap.. fast delivery, nice services by seller.. dpt grab msa tgh promo, da pasang & sgt seller.. recommended utk yg cari gaming chair.. xda defect, & packing pun nice\n",
            "ms          siap pasang within 50minutes. boleh siap cepat lagi sbnr nya since i tak perasan skru2 dh attached dkt body kerusi. proses unscrewed dan screwed tu ambil masa jugak 😝 all in all. senang je pasang. just follow je the diagram. thankyou seller. brg semua complete. quality pun awesome.\n",
            "ms          Penghantaran memang thorbaek, 2 hari dah terima dgn kotak masih baru, thorbaek abang delivery. Material mmg memuaskan, lembut tapi tahan lasak. Senang nak pasang. Dapat pula bantal 2 biji. Mmg boek la ttracing. Seller pun peramah. Nak repeat oder lagu ni. Beribu bintang di langit.\n",
            "ms          Wow penghantaran sangat pantas. 2 hari sudah sampai. risau juga lambat sampai bila lihat komen di fb courier tu. Kerusi sangat selesa dan berkualiti. Senang pasang. Lepasni x perlu risau sgt sakit belakang Bekerja Dari Rumah BDR. Tq TTRacing.\n",
            "ms          Padu....fast delivery n good customer services...trbaik bossku...\n",
            "ms          Berbaloi beli untuk husband ✌🏻husband love it!!\n",
            "ms          OK. Second time dah beli ni.\n",
            "ms          Baik bagus barang baik kerusi selesa delivery on time packaging baik\n",
            "ms          Barang sampai Dengan selamat... Tetap 5 star walaupun kurang 2 skru Dan seller ganti juga... Paling memuaskan ialah saya minta tukar ke stealh....  Kuality dah rasa sebelum beli... Kat cc 24 jam pun boleh pakai hingga lebih kurang 2 tahun walaupun macam2 size duduk Dan tidur... Recommended sangat\n",
            "ms          Sape sanggup tunggu mmg bebaloi la. Lame nk dpt tapi kualiti superb.\n",
            "id          Bantal di punggung memang tiada tali ya bosku...btw nice gaming chair...😁\n",
            "ms          Hampir sebulan gakk laa tunggu barang pre-order ni,tu mmg xleh wat apa laa sbb mmg dh bg tau tempoh dlm 25 hari utk dpt..tpi apa yg terbaik nye,bru semalam seller kate brng dh hanta keluar,arini dh dpt..mmg terbaik.bab pasang tu ok laa sbb ada instruction yg mudah paham..terbaik bossku\n",
            "ms          Kerusi selesa , kemas dan cantik. Pemasangan yang mudah dlm setengah jam dah siap pasang. Cuma kotak penghantaran saja kemek teruk tp nasib baik barang semua okay. Terima kasih\n",
            "ms          Akhirnya sampai... TQ TTracing...Semalam pos hari ni smpai depan pintu rumah👍👍👍👍👍👍\n",
            "ms          kerusi sampai dengan keadaan selamat... sedap duduk... selesaaaa\n",
            "ms          Sedap duduk tp xde kaler pink🥰\n",
            "id          Mantap\n",
            "ms          Sangat puas hati dan selesa! Delivery pun cepat tiptop 👍🏻\n",
            "ms          Barang baekk boss\n",
            "id          mantap\n",
            "id          Terbaik\n",
            "id          Barang diterima dalam keadaan baik ! Postage on time ! Seller baik selalu update .. tq seller 👍🏾\n",
            "ms          Barang sampai dalam keadaam baik. tiada sebarang kerosakan. kotak bungkusan pon tiada kemek. cara pemasangan mudah dan cepat. sangat berpuas hati kualiti kerusi ini. material sangat selesa dan nampak premium.serta kukuh dan padu. tiada bunyi yang tidak diingini. roda berfungsi & tidak terlalu licin.\n",
            "ms          Cepat betul brg sampai. Seller pon mmg terbaik. Layan soalan walaupun tgh mlm. Tq tq! 🤩\n",
            "ms          terbaik... fast delivery... berkualiti\n",
            "id          Terima kasih untuk gift..\n",
            "id          Terbaekkk la seller... terima kasih.\n",
            "id          Terbaik😊.\n",
            "ms          Seller ramah.. penghntrn pantesssss 👍🏻👍🏻👍🏻 kerusi mantoppppp 😍\n",
            "id          Tq bos barang sudah sampai terbaik\n",
            "ms          tq seller..tbaek..order 2.2.2021.. terima 6.2.2021..beli sbg hadiah birthday.. husband ske.. lps nie leh work from home dgn lebih selesa..\n",
            "ms          Mulanya confuse mana semua skru dia, rupanya da siap2 pasang dekat setiap parts, kerusi yg sangat menarik, Alhamdulillah\n",
            "ms          Barang sampai quality superb dan seller peramah bila tanya soalan.\n",
            "ms          Sangat puas hati..respond p  cepat..kualiti berbaloi 👍👍👍\n",
            "ms          Harga paling murah dalam market.. penghantaran cepat.. 2 lebih hari smpai yong peng.. keep it up seller! 👍👍👍👍👍\n",
            "ms          mmg terbaik, seller pown ramah je, kerusi ngam soi\n",
            "id          Memang mantap !\n",
            "ms          Puas hati beli kerusi nie..penghantaran pun cepat..\n",
            "ms          Barang dah sampai. Alhamdulillah selesa giler\n",
            "ms          Suka yg amat.\n",
            "ms          Padu barang smp laju.. seller mesra.. tq bossku...\n",
            "id          Best PC Gaming !! my mom pun suka😘😘\n",
            "ms          Ngam. . Mmg selesa, kualiti baikk yg paling OP penghantaran pantas. . Semalam oder harini sampai. .\n",
            "id          Terbaikkkkkk!!!\n",
            "ms          Barang dalam keadaan baik.\n",
            "id          Alhamdulillah!\n",
            "ms          Mmg terbaik la seller ni. Cepat betul dia hantar, kejap je dah sampai. Yang hebatnya, penghantaran terus ke rumah, bukannya singgah mana2 cawangan atau tempat simpanan dulu. Kualiti? Mmg terbaik. Kusyen mengalahkan kusyen kereta mewah. Xde pun nampak kedut2. Mmg padu la buatannya\n",
            "ms          Kualiti brg sngt bagus. Respond dri seller sngt bagus. Courier service pon bagus ( kawasan trtentu sahaja). Order 2.1.21 pos 4.1.21 trima brg 5.1.21. 🔥🔥🔥\n",
            "ms          kerusi ok..delivery laju..cuma ad skru yg loose untuk masuk allen key trpaksa pkai spanar..ad sket molding cover defect tp ok la just untuk cover dh setting baik pny..yg lain2 ok terbaik\n",
            "ms          seller peramah .. pgnhtran cepat . brang belum bkak lg .. insha Allah ok kot\n"
          ],
          "name": "stdout"
        }
      ]
    },
    {
      "cell_type": "code",
      "metadata": {
        "id": "feU0dGytIC2W"
      },
      "source": [
        "# # Language Detection using TextBlob\n",
        "\n",
        "# corpus_list = komen\n",
        "# from textblob import TextBlob \n",
        "# import time\n",
        "\n",
        "# dataEN = []\n",
        "# dataMSID = []\n",
        "# for i in corpus_list: \n",
        "#   lang = TextBlob(i)\n",
        "#   time.sleep(1)\n",
        "#   if lang.detect_language() == 'en':\n",
        "#     dataEN.append([lang.detect_language(), i])\n",
        "#   elif lang.detect_language() == 'ms' or lang.detect_language() == 'id':\n",
        "#     dataMSID.append([lang.detect_language(), i])\n",
        "\n",
        "# dfKomenEN = pd.DataFrame(dataEN)\n",
        "# dfKomenEN.columns = ['Language', 'Review']\n",
        "# dfKomenMSID = pd.DataFrame(dataMSID)\n",
        "# dfKomenMSID.columns = ['Language', 'Review']\n",
        "# print(\"English reviews: \\n\", tabulate(dfKomenEN, showindex=False, headers=dfKomenEN.columns))\n",
        "# print(\"\")\n",
        "# print(\"Bahasa Melayu reviews: \\n\", tabulate(dfKomenMSID, showindex=False, headers=dfKomenMSID.columns))"
      ],
      "execution_count": 116,
      "outputs": []
    },
    {
      "cell_type": "code",
      "metadata": {
        "id": "jPo5xmV12UCj"
      },
      "source": [
        "# By default, the model downloaded for this pipeline is called “distilbert-base-uncased-finetuned-sst-2-english”. \n",
        "# It uses the DistilBERT architecture and has been fine-tuned on a dataset called SST-2 for the sentiment analysis task.\n",
        "classifier = pipeline('sentiment-analysis')\n",
        "\n",
        "# Using specific model\n",
        "#classifier = pipeline('sentiment-analysis', model=\"bert-base-cased\")\n",
        "#classifier = pipeline('sentiment-analysis', model=\"xlnet-base-cased\")"
      ],
      "execution_count": 117,
      "outputs": []
    },
    {
      "cell_type": "code",
      "metadata": {
        "id": "u9STtUee-QbJ"
      },
      "source": [
        "corpus = dfKomenEN['Review']\n",
        "corpus_list = corpus.tolist()"
      ],
      "execution_count": 118,
      "outputs": []
    },
    {
      "cell_type": "code",
      "metadata": {
        "id": "KAvHiNTQ2X4w"
      },
      "source": [
        "def cls_corpus_pipeline(corpus_list):\n",
        "  data = []\n",
        "  global df\n",
        "  global df3\n",
        "  for sentence in corpus_list: \n",
        "    corpus_result = classifier(sentence)\n",
        "    listToStr = ' '.join([str(elem) for elem in corpus_result])\n",
        "    listToStr = listToStr.replace('\\'', '')\n",
        "    listToStr = listToStr.replace('}', '')\n",
        "    listToStr = listToStr.replace(',', '')\n",
        "    label = listToStr.split()[1]\n",
        "    score = listToStr.split()[3]\n",
        "    data.append([label, score, sentence])\n",
        "    df = pd.DataFrame(data)\n",
        "\n",
        "  df.columns=['Classification', 'Score', 'Text']\n",
        "  class_count  = df['Classification'].value_counts().sort_index()\n",
        "  s = df.Classification\n",
        "  counts = s.value_counts()\n",
        "  percent100 = s.value_counts(normalize=True).mul(100).round(2).astype(str) + '%'\n",
        "  df3 = pd.DataFrame({'Counts': counts, 'Percentage': percent100}).sort_index(ascending=False)"
      ],
      "execution_count": 119,
      "outputs": []
    },
    {
      "cell_type": "code",
      "metadata": {
        "id": "bw7W_f-f_5l7"
      },
      "source": [
        "cls_corpus_pipeline(corpus_list)\n",
        "dfPipeline = df.copy()\n",
        "dfPipelineCount = df3.copy()"
      ],
      "execution_count": 120,
      "outputs": []
    },
    {
      "cell_type": "code",
      "metadata": {
        "id": "ue58Sj_fPDCt"
      },
      "source": [
        "model = SentimentIntensityAnalyzer()"
      ],
      "execution_count": 121,
      "outputs": []
    },
    {
      "cell_type": "code",
      "metadata": {
        "id": "HzZHZ31kPIMi"
      },
      "source": [
        "def cls_corpus_vader(corpus_list):\n",
        "  data=[]\n",
        "  global df2\n",
        "  global df3\n",
        "  for sentence in corpus_list: \n",
        "    corpus_result = model.polarity_scores(sentence)\n",
        "    # Decide whether the text is positive, negative or neutral \n",
        "    if corpus_result['compound'] >= 0.05 : \n",
        "      cls = \"Positive\"\n",
        "    elif corpus_result['compound'] <= -0.05 : \n",
        "      cls = \"Negative\" \n",
        "    else : \n",
        "      cls = \"Neutral\" \n",
        "    data.append([corpus_result, cls, sentence])\n",
        "    df = pd.DataFrame(data)\n",
        "\n",
        "  df2 = pd.DataFrame(df[0].values.tolist(), index=df.index)\n",
        "  df2.columns=['Negative', 'Neutral', 'Positive', 'Compound']\n",
        "\n",
        "  df2['Classification'] = df[1]\n",
        "  df2['Text'] = df[2]\n",
        "  class_count  = df2['Classification'].value_counts().sort_index()\n",
        "  s = df2.Classification\n",
        "  counts = s.value_counts()\n",
        "  percent100 = s.value_counts(normalize=True).mul(100).round(2).astype(str) + '%'\n",
        "  dfvader = pd.DataFrame({'Counts': counts, 'Percentage': percent100}).sort_index(ascending=False)"
      ],
      "execution_count": 122,
      "outputs": []
    },
    {
      "cell_type": "code",
      "metadata": {
        "id": "sDb_IeFcPM9J"
      },
      "source": [
        "cls_corpus_vader(corpus_list)\n",
        "dfVader = df2.copy()\n",
        "dfVaderCount = df3.copy()"
      ],
      "execution_count": 123,
      "outputs": []
    },
    {
      "cell_type": "code",
      "metadata": {
        "colab": {
          "base_uri": "https://localhost:8080/"
        },
        "id": "Aq0ewLTplRhO",
        "outputId": "18e17c87-2863-4713-832a-9995f24f98ce"
      },
      "source": [
        "flair_sentiment = flair.models.TextClassifier.load('en-sentiment')"
      ],
      "execution_count": 124,
      "outputs": [
        {
          "output_type": "stream",
          "text": [
            "2021-04-10 04:47:32,803 loading file /root/.flair/models/sentiment-en-mix-distillbert_4.pt\n"
          ],
          "name": "stdout"
        }
      ]
    },
    {
      "cell_type": "code",
      "metadata": {
        "id": "6F1vIzX_lY-5"
      },
      "source": [
        "def cls_corpus_flair(corpus_list):\n",
        "  data=[]\n",
        "  global df\n",
        "  global df3\n",
        "  for sentence in corpus_list: \n",
        "    corpus_result = flair.data.Sentence(sentence)\n",
        "    flair_sentiment.predict(corpus_result)\n",
        "    total_sentiment = corpus_result.labels\n",
        "    total_sentiment = total_sentiment.pop()\n",
        "    data.append([round(total_sentiment.score, 3), total_sentiment.value, sentence])\n",
        "  \n",
        "  df = pd.DataFrame(data)\n",
        "  df.columns=['Predict', 'Classification', 'Text']\n",
        "\n",
        "  class_count  = df['Classification'].value_counts().sort_index()\n",
        "  s = df.Classification\n",
        "  counts = s.value_counts()\n",
        "  percent100 = s.value_counts(normalize=True).mul(100).round(2).astype(str) + '%'\n",
        "  df3 = pd.DataFrame({'Counts': counts, 'Percentage': percent100}).sort_index(ascending=False)"
      ],
      "execution_count": 125,
      "outputs": []
    },
    {
      "cell_type": "code",
      "metadata": {
        "id": "DiytPpxmlxPH"
      },
      "source": [
        "cls_corpus_flair(corpus_list)\n",
        "dfFlair = df.copy()\n",
        "dfFlairCount = df3.copy()"
      ],
      "execution_count": 126,
      "outputs": []
    },
    {
      "cell_type": "code",
      "metadata": {
        "id": "xVlMv6FRmnHA"
      },
      "source": [
        "def cls_corpus_textblob(corpus_list):\n",
        "  data=[]\n",
        "  global df\n",
        "  global df3\n",
        "  for sentence in corpus_list: \n",
        "    corpus_result = TextBlob(sentence)\n",
        "    result = round(corpus_result.sentiment.polarity, 3)\n",
        "    # Decide whether the text is positive, negative or neutral \n",
        "    if result > 0 : \n",
        "      cls = \"Positive\"\n",
        "    elif result < 0 : \n",
        "      cls = \"Negative\" \n",
        "    else : \n",
        "      cls = \"Neutral\" \n",
        "    data.append([result, cls, sentence])\n",
        "\n",
        "  df = pd.DataFrame(data)\n",
        "  df.columns=['Polarity', 'Classification', 'Text']\n",
        "  class_count  = df['Classification'].value_counts().sort_index()\n",
        "  s = df.Classification\n",
        "  counts = s.value_counts()\n",
        "  percent100 = s.value_counts(normalize=True).mul(100).round(2).astype(str) + '%'\n",
        "  df3 = pd.DataFrame({'Counts': counts, 'Percentage': percent100}).sort_index(ascending=False)"
      ],
      "execution_count": 127,
      "outputs": []
    },
    {
      "cell_type": "code",
      "metadata": {
        "id": "ww2R_fmamtfo"
      },
      "source": [
        "cls_corpus_textblob(corpus_list)\n",
        "dfTextblob = df.copy()\n",
        "dfTextblobCount = df3.copy()"
      ],
      "execution_count": 128,
      "outputs": []
    },
    {
      "cell_type": "code",
      "metadata": {
        "id": "6NXR2xVNW63r"
      },
      "source": [
        "# # Available Transformer models\n",
        "# malaya.sentiment.available_transformer()"
      ],
      "execution_count": 129,
      "outputs": []
    },
    {
      "cell_type": "code",
      "metadata": {
        "id": "y3RF6OsdXBT3"
      },
      "source": [
        "def cls_corpus_malaya(corpus_list):\n",
        "  #model = malaya.sentiment.transformer('albert')\n",
        "  data = []\n",
        "  global df2\n",
        "  global df3\n",
        "  for i in corpus_list: \n",
        "    corpus_result = malaya.stack.predict_stack([bert, tinybert, albert, tinyalbert, xlnet, alxlnet], [i])\n",
        "    #corpus_result = model.predict_proba([i])\n",
        "    for j in corpus_result:\n",
        "      corpus_result = j.values()\n",
        "      data.append([corpus_result, i])\n",
        "\n",
        "  df = pd.DataFrame(data)\n",
        "  df2 = pd.DataFrame(df[0].values.tolist(), index=df.index)\n",
        "  df2.columns=['Negative', 'Positive', 'Neutral']\n",
        "  df2['Classification'] = df2[['Negative','Positive','Neutral']].idxmax(axis=1)\n",
        "  df2['Text'] = df[1]\n",
        "\n",
        "  class_count  = df2['Classification'].value_counts().sort_index()\n",
        "  s = df2.Classification\n",
        "  counts = s.value_counts()\n",
        "  percent100 = s.value_counts(normalize=True).mul(100).round(2).astype(str) + '%'\n",
        "  df3 = pd.DataFrame({'Counts': counts, 'Percentage': percent100})"
      ],
      "execution_count": 130,
      "outputs": []
    },
    {
      "cell_type": "code",
      "metadata": {
        "colab": {
          "base_uri": "https://localhost:8080/"
        },
        "id": "ei6sgc0qXF_F",
        "outputId": "51f5eb74-a2a4-429a-da66-0fbc541ad764"
      },
      "source": [
        "corpus = dfKomenMSID['Review']\n",
        "corpus_list = corpus.tolist()\n",
        "cls_corpus_malaya(corpus_list)\n",
        "dfMalaya = df2.copy()\n",
        "dfMalayaCount = df3.copy()"
      ],
      "execution_count": 131,
      "outputs": [
        {
          "output_type": "stream",
          "text": [
            "/usr/local/lib/python3.7/dist-packages/scipy/stats/stats.py:338: RuntimeWarning: divide by zero encountered in log\n",
            "  log_a = np.log(a)\n"
          ],
          "name": "stderr"
        }
      ]
    },
    {
      "cell_type": "code",
      "metadata": {
        "id": "YQJ24dXt2Q_T"
      },
      "source": [
        "dfPipelineCount.sort_index(ascending=False, inplace=True)\n",
        "dfVaderCount.sort_index(ascending=False, inplace=True)\n",
        "dfFlairCount.sort_index(ascending=False, inplace=True)\n",
        "dfTextblobCount.sort_index(ascending=False, inplace=True)\n",
        "dfMalayaCount.sort_index(ascending=False, inplace=True)"
      ],
      "execution_count": 132,
      "outputs": []
    },
    {
      "cell_type": "code",
      "metadata": {
        "colab": {
          "base_uri": "https://localhost:8080/"
        },
        "id": "W4gzrUPMF9Jt",
        "outputId": "0a3fe67b-6f17-49f7-b868-5eb6fa853407"
      },
      "source": [
        "print(\"=======================================\")\n",
        "print(\"Total Number of EN Reviews: \", dfPipeline['Classification'].count())\n",
        "print(\"1. Model: Pipeline: \\n\", dfPipelineCount)\n",
        "print(\"\")\n",
        "print(\"2. Model: Vader: \\n\", dfVaderCount)\n",
        "print(\"\")\n",
        "print(\"3. Model: Flair: \\n\", dfFlairCount)\n",
        "print(\"\")\n",
        "print(\"4. Model: Textblob: \\n\", dfTextblobCount)\n",
        "print(\"\")\n",
        "print(\"=======================================\")\n",
        "print(\"Total Number of BM Reviews: \", dfMalaya['Classification'].count())\n",
        "print(\"1. Model: Malaya: \\n\", dfMalayaCount)"
      ],
      "execution_count": 133,
      "outputs": [
        {
          "output_type": "stream",
          "text": [
            "=======================================\n",
            "Total Number of EN Reviews:  107\n",
            "1. Model: Pipeline: \n",
            "           Counts Percentage\n",
            "POSITIVE      91     85.05%\n",
            "NEGATIVE      16     14.95%\n",
            "\n",
            "2. Model: Vader: \n",
            "           Counts Percentage\n",
            "POSITIVE      91     85.05%\n",
            "NEGATIVE      16     14.95%\n",
            "\n",
            "3. Model: Flair: \n",
            "           Counts Percentage\n",
            "POSITIVE      90     84.11%\n",
            "NEGATIVE      17     15.89%\n",
            "\n",
            "4. Model: Textblob: \n",
            "           Counts Percentage\n",
            "Positive      96     89.72%\n",
            "Neutral        6      5.61%\n",
            "Negative       5      4.67%\n",
            "\n",
            "=======================================\n",
            "Total Number of BM Reviews:  56\n",
            "1. Model: Malaya: \n",
            "           Counts Percentage\n",
            "Positive      47     83.93%\n",
            "Neutral        2      3.57%\n",
            "Negative       7      12.5%\n"
          ],
          "name": "stdout"
        }
      ]
    },
    {
      "cell_type": "code",
      "metadata": {
        "colab": {
          "base_uri": "https://localhost:8080/",
          "height": 592
        },
        "id": "NgikxHqhuw1x",
        "outputId": "bc9f980e-c04d-4309-fca8-0377faf6d945"
      },
      "source": [
        "# Pie charts\n",
        "\n",
        "fig, axes = plt.subplots(nrows=1, ncols=4, figsize=(20, 20))\n",
        "colors_2 = ['#348017', '#C11B17']\n",
        "colors_3 = ['#348017', '#FFA62F', '#C11B17']\n",
        "plot1 = dfPipelineCount.plot.pie(y='Counts', title=\"Model: Pipeline\", ax=axes[0], colors = colors_2, autopct='%1.2f%%')\n",
        "plot2 = dfVaderCount.plot.pie(y='Counts', title=\"Model: Vader\", ax=axes[1], colors = colors_2, autopct='%1.2f%%')\n",
        "plot3 = dfFlairCount.plot.pie(y='Counts', title=\"Model: Flair\", ax=axes[2], colors = colors_2, autopct='%1.2f%%')\n",
        "plot4 = dfTextblobCount.plot.pie(y='Counts', title=\"Model: Textblob\", ax=axes[3], colors = colors_3, autopct='%1.2f%%')\n",
        "\n",
        "plot5 = dfMalayaCount.plot.pie(y='Counts', title=\"Model: Malaya\", colors = colors_3, figsize=(5, 5), autopct='%1.2f%%')"
      ],
      "execution_count": 134,
      "outputs": [
        {
          "output_type": "display_data",
          "data": {
            "image/png": "[encoded data removed]",
            "text/plain": [
              "<Figure size 1440x1440 with 4 Axes>"
            ]
          },
          "metadata": {
            "tags": []
          }
        },
        {
          "output_type": "display_data",
          "data": {
            "image/png": "[encoded data removed]",
            "text/plain": [
              "<Figure size 360x360 with 1 Axes>"
            ]
          },
          "metadata": {
            "tags": []
          }
        }
      ]
    },
    {
      "cell_type": "code",
      "metadata": {
        "colab": {
          "base_uri": "https://localhost:8080/"
        },
        "id": "jdYYXMh3HpL4",
        "outputId": "66dde804-b7a4-4758-e33e-b27cdb9d27d5"
      },
      "source": [
        "print(\"1. EN Model Pipeline: \\n\", tabulate(dfPipeline, showindex=False, headers=dfPipeline.columns))"
      ],
      "execution_count": 135,
      "outputs": [
        {
          "output_type": "stream",
          "text": [
            "1. EN Model Pipeline: \n",
            " Classification       Score  Text\n",
            "----------------  --------  ------------------------------------------------------------------------------------------------------------------------------------------------------------------------------------------------------------------------------------------------------------------------------------------------------------\n",
            "POSITIVE          0.999836  Fast delivery and all in good condition. Real comfortable chair.\n",
            "POSITIVE          0.999542  I love the chair !!! Although pre order took quite some time but it’s really comfortable and beautiful. Smells like the interior of a new car too 😹. Thank you seller!!\n",
            "POSITIVE          0.9996    Fast delivery !Nice product !Seller very nice !Like ! Like ! Like\n",
            "POSITIVE          0.999643  Good product quality good value for money fast delivery date\n",
            "NEGATIVE          0.933589  Bought at 27 March arrived 31 March although mentioned pre-order . Super fast delivery and worth for money\n",
            "POSITIVE          0.999365  Products well packing, received in good condition\n",
            "POSITIVE          0.999805  Already recieved mine, thanks seller, provinding us with good service\n",
            "POSITIVE          0.997804  I topup change to TTracing Surge Red because stock ready. if swift X preorder take time. I think its worth to topup to surge. I really like this gaming chair. Thumbs up 👍\n",
            "POSITIVE          0.999666  Thanks seller for the above. I bought TTRacing Swift X2020 in red. Seat ada aesthetic flaws, so kita tengah tunggu replacement. Nonetheless, the seller and his support team are very2 supportive and responsive. Hopefully the replacement part is great as well. The seat is very nice & comfortable!!!!♥️\n",
            "POSITIVE          0.995816  Holy moly! You just don't feel like getting up once you've seated. Great stuff indeed. Assembling wasn't hard too. However since there's no ventilation for the back seat, best to seat in a cold, air-conditioned or near fan environment. In total, worth the prize. 👍\n",
            "POSITIVE          0.612682  It got quality, feel comfortable n sturdy.. But a bit disappointed with the lumbar cushion, suppose to have a straps..Anyway so far so good.\n",
            "NEGATIVE          0.707238  The shipping time is a long time, it will be a little hot after sitting for a long time. Other good\n",
            "POSITIVE          0.99943   Comfortable, doesn’t disappoint!Seller is super helpful and quick to respond to messages. Easy to assemble\n",
            "NEGATIVE          0.997583  Items received with wrong color. Originally I ordered black, but then I chatted with the seller to change it to grey since the black color was out of stock. Unfortunately, the seller sent me the red one. Since, I already assembled it and dont want to face the hassle of returning it, i accepted it.\n",
            "POSITIVE          0.504194  Great product! Bought this during sales n worth every penny.Delivery was great just no update from the courier. (Didn't state it will be deliver today)It cost a tiny little cracked but it doesn't matter for me.Assemble easily n super fast with just 20 - 25 min by myself.\n",
            "POSITIVE          0.999808  ALHAMDULILLAH...selamat sampai...a very friendly and superb seller. Mine was pre-ordered and should be posted on 1st Feb. But I received the chair on 1st. Very fast. The chair is very comfy and awesome. Love it\n",
            "POSITIVE          0.851368  This chair is super nice for the price. Tried Corsair Rush few days back priced at 1.4k. This TT Racing chair, is comparable to that in comfort level at a much lower price. Truly a bargain. *Plus Extra Star for the chat responsiveness and seller professionalism in communicating with customer. 👍\n",
            "POSITIVE          0.99346   Got the swift x within 2 days after placing order on 2.2 midnight. Very good deal as it was lowered to RM519 and with vouchers, I got it at RM493, about RM100 lower than its usual price. Glad I waited till 2.2 sales. Courier is good too. Seller is responsive to questions too.\n",
            "NEGATIVE          0.96805   Items received as advertised. Fast delivery and service by seller.\n",
            "POSITIVE          0.999817  Very comfortable!! Very worth the price. Just what i expected. The padding is just enough, the material is also good. And it's very easy to assemble, took only half an hour for me to assemble them. Very worth it\n",
            "POSITIVE          0.999824  My bro loves it! I gave this for his upcoming birthday this 7/2. Sooo comfy and worth the money! Highly recommended! HE LOVES IT SO MUCH!! You guys need to buy this also okie!!! THANK YOU SO MUCH TTRACING MALAYSIA! ❤️❤️❤️\n",
            "POSITIVE          0.998678  Fast delivery ... easy to assembly ... very comfortable chair 👍🏻👍🏻\n",
            "POSITIVE          0.998876  Very fast to receive the gaming chair... although expensive but is really comfortable when sitting on this chair.\n",
            "POSITIVE          0.994809  Some paint detached at certain parts. The assembly is darned difficult without video instructions. But overall, I'm satisfied\n",
            "POSITIVE          0.999766  Good quality and good product. Seller response time very fast. Customer service tip top.. Thank you seller. Wish you sell plenty.\n",
            "POSITIVE          0.998649  Bought preorder on 12.12 sale, received on 29.12. Very good product. Installation was easy. Recommended seller. 👍\n",
            "POSITIVE          0.999792  1st of all i would like to say, very fast delivery. I did not expect to received it earlier than Shoppe or seller estimation. Secondly thanks to seller for great service and helpful conversation. Last but not least, the product is just simply astonishing. I am a happy nerdy now. 😂\n",
            "POSITIVE          0.763289  Tipu!! Say pre order but arrived within 3 days 😂🤣 I was planning not to tell my boyfriend mana tau you arrived so early the surprise bocor d! But he loves it so much, the smell (plastic smell) it very heavy so be mindful when you put in a small room.\n",
            "POSITIVE          0.999821  Arrived next day after shipped out. Thank you so much for the great service and chairs.\n",
            "POSITIVE          0.998367  Goods received in good condition,  not too difficult to assembly. 👍👍\n",
            "POSITIVE          0.999604  This chair is superb!Very comfy feels like expensive chair and the built is in very high quality.Recommended for those who wants to find gaming / office chair.Will repeat order for my wifey soon. Although need to wait for pre order but seller sent out the item ahead of scheduled time.Good product!\n",
            "NEGATIVE          0.987356  Feel cheated. Didn't receive the adjustable lumbar strap.Edit: My bad. Didn't realize it was as advertised. They didn't cheat me at all.\n",
            "POSITIVE          0.99985   After product available, very fast delivery. Chair quality really nice. Love it!\n",
            "NEGATIVE          0.976415  Installation take 30min.\n",
            "POSITIVE          0.999551  Yesterday order and today get it. Good product quality and comfortable🌟🌟🌟🌟🌟\n",
            "POSITIVE          0.997827  Delivery faster than expected! Product is good seller is responsive good job 👍🏻\n",
            "POSITIVE          0.998704  Delivery faster than expected dateUndamaged package at allThe colour on the seat seems to fade a bit..but thats OK...Very satisfied!\n",
            "POSITIVE          0.999869  Thankyou , my husband love it ❤️✨\n",
            "POSITIVE          0.998705  Although the price is cheap. When you see this chair in person, it looks like High Quality Gaming Chair. Sit on it its like a dream. Recommended to everyone.\n",
            "POSITIVE          0.999816  good\n",
            "POSITIVE          0.999508  Took almost a month to deliver. Everytjing else is okay.\n",
            "POSITIVE          0.999819  Classic, comfort, worth the money!\n",
            "POSITIVE          0.999619  Comfy!\n",
            "POSITIVE          0.999842  Items received safely.. thank you seller.\n",
            "POSITIVE          0.999613  Fast delivery!!!! received early than expected! Quality also best!\n",
            "POSITIVE          0.999729  arrived and done installed. Overall good. Good service by seller. Shipped out earlier than expected.\n",
            "POSITIVE          0.999873  Excellent product!\n",
            "POSITIVE          0.999785  Good quality chair 😍\n",
            "POSITIVE          0.599129  easy assembly!\n",
            "POSITIVE          0.999873  great product !\n",
            "POSITIVE          0.999837  Good quality, TQ very much..........👌👌👌👌😍\n",
            "NEGATIVE          0.998112  Fast delivery but the tt racing sewing not so good, already naik\n",
            "POSITIVE          0.999379  1) Fast delivery because it is pre order.2) I received 1 wheel that cannot plug in because got 2 hinge but customer service really helpful.3) Product quality is very good and it is super comfortable.\n",
            "NEGATIVE          0.967509  Very comfortable chair! Can get kinda hot after sitting for too long if there is no air cond. Took me an hour plus to assemble because they are pretty heavy. Delivery all good, no damage or scratches.\n",
            "NEGATIVE          0.997794  Product quality is good but delivery service is poor. No one can answer on the expected delivery date until I filed for return.Please order only if you are fine with the super long waiting period. It would be good if seller can improve on the customer service as it is be very frustrated for buyer.\n",
            "POSITIVE          0.999462  Was going to get cheaper one instead but why not upgrade to get a better chair. It’s super comfy to sit on and the stealth colour is super nice too. Hope it lasts\n",
            "POSITIVE          0.998659  Expected delivery of 26 Feb but arrived 10 Feb, great CNY gift for myself! Chair is comfortable and in good condition except for a very small stitching problem my OCD eye caught as shown in attached photo. However still satisfied with the quality. Recommended!\n",
            "POSITIVE          0.999765  Unexpected, fast delivery although mentioned pre order TBA April. Thanks seller. Comfortable , definitely need air conditioning surrounded environment.Worth that value. Highly recommended\n",
            "POSITIVE          0.99536   Item received in good condition. Fast delivery, placed 2 orders on 19th Feb and delivered 1 unit on 22nd Feb another order still pending. Installation was easy even my 16 years old brother can do it on his own. Very comfortable chair.\n",
            "NEGATIVE          0.996422  So happy my GC is delivered before CNY. Earlier than scheduled. When doing inventory check I did not see the many screws shown in the pic. Contacted the seller via chat and received immediate reply that the screws are actually screwed onto the base of the chair itself. Thx seller. U r d best. 👍\n",
            "POSITIVE          0.604864  Delivery takes 4days bcos CNY holiday,, box was in good condition,,, items all complete,, had one trouble one of the skru was super hard to unskru need to hammer it lol,, seller was responsive tq 😉 the rest all good,,, love the color ❤\n",
            "POSITIVE          0.999847  The best ever...pro set\n",
            "NEGATIVE          0.998086  Beli tme sales 2.2.Tgk app ptt delivery by 5/2.Tp seller x update tracking no. When I asked seller,die ckp i beli pre-order item.bile check ngn shopee diaorg confirm i beli ready stock item.aftr complaint bru seller nk pos brg on 6/2.puas hati dgn kualiti brg.tp xpuas hati ngn seller pnye service.\n",
            "POSITIVE          0.999267  Hv been looking around for a comfortable and stylish chair and after getting this chair, really satisfied. Although there was some delay due to stock availability, they did inform in advance. Overall, good chair to consider. 👍👍\n",
            "NEGATIVE          0.992232  I got the chair in less than 2 weeks. The instruction is easy to understand but I have to point out that there was a typo in the instructions. There is no Step 5 seen. Comfy chair. Suggest to buy it during sales for extra savings.\n",
            "POSITIVE          0.99592   Received a bit defect item which a replaceable piece was broken, need to pay RM 6 as shipping fee for the cover. Everything is okay after some extra repairing work need to be done. Patience and responsible seller, never have a monent think they try to avoid problem. Well done.\n",
            "POSITIVE          0.999738  Great product and good value for money. Assembly was easy too and not many steps but needed additional pair of hands to help hold parts in place.Overall very happy with purchase. Highly recommended!\n",
            "POSITIVE          0.999872  Tq boss. Everything is perfect.\n",
            "POSITIVE          0.999807  so far ok\n",
            "POSITIVE          0.999682  This my first gaming chair.Seller fast response and incredible fast ship out.Thumb up for seller.Assembly took 30 minutes with clear instructions notes.Chair very good quality. Highly recommended.\n",
            "NEGATIVE          0.990072  All is good. Except I order grey. But they told me don’t have grey and give me few options. Either wait or change other color.\n",
            "POSITIVE          0.999854  It is so spacious & comfortable. Definitely will add more hours into my gaming with this much comfort. 👍❤️\n",
            "POSITIVE          0.923393  Item collected by ownself because im very excited to have it , i give 10/10 . Seller respond chat very fast , i recommeded this seller .\n",
            "NEGATIVE          0.995282  Send to east Malaysia within 3 days by Pgeon Delivery. Quite fast, manual no so detail for person who bought first time. Overall still ok, but one small screw on side does not fit... Hope it won't cause any problem.\n",
            "POSITIVE          0.998464  Alhamdulillah..after a long awaited..actually 6 days 😆..finally received the chair in a good condition..btw..seller so friendly..highly recommended..nice quality..thanks ttracing\n",
            "POSITIVE          0.999258  I'm amazed with this chair. The quality felt premium, easy to assemble and I even get the one that I needed (Which I asked for non-wrinkle and good looking). I think the price is really bang for the buck for this year 2021 in gaming chair category. Very recommended for all my family and friends.  TQ\n",
            "POSITIVE          0.979924  overall ok, received like this but luckily no parts missing\n",
            "NEGATIVE          0.979997  Fast delivery Received within one week Can’t wait to try now\n",
            "POSITIVE          0.967418  - Good product quality- Good value for money- fast respond from seller👍\n",
            "POSITIVE          0.999671  Fast delivery by seller. Really recommended this\n",
            "POSITIVE          0.745791  👍👍👍👍👍😍😍😍😍😍very fast delivery.. today order.. tomorrow delivered..\n",
            "POSITIVE          0.963633  In product details seller stated will ship by 1 Feb, and I receive on 1 Feb. Easy to assemble. If you’re strong it’s a one man job, if not so strong, get someone to help you assemble together\n",
            "POSITIVE          0.99961   Thank you seller. fast delivery and received in good condition\n",
            "POSITIVE          0.953332  Ordered on 18/1 and received on 20/1. quite fast during mco. price RM569 plus additional 10% coin cash back. good in quality and worth it than paying for other high end chair. easy to assemble. hopefully can last long before started peeling off.\n",
            "POSITIVE          0.999529  Chair is as described, feels sturdy and the removable neckrest/backrest are a nice touch for added comfort.\n",
            "POSITIVE          0.999482  Fast delivery and received in good condition. Assembly it with my 11 years old son, a mother and a son doing a good job. Just follow the manual. Screws are attached to the chair and have to be unscrewed before assembly. The chair is comfortable, we love it.\n",
            "POSITIVE          0.989173  Paid on 28dec, promised to ship out in 3days (31dec) but unable to ship out by then. The product is good, solid. Recommended to buy. Don't promise customer if cannot deliver. Service good 🤗, Overall good 👍🏻Ps: no preorder batch. But did called me on third day whether i want to wait for black.\n",
            "POSITIVE          0.999862  Item received in good condition. Fast delivery. Fast response from seller for replying message. My first time of purchasing a gaming chair. The chair is awesome. Quality is fantastic. Overall expericence is extremely good. My height is 183cm and the chair fits me well.\n",
            "POSITIVE          0.999855  nice\n",
            "POSITIVE          0.999306  Goodbye old chair and hello new chair, hopefully swift x 2020 will satisfy me.When the chair arrive it’s abit oily at the seats but it’s ok to me, will purchase again for family if really satisfying me.\n",
            "POSITIVE          0.99984   Superb service\n",
            "POSITIVE          0.822445  The seller was responsive in answering my queries.This purchased was ideally to upgrade my TT Racing Duo chair(suitable to my heights).\n",
            "POSITIVE          0.999813  Super fast service. Good quality product. Very satisfied with the purchase. Tq seller.\n",
            "POSITIVE          0.998662  item received in good condition, fast delivery, tq seller\n",
            "POSITIVE          0.999756  Great product and easy to assemble! I could sit on this chair for hours, it’s so comfortable\n",
            "POSITIVE          0.999614  fast delivery\n",
            "POSITIVE          0.999876  Nice and very fast delivery\n",
            "POSITIVE          0.999858  Good leather and quality\n",
            "POSITIVE          0.961261  Bestttt\n",
            "POSITIVE          0.998834  The assembly is easy enough but the effort needed isn’t cos its heavy! I wouldn’t say the finish on the materials is nice. There are bubbles and the edges are rough. But the cushion is very nice. I hope it lasts! I foresee the connection part of the seat and back support may have tears in long run.\n",
            "POSITIVE          0.989171  Delivery the next day!\n",
            "POSITIVE          0.999816  Good\n",
            "POSITIVE          0.999841  Just received this morning 😁😁. Very nice packaging & quality.. Also excellent service by seller.. Really recommended!! 👍👍\n",
            "POSITIVE          0.999565  Super fast delivery, with very good boxing and received in good condition 👍🏻👍🏻👍🏻👍🏻👍🏻\n",
            "POSITIVE          0.999828  good one.\n",
            "NEGATIVE          0.972656  Goooooood.....👍👍👍👍👍👍👍👍👍👍👍👍👍👍👍👍👍👍👍👍👍👍👍👍👍👍👍👍👍👍👍👍👍👍👍👍👍👍👍👍\n",
            "POSITIVE          0.987415  keep it up dong gibab ...........keep it up dong gibab ...........keep it up dong gibab ...........keep it up dong gibab ...........\n"
          ],
          "name": "stdout"
        }
      ]
    },
    {
      "cell_type": "code",
      "metadata": {
        "colab": {
          "base_uri": "https://localhost:8080/"
        },
        "id": "pkKR53XSLjPl",
        "outputId": "afb04b36-00df-4f3f-e132-cb20be217504"
      },
      "source": [
        "print(\"2. EN Model Vader: \\n\", tabulate(dfVader, showindex=False, headers=dfVader.columns))"
      ],
      "execution_count": 136,
      "outputs": [
        {
          "output_type": "stream",
          "text": [
            "2. EN Model Vader: \n",
            "   Negative    Neutral    Positive    Compound  Classification    Text\n",
            "----------  ---------  ----------  ----------  ----------------  ------------------------------------------------------------------------------------------------------------------------------------------------------------------------------------------------------------------------------------------------------------------------------------------------------------\n",
            "     0          0.563       0.437      0.7351  Positive          Fast delivery and all in good condition. Real comfortable chair.\n",
            "     0          0.534       0.466      0.9716  Positive          I love the chair !!! Although pre order took quite some time but it’s really comfortable and beautiful. Smells like the interior of a new car too 😹. Thank you seller!!\n",
            "     0          0.245       0.755      0.9371  Positive          Fast delivery !Nice product !Seller very nice !Like ! Like ! Like\n",
            "     0          0.461       0.539      0.802   Positive          Good product quality good value for money fast delivery date\n",
            "     0          0.721       0.279      0.7003  Positive          Bought at 27 March arrived 31 March although mentioned pre-order . Super fast delivery and worth for money\n",
            "     0          0.5         0.5        0.6124  Positive          Products well packing, received in good condition\n",
            "     0          0.58        0.42       0.7003  Positive          Already recieved mine, thanks seller, provinding us with good service\n",
            "     0          0.727       0.273      0.7902  Positive          I topup change to TTracing Surge Red because stock ready. if swift X preorder take time. I think its worth to topup to surge. I really like this gaming chair. Thumbs up 👍\n",
            "     0          0.594       0.406      0.9728  Positive          Thanks seller for the above. I bought TTRacing Swift X2020 in red. Seat ada aesthetic flaws, so kita tengah tunggu replacement. Nonetheless, the seller and his support team are very2 supportive and responsive. Hopefully the replacement part is great as well. The seat is very nice & comfortable!!!!♥️\n",
            "     0.076      0.617       0.307      0.9198  Positive          Holy moly! You just don't feel like getting up once you've seated. Great stuff indeed. Assembling wasn't hard too. However since there's no ventilation for the back seat, best to seat in a cold, air-conditioned or near fan environment. In total, worth the prize. 👍\n",
            "     0.109      0.632       0.259      0.6452  Positive          It got quality, feel comfortable n sturdy.. But a bit disappointed with the lumbar cushion, suppose to have a straps..Anyway so far so good.\n",
            "     0          0.854       0.146      0.4404  Positive          The shipping time is a long time, it will be a little hot after sitting for a long time. Other good\n",
            "     0          0.455       0.545      0.9215  Positive          Comfortable, doesn’t disappoint!Seller is super helpful and quick to respond to messages. Easy to assemble\n",
            "     0.115      0.815       0.07      -0.368   Negative          Items received with wrong color. Originally I ordered black, but then I chatted with the seller to change it to grey since the black color was out of stock. Unfortunately, the seller sent me the red one. Since, I already assembled it and dont want to face the hassle of returning it, i accepted it.\n",
            "     0.049      0.673       0.278      0.9271  Positive          Great product! Bought this during sales n worth every penny.Delivery was great just no update from the courier. (Didn't state it will be deliver today)It cost a tiny little cracked but it doesn't matter for me.Assemble easily n super fast with just 20 - 25 min by myself.\n",
            "     0          0.646       0.354      0.9547  Positive          ALHAMDULILLAH...selamat sampai...a very friendly and superb seller. Mine was pre-ordered and should be posted on 1st Feb. But I received the chair on 1st. Very fast. The chair is very comfy and awesome. Love it\n",
            "     0.038      0.723       0.239      0.8934  Positive          This chair is super nice for the price. Tried Corsair Rush few days back priced at 1.4k. This TT Racing chair, is comparable to that in comfort level at a much lower price. Truly a bargain. *Plus Extra Star for the chat responsiveness and seller professionalism in communicating with customer. 👍\n",
            "     0.062      0.707       0.23       0.8746  Positive          Got the swift x within 2 days after placing order on 2.2 midnight. Very good deal as it was lowered to RM519 and with vouchers, I got it at RM493, about RM100 lower than its usual price. Glad I waited till 2.2 sales. Courier is good too. Seller is responsive to questions too.\n",
            "     0          1           0          0       Neutral           Items received as advertised. Fast delivery and service by seller.\n",
            "     0          0.685       0.315      0.9347  Positive          Very comfortable!! Very worth the price. Just what i expected. The padding is just enough, the material is also good. And it's very easy to assemble, took only half an hour for me to assemble them. Very worth it\n",
            "     0          0.676       0.324      0.9501  Positive          My bro loves it! I gave this for his upcoming birthday this 7/2. Sooo comfy and worth the money! Highly recommended! HE LOVES IT SO MUCH!! You guys need to buy this also okie!!! THANK YOU SO MUCH TTRACING MALAYSIA! ❤️❤️❤️\n",
            "     0          0.581       0.419      0.7574  Positive          Fast delivery ... easy to assembly ... very comfortable chair 👍🏻👍🏻\n",
            "     0          0.777       0.223      0.7086  Positive          Very fast to receive the gaming chair... although expensive but is really comfortable when sitting on this chair.\n",
            "     0.175      0.611       0.214      0.2263  Positive          Some paint detached at certain parts. The assembly is darned difficult without video instructions. But overall, I'm satisfied\n",
            "     0          0.607       0.393      0.875   Positive          Good quality and good product. Seller response time very fast. Customer service tip top.. Thank you seller. Wish you sell plenty.\n",
            "     0          0.622       0.378      0.7841  Positive          Bought preorder on 12.12 sale, received on 29.12. Very good product. Installation was easy. Recommended seller. 👍\n",
            "     0.024      0.734       0.242      0.8979  Positive          1st of all i would like to say, very fast delivery. I did not expect to received it earlier than Shoppe or seller estimation. Secondly thanks to seller for great service and helpful conversation. Last but not least, the product is just simply astonishing. I am a happy nerdy now. 😂\n",
            "     0          0.837       0.163      0.8742  Positive          Tipu!! Say pre order but arrived within 3 days 😂🤣 I was planning not to tell my boyfriend mana tau you arrived so early the surprise bocor d! But he loves it so much, the smell (plastic smell) it very heavy so be mindful when you put in a small room.\n",
            "     0          0.68        0.32       0.765   Positive          Arrived next day after shipped out. Thank you so much for the great service and chairs.\n",
            "     0          0.642       0.358      0.6136  Positive          Goods received in good condition,  not too difficult to assembly. 👍👍\n",
            "     0          0.955       0.045      0.3257  Positive          This chair is superb!Very comfy feels like expensive chair and the built is in very high quality.Recommended for those who wants to find gaming / office chair.Will repeat order for my wifey soon. Although need to wait for pre order but seller sent out the item ahead of scheduled time.Good product!\n",
            "     0.24       0.672       0.088     -0.6508  Negative          Feel cheated. Didn't receive the adjustable lumbar strap.Edit: My bad. Didn't realize it was as advertised. They didn't cheat me at all.\n",
            "     0          0.56        0.44       0.8344  Positive          After product available, very fast delivery. Chair quality really nice. Love it!\n",
            "     0          1           0          0       Neutral           Installation take 30min.\n",
            "     0          0.775       0.225      0.4404  Positive          Yesterday order and today get it. Good product quality and comfortable🌟🌟🌟🌟🌟\n",
            "     0          0.538       0.462      0.8221  Positive          Delivery faster than expected! Product is good seller is responsive good job 👍🏻\n",
            "     0          0.853       0.147      0.4753  Positive          Delivery faster than expected dateUndamaged package at allThe colour on the seat seems to fade a bit..but thats OK...Very satisfied!\n",
            "     0          0.543       0.457      0.6369  Positive          Thankyou , my husband love it ❤️✨\n",
            "     0          0.732       0.268      0.7783  Positive          Although the price is cheap. When you see this chair in person, it looks like High Quality Gaming Chair. Sit on it its like a dream. Recommended to everyone.\n",
            "     0          0           1          0.4404  Positive          good\n",
            "     0          0.808       0.192      0.2263  Positive          Took almost a month to deliver. Everytjing else is okay.\n",
            "     0          0.39        0.61       0.5707  Positive          Classic, comfort, worth the money!\n",
            "     0          1           0          0       Neutral           Comfy!\n",
            "     0          0.667       0.333      0.3612  Positive          Items received safely.. thank you seller.\n",
            "     0          0.598       0.402      0.7482  Positive          Fast delivery!!!! received early than expected! Quality also best!\n",
            "     0          0.691       0.309      0.7003  Positive          arrived and done installed. Overall good. Good service by seller. Shipped out earlier than expected.\n",
            "     0          0.2         0.8        0.6114  Positive          Excellent product!\n",
            "     0          0.408       0.592      0.4404  Positive          Good quality chair 😍\n",
            "     0          0.239       0.761      0.4926  Positive          easy assembly!\n",
            "     0          0.185       0.815      0.6588  Positive          great product !\n",
            "     0          0.58        0.42       0.4404  Positive          Good quality, TQ very much..........👌👌👌👌😍\n",
            "     0.269      0.731       0         -0.6178  Negative          Fast delivery but the tt racing sewing not so good, already naik\n",
            "     0          0.673       0.327      0.9441  Positive          1) Fast delivery because it is pre order.2) I received 1 wheel that cannot plug in because got 2 hinge but customer service really helpful.3) Product quality is very good and it is super comfortable.\n",
            "     0.156      0.638       0.206      0.5244  Positive          Very comfortable chair! Can get kinda hot after sitting for too long if there is no air cond. Took me an hour plus to assemble because they are pretty heavy. Delivery all good, no damage or scratches.\n",
            "     0.159      0.612       0.229      0.6382  Positive          Product quality is good but delivery service is poor. No one can answer on the expected delivery date until I filed for return.Please order only if you are fine with the super long waiting period. It would be good if seller can improve on the customer service as it is be very frustrated for buyer.\n",
            "     0.029      0.525       0.446      0.974   Positive          Was going to get cheaper one instead but why not upgrade to get a better chair. It’s super comfy to sit on and the stealth colour is super nice too. Hope it lasts\n",
            "     0.061      0.56        0.378      0.9696  Positive          Expected delivery of 26 Feb but arrived 10 Feb, great CNY gift for myself! Chair is comfortable and in good condition except for a very small stitching problem my OCD eye caught as shown in attached photo. However still satisfied with the quality. Recommended!\n",
            "     0          0.559       0.441      0.908   Positive          Unexpected, fast delivery although mentioned pre order TBA April. Thanks seller. Comfortable , definitely need air conditioning surrounded environment.Worth that value. Highly recommended\n",
            "     0          0.798       0.202      0.8553  Positive          Item received in good condition. Fast delivery, placed 2 orders on 19th Feb and delivered 1 unit on 22nd Feb another order still pending. Installation was easy even my 16 years old brother can do it on his own. Very comfortable chair.\n",
            "     0.116      0.711       0.173      0.6697  Positive          So happy my GC is delivered before CNY. Earlier than scheduled. When doing inventory check I did not see the many screws shown in the pic. Contacted the seller via chat and received immediate reply that the screws are actually screwed onto the base of the chair itself. Thx seller. U r d best. 👍\n",
            "     0.076      0.672       0.252      0.886   Positive          Delivery takes 4days bcos CNY holiday,, box was in good condition,,, items all complete,, had one trouble one of the skru was super hard to unskru need to hammer it lol,, seller was responsive tq 😉 the rest all good,,, love the color ❤\n",
            "     0          0.417       0.583      0.6369  Positive          The best ever...pro set\n",
            "     0.086      0.864       0.049     -0.2263  Negative          Beli tme sales 2.2.Tgk app ptt delivery by 5/2.Tp seller x update tracking no. When I asked seller,die ckp i beli pre-order item.bile check ngn shopee diaorg confirm i beli ready stock item.aftr complaint bru seller nk pos brg on 6/2.puas hati dgn kualiti brg.tp xpuas hati ngn seller pnye service.\n",
            "     0.053      0.734       0.213      0.7902  Positive          Hv been looking around for a comfortable and stylish chair and after getting this chair, really satisfied. Although there was some delay due to stock availability, they did inform in advance. Overall, good chair to consider. 👍👍\n",
            "     0.064      0.891       0.045     -0.2144  Negative          I got the chair in less than 2 weeks. The instruction is easy to understand but I have to point out that there was a typo in the instructions. There is no Step 5 seen. Comfy chair. Suggest to buy it during sales for extra savings.\n",
            "     0.21       0.677       0.112     -0.6705  Negative          Received a bit defect item which a replaceable piece was broken, need to pay RM 6 as shipping fee for the cover. Everything is okay after some extra repairing work need to be done. Patience and responsible seller, never have a monent think they try to avoid problem. Well done.\n",
            "     0          0.564       0.436      0.9591  Positive          Great product and good value for money. Assembly was easy too and not many steps but needed additional pair of hands to help hold parts in place.Overall very happy with purchase. Highly recommended!\n",
            "     0          0.519       0.481      0.5719  Positive          Tq boss. Everything is perfect.\n",
            "     0          0.447       0.553      0.3566  Positive          so far ok\n",
            "     0          0.753       0.247      0.7837  Positive          This my first gaming chair.Seller fast response and incredible fast ship out.Thumb up for seller.Assembly took 30 minutes with clear instructions notes.Chair very good quality. Highly recommended.\n",
            "     0          0.798       0.202      0.5106  Positive          All is good. Except I order grey. But they told me don’t have grey and give me few options. Either wait or change other color.\n",
            "     0          0.624       0.376      0.8419  Positive          It is so spacious & comfortable. Definitely will add more hours into my gaming with this much comfort. 👍❤️\n",
            "     0          0.881       0.119      0.4005  Positive          Item collected by ownself because im very excited to have it , i give 10/10 . Seller respond chat very fast , i recommeded this seller .\n",
            "     0.143      0.757       0.1       -0.2391  Negative          Send to east Malaysia within 3 days by Pgeon Delivery. Quite fast, manual no so detail for person who bought first time. Overall still ok, but one small screw on side does not fit... Hope it won't cause any problem.\n",
            "     0          0.838       0.162      0.4404  Positive          Alhamdulillah..after a long awaited..actually 6 days 😆..finally received the chair in a good condition..btw..seller so friendly..highly recommended..nice quality..thanks ttracing\n",
            "     0          0.768       0.232      0.9216  Positive          I'm amazed with this chair. The quality felt premium, easy to assemble and I even get the one that I needed (Which I asked for non-wrinkle and good looking). I think the price is really bang for the buck for this year 2021 in gaming chair category. Very recommended for all my family and friends.  TQ\n",
            "     0.304      0.272       0.424      0.296   Positive          overall ok, received like this but luckily no parts missing\n",
            "     0          1           0          0       Neutral           Fast delivery Received within one week Can’t wait to try now\n",
            "     0          0.494       0.506      0.802   Positive          - Good product quality- Good value for money- fast respond from seller👍\n",
            "     0          0.741       0.259      0.2716  Positive          Fast delivery by seller. Really recommended this\n",
            "     0          1           0          0       Neutral           👍👍👍👍👍😍😍😍😍😍very fast delivery.. today order.. tomorrow delivered..\n",
            "     0          0.711       0.289      0.9042  Positive          In product details seller stated will ship by 1 Feb, and I receive on 1 Feb. Easy to assemble. If you’re strong it’s a one man job, if not so strong, get someone to help you assemble together\n",
            "     0          0.597       0.403      0.6597  Positive          Thank you seller. fast delivery and received in good condition\n",
            "     0          0.789       0.211      0.8555  Positive          Ordered on 18/1 and received on 20/1. quite fast during mco. price RM569 plus additional 10% coin cash back. good in quality and worth it than paying for other high end chair. easy to assemble. hopefully can last long before started peeling off.\n",
            "     0          0.725       0.275      0.6486  Positive          Chair is as described, feels sturdy and the removable neckrest/backrest are a nice touch for added comfort.\n",
            "     0.036      0.723       0.241      0.9062  Positive          Fast delivery and received in good condition. Assembly it with my 11 years old son, a mother and a son doing a good job. Just follow the manual. Screws are attached to the chair and have to be unscrewed before assembly. The chair is comfortable, we love it.\n",
            "     0.077      0.646       0.277      0.9119  Positive          Paid on 28dec, promised to ship out in 3days (31dec) but unable to ship out by then. The product is good, solid. Recommended to buy. Don't promise customer if cannot deliver. Service good 🤗, Overall good 👍🏻Ps: no preorder batch. But did called me on third day whether i want to wait for black.\n",
            "     0          0.709       0.291      0.9393  Positive          Item received in good condition. Fast delivery. Fast response from seller for replying message. My first time of purchasing a gaming chair. The chair is awesome. Quality is fantastic. Overall expericence is extremely good. My height is 183cm and the chair fits me well.\n",
            "     0          0           1          0.4215  Positive          nice\n",
            "     0          0.713       0.287      0.8883  Positive          Goodbye old chair and hello new chair, hopefully swift x 2020 will satisfy me.When the chair arrive it’s abit oily at the seats but it’s ok to me, will purchase again for family if really satisfying me.\n",
            "     0          0.196       0.804      0.6249  Positive          Superb service\n",
            "     0          0.782       0.218      0.6486  Positive          The seller was responsive in answering my queries.This purchased was ideally to upgrade my TT Racing Duo chair(suitable to my heights).\n",
            "     0          0.503       0.497      0.8718  Positive          Super fast service. Good quality product. Very satisfied with the purchase. Tq seller.\n",
            "     0          0.734       0.266      0.4404  Positive          item received in good condition, fast delivery, tq seller\n",
            "     0          0.53        0.47       0.9106  Positive          Great product and easy to assemble! I could sit on this chair for hours, it’s so comfortable\n",
            "     0          1           0          0       Neutral           fast delivery\n",
            "     0          0.588       0.412      0.4215  Positive          Nice and very fast delivery\n",
            "     0          0.508       0.492      0.4404  Positive          Good leather and quality\n",
            "     0          1           0          0       Neutral           Bestttt\n",
            "     0.034      0.709       0.257      0.9469  Positive          The assembly is easy enough but the effort needed isn’t cos its heavy! I wouldn’t say the finish on the materials is nice. There are bubbles and the edges are rough. But the cushion is very nice. I hope it lasts! I foresee the connection part of the seat and back support may have tears in long run.\n",
            "     0          1           0          0       Neutral           Delivery the next day!\n",
            "     0          0           1          0.4404  Positive          Good\n",
            "     0          0.597       0.403      0.858   Positive          Just received this morning 😁😁. Very nice packaging & quality.. Also excellent service by seller.. Really recommended!! 👍👍\n",
            "     0          0.493       0.507      0.883   Positive          Super fast delivery, with very good boxing and received in good condition 👍🏻👍🏻👍🏻👍🏻👍🏻\n",
            "     0          0.256       0.744      0.4404  Positive          good one.\n",
            "     0          1           0          0       Neutral           Goooooood.....👍👍👍👍👍👍👍👍👍👍👍👍👍👍👍👍👍👍👍👍👍👍👍👍👍👍👍👍👍👍👍👍👍👍👍👍👍👍👍👍\n",
            "     0          1           0          0       Neutral           keep it up dong gibab ...........keep it up dong gibab ...........keep it up dong gibab ...........keep it up dong gibab ...........\n"
          ],
          "name": "stdout"
        }
      ]
    },
    {
      "cell_type": "code",
      "metadata": {
        "colab": {
          "base_uri": "https://localhost:8080/"
        },
        "id": "FoYqS6dNLnBO",
        "outputId": "5d814546-5c1e-4ebe-efeb-bdd26ad9e103"
      },
      "source": [
        "print(\"3. EN Model Flair: \\n\", tabulate(dfFlair, showindex=False, headers=dfFlair.columns))"
      ],
      "execution_count": 137,
      "outputs": [
        {
          "output_type": "stream",
          "text": [
            "3. EN Model Flair: \n",
            "   Predict  Classification    Text\n",
            "---------  ----------------  ------------------------------------------------------------------------------------------------------------------------------------------------------------------------------------------------------------------------------------------------------------------------------------------------------------\n",
            "    0.994  POSITIVE          Fast delivery and all in good condition. Real comfortable chair.\n",
            "    0.998  POSITIVE          I love the chair !!! Although pre order took quite some time but it’s really comfortable and beautiful. Smells like the interior of a new car too 😹. Thank you seller!!\n",
            "    0.991  POSITIVE          Fast delivery !Nice product !Seller very nice !Like ! Like ! Like\n",
            "    0.989  POSITIVE          Good product quality good value for money fast delivery date\n",
            "    0.999  POSITIVE          Bought at 27 March arrived 31 March although mentioned pre-order . Super fast delivery and worth for money\n",
            "    0.99   POSITIVE          Products well packing, received in good condition\n",
            "    0.976  POSITIVE          Already recieved mine, thanks seller, provinding us with good service\n",
            "    0.999  POSITIVE          I topup change to TTracing Surge Red because stock ready. if swift X preorder take time. I think its worth to topup to surge. I really like this gaming chair. Thumbs up 👍\n",
            "    0.994  POSITIVE          Thanks seller for the above. I bought TTRacing Swift X2020 in red. Seat ada aesthetic flaws, so kita tengah tunggu replacement. Nonetheless, the seller and his support team are very2 supportive and responsive. Hopefully the replacement part is great as well. The seat is very nice & comfortable!!!!♥️\n",
            "    1      POSITIVE          Holy moly! You just don't feel like getting up once you've seated. Great stuff indeed. Assembling wasn't hard too. However since there's no ventilation for the back seat, best to seat in a cold, air-conditioned or near fan environment. In total, worth the prize. 👍\n",
            "    0.757  NEGATIVE          It got quality, feel comfortable n sturdy.. But a bit disappointed with the lumbar cushion, suppose to have a straps..Anyway so far so good.\n",
            "    0.509  POSITIVE          The shipping time is a long time, it will be a little hot after sitting for a long time. Other good\n",
            "    0.989  POSITIVE          Comfortable, doesn’t disappoint!Seller is super helpful and quick to respond to messages. Easy to assemble\n",
            "    1      NEGATIVE          Items received with wrong color. Originally I ordered black, but then I chatted with the seller to change it to grey since the black color was out of stock. Unfortunately, the seller sent me the red one. Since, I already assembled it and dont want to face the hassle of returning it, i accepted it.\n",
            "    0.998  POSITIVE          Great product! Bought this during sales n worth every penny.Delivery was great just no update from the courier. (Didn't state it will be deliver today)It cost a tiny little cracked but it doesn't matter for me.Assemble easily n super fast with just 20 - 25 min by myself.\n",
            "    0.988  POSITIVE          ALHAMDULILLAH...selamat sampai...a very friendly and superb seller. Mine was pre-ordered and should be posted on 1st Feb. But I received the chair on 1st. Very fast. The chair is very comfy and awesome. Love it\n",
            "    0.999  POSITIVE          This chair is super nice for the price. Tried Corsair Rush few days back priced at 1.4k. This TT Racing chair, is comparable to that in comfort level at a much lower price. Truly a bargain. *Plus Extra Star for the chat responsiveness and seller professionalism in communicating with customer. 👍\n",
            "    0.994  POSITIVE          Got the swift x within 2 days after placing order on 2.2 midnight. Very good deal as it was lowered to RM519 and with vouchers, I got it at RM493, about RM100 lower than its usual price. Glad I waited till 2.2 sales. Courier is good too. Seller is responsive to questions too.\n",
            "    0.997  POSITIVE          Items received as advertised. Fast delivery and service by seller.\n",
            "    0.998  POSITIVE          Very comfortable!! Very worth the price. Just what i expected. The padding is just enough, the material is also good. And it's very easy to assemble, took only half an hour for me to assemble them. Very worth it\n",
            "    0.997  POSITIVE          My bro loves it! I gave this for his upcoming birthday this 7/2. Sooo comfy and worth the money! Highly recommended! HE LOVES IT SO MUCH!! You guys need to buy this also okie!!! THANK YOU SO MUCH TTRACING MALAYSIA! ❤️❤️❤️\n",
            "    0.999  POSITIVE          Fast delivery ... easy to assembly ... very comfortable chair 👍🏻👍🏻\n",
            "    0.995  POSITIVE          Very fast to receive the gaming chair... although expensive but is really comfortable when sitting on this chair.\n",
            "    0.69   NEGATIVE          Some paint detached at certain parts. The assembly is darned difficult without video instructions. But overall, I'm satisfied\n",
            "    0.97   POSITIVE          Good quality and good product. Seller response time very fast. Customer service tip top.. Thank you seller. Wish you sell plenty.\n",
            "    0.987  POSITIVE          Bought preorder on 12.12 sale, received on 29.12. Very good product. Installation was easy. Recommended seller. 👍\n",
            "    0.999  POSITIVE          1st of all i would like to say, very fast delivery. I did not expect to received it earlier than Shoppe or seller estimation. Secondly thanks to seller for great service and helpful conversation. Last but not least, the product is just simply astonishing. I am a happy nerdy now. 😂\n",
            "    0.999  POSITIVE          Tipu!! Say pre order but arrived within 3 days 😂🤣 I was planning not to tell my boyfriend mana tau you arrived so early the surprise bocor d! But he loves it so much, the smell (plastic smell) it very heavy so be mindful when you put in a small room.\n",
            "    0.962  POSITIVE          Arrived next day after shipped out. Thank you so much for the great service and chairs.\n",
            "    0.995  POSITIVE          Goods received in good condition,  not too difficult to assembly. 👍👍\n",
            "    0.998  POSITIVE          This chair is superb!Very comfy feels like expensive chair and the built is in very high quality.Recommended for those who wants to find gaming / office chair.Will repeat order for my wifey soon. Although need to wait for pre order but seller sent out the item ahead of scheduled time.Good product!\n",
            "    1      NEGATIVE          Feel cheated. Didn't receive the adjustable lumbar strap.Edit: My bad. Didn't realize it was as advertised. They didn't cheat me at all.\n",
            "    0.995  POSITIVE          After product available, very fast delivery. Chair quality really nice. Love it!\n",
            "    0.868  POSITIVE          Installation take 30min.\n",
            "    0.957  POSITIVE          Yesterday order and today get it. Good product quality and comfortable🌟🌟🌟🌟🌟\n",
            "    0.993  POSITIVE          Delivery faster than expected! Product is good seller is responsive good job 👍🏻\n",
            "    0.999  POSITIVE          Delivery faster than expected dateUndamaged package at allThe colour on the seat seems to fade a bit..but thats OK...Very satisfied!\n",
            "    0.996  POSITIVE          Thankyou , my husband love it ❤️✨\n",
            "    0.997  POSITIVE          Although the price is cheap. When you see this chair in person, it looks like High Quality Gaming Chair. Sit on it its like a dream. Recommended to everyone.\n",
            "    0.931  POSITIVE          good\n",
            "    0.999  NEGATIVE          Took almost a month to deliver. Everytjing else is okay.\n",
            "    0.999  POSITIVE          Classic, comfort, worth the money!\n",
            "    0.999  POSITIVE          Comfy!\n",
            "    0.993  POSITIVE          Items received safely.. thank you seller.\n",
            "    0.999  POSITIVE          Fast delivery!!!! received early than expected! Quality also best!\n",
            "    0.997  POSITIVE          arrived and done installed. Overall good. Good service by seller. Shipped out earlier than expected.\n",
            "    0.997  POSITIVE          Excellent product!\n",
            "    0.994  POSITIVE          Good quality chair 😍\n",
            "    1      POSITIVE          easy assembly!\n",
            "    0.996  POSITIVE          great product !\n",
            "    0.994  POSITIVE          Good quality, TQ very much..........👌👌👌👌😍\n",
            "    0.985  NEGATIVE          Fast delivery but the tt racing sewing not so good, already naik\n",
            "    0.929  POSITIVE          1) Fast delivery because it is pre order.2) I received 1 wheel that cannot plug in because got 2 hinge but customer service really helpful.3) Product quality is very good and it is super comfortable.\n",
            "    0.999  POSITIVE          Very comfortable chair! Can get kinda hot after sitting for too long if there is no air cond. Took me an hour plus to assemble because they are pretty heavy. Delivery all good, no damage or scratches.\n",
            "    0.998  NEGATIVE          Product quality is good but delivery service is poor. No one can answer on the expected delivery date until I filed for return.Please order only if you are fine with the super long waiting period. It would be good if seller can improve on the customer service as it is be very frustrated for buyer.\n",
            "    0.997  POSITIVE          Was going to get cheaper one instead but why not upgrade to get a better chair. It’s super comfy to sit on and the stealth colour is super nice too. Hope it lasts\n",
            "    0.99   POSITIVE          Expected delivery of 26 Feb but arrived 10 Feb, great CNY gift for myself! Chair is comfortable and in good condition except for a very small stitching problem my OCD eye caught as shown in attached photo. However still satisfied with the quality. Recommended!\n",
            "    0.999  POSITIVE          Unexpected, fast delivery although mentioned pre order TBA April. Thanks seller. Comfortable , definitely need air conditioning surrounded environment.Worth that value. Highly recommended\n",
            "    0.994  POSITIVE          Item received in good condition. Fast delivery, placed 2 orders on 19th Feb and delivered 1 unit on 22nd Feb another order still pending. Installation was easy even my 16 years old brother can do it on his own. Very comfortable chair.\n",
            "    0.98   POSITIVE          So happy my GC is delivered before CNY. Earlier than scheduled. When doing inventory check I did not see the many screws shown in the pic. Contacted the seller via chat and received immediate reply that the screws are actually screwed onto the base of the chair itself. Thx seller. U r d best. 👍\n",
            "    0.992  POSITIVE          Delivery takes 4days bcos CNY holiday,, box was in good condition,,, items all complete,, had one trouble one of the skru was super hard to unskru need to hammer it lol,, seller was responsive tq 😉 the rest all good,,, love the color ❤\n",
            "    1      POSITIVE          The best ever...pro set\n",
            "    0.999  NEGATIVE          Beli tme sales 2.2.Tgk app ptt delivery by 5/2.Tp seller x update tracking no. When I asked seller,die ckp i beli pre-order item.bile check ngn shopee diaorg confirm i beli ready stock item.aftr complaint bru seller nk pos brg on 6/2.puas hati dgn kualiti brg.tp xpuas hati ngn seller pnye service.\n",
            "    0.992  POSITIVE          Hv been looking around for a comfortable and stylish chair and after getting this chair, really satisfied. Although there was some delay due to stock availability, they did inform in advance. Overall, good chair to consider. 👍👍\n",
            "    1      NEGATIVE          I got the chair in less than 2 weeks. The instruction is easy to understand but I have to point out that there was a typo in the instructions. There is no Step 5 seen. Comfy chair. Suggest to buy it during sales for extra savings.\n",
            "    0.938  NEGATIVE          Received a bit defect item which a replaceable piece was broken, need to pay RM 6 as shipping fee for the cover. Everything is okay after some extra repairing work need to be done. Patience and responsible seller, never have a monent think they try to avoid problem. Well done.\n",
            "    0.998  POSITIVE          Great product and good value for money. Assembly was easy too and not many steps but needed additional pair of hands to help hold parts in place.Overall very happy with purchase. Highly recommended!\n",
            "    1      POSITIVE          Tq boss. Everything is perfect.\n",
            "    0.823  POSITIVE          so far ok\n",
            "    0.999  POSITIVE          This my first gaming chair.Seller fast response and incredible fast ship out.Thumb up for seller.Assembly took 30 minutes with clear instructions notes.Chair very good quality. Highly recommended.\n",
            "    0.96   NEGATIVE          All is good. Except I order grey. But they told me don’t have grey and give me few options. Either wait or change other color.\n",
            "    0.98   POSITIVE          It is so spacious & comfortable. Definitely will add more hours into my gaming with this much comfort. 👍❤️\n",
            "    0.99   POSITIVE          Item collected by ownself because im very excited to have it , i give 10/10 . Seller respond chat very fast , i recommeded this seller .\n",
            "    0.999  NEGATIVE          Send to east Malaysia within 3 days by Pgeon Delivery. Quite fast, manual no so detail for person who bought first time. Overall still ok, but one small screw on side does not fit... Hope it won't cause any problem.\n",
            "    0.981  POSITIVE          Alhamdulillah..after a long awaited..actually 6 days 😆..finally received the chair in a good condition..btw..seller so friendly..highly recommended..nice quality..thanks ttracing\n",
            "    1      POSITIVE          I'm amazed with this chair. The quality felt premium, easy to assemble and I even get the one that I needed (Which I asked for non-wrinkle and good looking). I think the price is really bang for the buck for this year 2021 in gaming chair category. Very recommended for all my family and friends.  TQ\n",
            "    0.905  NEGATIVE          overall ok, received like this but luckily no parts missing\n",
            "    0.994  POSITIVE          Fast delivery Received within one week Can’t wait to try now\n",
            "    0.927  POSITIVE          - Good product quality- Good value for money- fast respond from seller👍\n",
            "    0.999  POSITIVE          Fast delivery by seller. Really recommended this\n",
            "    0.707  NEGATIVE          👍👍👍👍👍😍😍😍😍😍very fast delivery.. today order.. tomorrow delivered..\n",
            "    0.733  POSITIVE          In product details seller stated will ship by 1 Feb, and I receive on 1 Feb. Easy to assemble. If you’re strong it’s a one man job, if not so strong, get someone to help you assemble together\n",
            "    0.986  POSITIVE          Thank you seller. fast delivery and received in good condition\n",
            "    1      POSITIVE          Ordered on 18/1 and received on 20/1. quite fast during mco. price RM569 plus additional 10% coin cash back. good in quality and worth it than paying for other high end chair. easy to assemble. hopefully can last long before started peeling off.\n",
            "    0.998  POSITIVE          Chair is as described, feels sturdy and the removable neckrest/backrest are a nice touch for added comfort.\n",
            "    0.999  POSITIVE          Fast delivery and received in good condition. Assembly it with my 11 years old son, a mother and a son doing a good job. Just follow the manual. Screws are attached to the chair and have to be unscrewed before assembly. The chair is comfortable, we love it.\n",
            "    0.911  POSITIVE          Paid on 28dec, promised to ship out in 3days (31dec) but unable to ship out by then. The product is good, solid. Recommended to buy. Don't promise customer if cannot deliver. Service good 🤗, Overall good 👍🏻Ps: no preorder batch. But did called me on third day whether i want to wait for black.\n",
            "    0.988  POSITIVE          Item received in good condition. Fast delivery. Fast response from seller for replying message. My first time of purchasing a gaming chair. The chair is awesome. Quality is fantastic. Overall expericence is extremely good. My height is 183cm and the chair fits me well.\n",
            "    0.968  POSITIVE          nice\n",
            "    0.976  NEGATIVE          Goodbye old chair and hello new chair, hopefully swift x 2020 will satisfy me.When the chair arrive it’s abit oily at the seats but it’s ok to me, will purchase again for family if really satisfying me.\n",
            "    0.996  POSITIVE          Superb service\n",
            "    1      POSITIVE          The seller was responsive in answering my queries.This purchased was ideally to upgrade my TT Racing Duo chair(suitable to my heights).\n",
            "    0.991  POSITIVE          Super fast service. Good quality product. Very satisfied with the purchase. Tq seller.\n",
            "    0.995  POSITIVE          item received in good condition, fast delivery, tq seller\n",
            "    0.989  POSITIVE          Great product and easy to assemble! I could sit on this chair for hours, it’s so comfortable\n",
            "    0.999  POSITIVE          fast delivery\n",
            "    0.993  POSITIVE          Nice and very fast delivery\n",
            "    0.999  POSITIVE          Good leather and quality\n",
            "    0.999  POSITIVE          Bestttt\n",
            "    0.681  NEGATIVE          The assembly is easy enough but the effort needed isn’t cos its heavy! I wouldn’t say the finish on the materials is nice. There are bubbles and the edges are rough. But the cushion is very nice. I hope it lasts! I foresee the connection part of the seat and back support may have tears in long run.\n",
            "    0.526  NEGATIVE          Delivery the next day!\n",
            "    0.931  POSITIVE          Good\n",
            "    0.997  POSITIVE          Just received this morning 😁😁. Very nice packaging & quality.. Also excellent service by seller.. Really recommended!! 👍👍\n",
            "    0.995  POSITIVE          Super fast delivery, with very good boxing and received in good condition 👍🏻👍🏻👍🏻👍🏻👍🏻\n",
            "    0.997  POSITIVE          good one.\n",
            "    0.997  POSITIVE          Goooooood.....👍👍👍👍👍👍👍👍👍👍👍👍👍👍👍👍👍👍👍👍👍👍👍👍👍👍👍👍👍👍👍👍👍👍👍👍👍👍👍👍\n",
            "    0.889  POSITIVE          keep it up dong gibab ...........keep it up dong gibab ...........keep it up dong gibab ...........keep it up dong gibab ...........\n"
          ],
          "name": "stdout"
        }
      ]
    },
    {
      "cell_type": "code",
      "metadata": {
        "colab": {
          "base_uri": "https://localhost:8080/"
        },
        "id": "lnhCbBqzLqRF",
        "outputId": "c94600d5-93ff-4263-f744-b5e2c1236ad2"
      },
      "source": [
        "print(\"4. EN Model Textblob: \\n\", tabulate(dfTextblob, showindex=False, headers=dfTextblob.columns))"
      ],
      "execution_count": 138,
      "outputs": [
        {
          "output_type": "stream",
          "text": [
            "4. EN Model Textblob: \n",
            "   Polarity  Classification    Text\n",
            "----------  ----------------  ------------------------------------------------------------------------------------------------------------------------------------------------------------------------------------------------------------------------------------------------------------------------------------------------------------\n",
            "     0.5    Positive          Fast delivery and all in good condition. Real comfortable chair.\n",
            "     0.61   Positive          I love the chair !!! Although pre order took quite some time but it’s really comfortable and beautiful. Smells like the interior of a new car too 😹. Thank you seller!!\n",
            "     0.667  Positive          Fast delivery !Nice product !Seller very nice !Like ! Like ! Like\n",
            "     0.533  Positive          Good product quality good value for money fast delivery date\n",
            "     0.278  Positive          Bought at 27 March arrived 31 March although mentioned pre-order . Super fast delivery and worth for money\n",
            "     0.7    Positive          Products well packing, received in good condition\n",
            "     0.45   Positive          Already recieved mine, thanks seller, provinding us with good service\n",
            "     0.175  Positive          I topup change to TTracing Surge Red because stock ready. if swift X preorder take time. I think its worth to topup to surge. I really like this gaming chair. Thumbs up 👍\n",
            "     0.38   Positive          Thanks seller for the above. I bought TTRacing Swift X2020 in red. Seat ada aesthetic flaws, so kita tengah tunggu replacement. Nonetheless, the seller and his support team are very2 supportive and responsive. Hopefully the replacement part is great as well. The seat is very nice & comfortable!!!!♥️\n",
            "     0.164  Positive          Holy moly! You just don't feel like getting up once you've seated. Great stuff indeed. Assembling wasn't hard too. However since there's no ventilation for the back seat, best to seat in a cold, air-conditioned or near fan environment. In total, worth the prize. 👍\n",
            "     0.112  Positive          It got quality, feel comfortable n sturdy.. But a bit disappointed with the lumbar cushion, suppose to have a straps..Anyway so far so good.\n",
            "     0.09   Positive          The shipping time is a long time, it will be a little hot after sitting for a long time. Other good\n",
            "     0.375  Positive          Comfortable, doesn’t disappoint!Seller is super helpful and quick to respond to messages. Easy to assemble\n",
            "    -0.144  Negative          Items received with wrong color. Originally I ordered black, but then I chatted with the seller to change it to grey since the black color was out of stock. Unfortunately, the seller sent me the red one. Since, I already assembled it and dont want to face the hassle of returning it, i accepted it.\n",
            "     0.349  Positive          Great product! Bought this during sales n worth every penny.Delivery was great just no update from the courier. (Didn't state it will be deliver today)It cost a tiny little cracked but it doesn't matter for me.Assemble easily n super fast with just 20 - 25 min by myself.\n",
            "     0.575  Positive          ALHAMDULILLAH...selamat sampai...a very friendly and superb seller. Mine was pre-ordered and should be posted on 1st Feb. But I received the chair on 1st. Very fast. The chair is very comfy and awesome. Love it\n",
            "     0.156  Positive          This chair is super nice for the price. Tried Corsair Rush few days back priced at 1.4k. This TT Racing chair, is comparable to that in comfort level at a much lower price. Truly a bargain. *Plus Extra Star for the chat responsiveness and seller professionalism in communicating with customer. 👍\n",
            "     0.465  Positive          Got the swift x within 2 days after placing order on 2.2 midnight. Very good deal as it was lowered to RM519 and with vouchers, I got it at RM493, about RM100 lower than its usual price. Glad I waited till 2.2 sales. Courier is good too. Seller is responsive to questions too.\n",
            "     0.2    Positive          Items received as advertised. Fast delivery and service by seller.\n",
            "     0.288  Positive          Very comfortable!! Very worth the price. Just what i expected. The padding is just enough, the material is also good. And it's very easy to assemble, took only half an hour for me to assemble them. Very worth it\n",
            "     0.359  Positive          My bro loves it! I gave this for his upcoming birthday this 7/2. Sooo comfy and worth the money! Highly recommended! HE LOVES IT SO MUCH!! You guys need to buy this also okie!!! THANK YOU SO MUCH TTRACING MALAYSIA! ❤️❤️❤️\n",
            "     0.384  Positive          Fast delivery ... easy to assembly ... very comfortable chair 👍🏻👍🏻\n",
            "     0.053  Positive          Very fast to receive the gaming chair... although expensive but is really comfortable when sitting on this chair.\n",
            "     0.054  Positive          Some paint detached at certain parts. The assembly is darned difficult without video instructions. But overall, I'm satisfied\n",
            "     0.54   Positive          Good quality and good product. Seller response time very fast. Customer service tip top.. Thank you seller. Wish you sell plenty.\n",
            "     0.672  Positive          Bought preorder on 12.12 sale, received on 29.12. Very good product. Installation was easy. Recommended seller. 👍\n",
            "     0.339  Positive          1st of all i would like to say, very fast delivery. I did not expect to received it earlier than Shoppe or seller estimation. Secondly thanks to seller for great service and helpful conversation. Last but not least, the product is just simply astonishing. I am a happy nerdy now. 😂\n",
            "    -0.046  Negative          Tipu!! Say pre order but arrived within 3 days 😂🤣 I was planning not to tell my boyfriend mana tau you arrived so early the surprise bocor d! But he loves it so much, the smell (plastic smell) it very heavy so be mindful when you put in a small room.\n",
            "     0.333  Positive          Arrived next day after shipped out. Thank you so much for the great service and chairs.\n",
            "     0.1    Positive          Goods received in good condition,  not too difficult to assembly. 👍👍\n",
            "    -0.014  Negative          This chair is superb!Very comfy feels like expensive chair and the built is in very high quality.Recommended for those who wants to find gaming / office chair.Will repeat order for my wifey soon. Although need to wait for pre order but seller sent out the item ahead of scheduled time.Good product!\n",
            "    -0.7    Negative          Feel cheated. Didn't receive the adjustable lumbar strap.Edit: My bad. Didn't realize it was as advertised. They didn't cheat me at all.\n",
            "     0.471  Positive          After product available, very fast delivery. Chair quality really nice. Love it!\n",
            "     0      Neutral           Installation take 30min.\n",
            "     0.7    Positive          Yesterday order and today get it. Good product quality and comfortable🌟🌟🌟🌟🌟\n",
            "     0.425  Positive          Delivery faster than expected! Product is good seller is responsive good job 👍🏻\n",
            "     0.263  Positive          Delivery faster than expected dateUndamaged package at allThe colour on the seat seems to fade a bit..but thats OK...Very satisfied!\n",
            "     0.5    Positive          Thankyou , my husband love it ❤️✨\n",
            "     0.28   Positive          Although the price is cheap. When you see this chair in person, it looks like High Quality Gaming Chair. Sit on it its like a dream. Recommended to everyone.\n",
            "     0.7    Positive          good\n",
            "     0.5    Positive          Took almost a month to deliver. Everytjing else is okay.\n",
            "     0.271  Positive          Classic, comfort, worth the money!\n",
            "     0      Neutral           Comfy!\n",
            "     0.5    Positive          Items received safely.. thank you seller.\n",
            "     0.366  Positive          Fast delivery!!!! received early than expected! Quality also best!\n",
            "     0.26   Positive          arrived and done installed. Overall good. Good service by seller. Shipped out earlier than expected.\n",
            "     1      Positive          Excellent product!\n",
            "     0.7    Positive          Good quality chair 😍\n",
            "     0.542  Positive          easy assembly!\n",
            "     1      Positive          great product !\n",
            "     0.45   Positive          Good quality, TQ very much..........👌👌👌👌😍\n",
            "     0.45   Positive          Fast delivery but the tt racing sewing not so good, already naik\n",
            "     0.409  Positive          1) Fast delivery because it is pre order.2) I received 1 wheel that cannot plug in because got 2 hinge but customer service really helpful.3) Product quality is very good and it is super comfortable.\n",
            "     0.267  Positive          Very comfortable chair! Can get kinda hot after sitting for too long if there is no air cond. Took me an hour plus to assemble because they are pretty heavy. Delivery all good, no damage or scratches.\n",
            "     0.077  Positive          Product quality is good but delivery service is poor. No one can answer on the expected delivery date until I filed for return.Please order only if you are fine with the super long waiting period. It would be good if seller can improve on the customer service as it is be very frustrated for buyer.\n",
            "     0.442  Positive          Was going to get cheaper one instead but why not upgrade to get a better chair. It’s super comfy to sit on and the stealth colour is super nice too. Hope it lasts\n",
            "     0.383  Positive          Expected delivery of 26 Feb but arrived 10 Feb, great CNY gift for myself! Chair is comfortable and in good condition except for a very small stitching problem my OCD eye caught as shown in attached photo. However still satisfied with the quality. Recommended!\n",
            "     0.177  Positive          Unexpected, fast delivery although mentioned pre order TBA April. Thanks seller. Comfortable , definitely need air conditioning surrounded environment.Worth that value. Highly recommended\n",
            "     0.426  Positive          Item received in good condition. Fast delivery, placed 2 orders on 19th Feb and delivered 1 unit on 22nd Feb another order still pending. Installation was easy even my 16 years old brother can do it on his own. Very comfortable chair.\n",
            "     0.25   Positive          So happy my GC is delivered before CNY. Earlier than scheduled. When doing inventory check I did not see the many screws shown in the pic. Contacted the seller via chat and received immediate reply that the screws are actually screwed onto the base of the chair itself. Thx seller. U r d best. 👍\n",
            "     0.33   Positive          Delivery takes 4days bcos CNY holiday,, box was in good condition,,, items all complete,, had one trouble one of the skru was super hard to unskru need to hammer it lol,, seller was responsive tq 😉 the rest all good,,, love the color ❤\n",
            "     1      Positive          The best ever...pro set\n",
            "    -0.05   Negative          Beli tme sales 2.2.Tgk app ptt delivery by 5/2.Tp seller x update tracking no. When I asked seller,die ckp i beli pre-order item.bile check ngn shopee diaorg confirm i beli ready stock item.aftr complaint bru seller nk pos brg on 6/2.puas hati dgn kualiti brg.tp xpuas hati ngn seller pnye service.\n",
            "     0.329  Positive          Hv been looking around for a comfortable and stylish chair and after getting this chair, really satisfied. Although there was some delay due to stock availability, they did inform in advance. Overall, good chair to consider. 👍👍\n",
            "     0.089  Positive          I got the chair in less than 2 weeks. The instruction is easy to understand but I have to point out that there was a typo in the instructions. There is no Step 5 seen. Comfy chair. Suggest to buy it during sales for extra savings.\n",
            "     0.075  Positive          Received a bit defect item which a replaceable piece was broken, need to pay RM 6 as shipping fee for the cover. Everything is okay after some extra repairing work need to be done. Patience and responsible seller, never have a monent think they try to avoid problem. Well done.\n",
            "     0.481  Positive          Great product and good value for money. Assembly was easy too and not many steps but needed additional pair of hands to help hold parts in place.Overall very happy with purchase. Highly recommended!\n",
            "     1      Positive          Tq boss. Everything is perfect.\n",
            "     0.3    Positive          so far ok\n",
            "     0.389  Positive          This my first gaming chair.Seller fast response and incredible fast ship out.Thumb up for seller.Assembly took 30 minutes with clear instructions notes.Chair very good quality. Highly recommended.\n",
            "     0.055  Positive          All is good. Except I order grey. But they told me don’t have grey and give me few options. Either wait or change other color.\n",
            "     0.275  Positive          It is so spacious & comfortable. Definitely will add more hours into my gaming with this much comfort. 👍❤️\n",
            "     0.374  Positive          Item collected by ownself because im very excited to have it , i give 10/10 . Seller respond chat very fast , i recommeded this seller .\n",
            "     0.083  Positive          Send to east Malaysia within 3 days by Pgeon Delivery. Quite fast, manual no so detail for person who bought first time. Overall still ok, but one small screw on side does not fit... Hope it won't cause any problem.\n",
            "     0.325  Positive          Alhamdulillah..after a long awaited..actually 6 days 😆..finally received the chair in a good condition..btw..seller so friendly..highly recommended..nice quality..thanks ttracing\n",
            "     0.383  Positive          I'm amazed with this chair. The quality felt premium, easy to assemble and I even get the one that I needed (Which I asked for non-wrinkle and good looking). I think the price is really bang for the buck for this year 2021 in gaming chair category. Very recommended for all my family and friends.  TQ\n",
            "     0.033  Positive          overall ok, received like this but luckily no parts missing\n",
            "     0.2    Positive          Fast delivery Received within one week Can’t wait to try now\n",
            "     0.533  Positive          - Good product quality- Good value for money- fast respond from seller👍\n",
            "     0.2    Positive          Fast delivery by seller. Really recommended this\n",
            "     0.2    Positive          👍👍👍👍👍😍😍😍😍😍very fast delivery.. today order.. tomorrow delivered..\n",
            "     0.433  Positive          In product details seller stated will ship by 1 Feb, and I receive on 1 Feb. Easy to assemble. If you’re strong it’s a one man job, if not so strong, get someone to help you assemble together\n",
            "     0.45   Positive          Thank you seller. fast delivery and received in good condition\n",
            "     0.18   Positive          Ordered on 18/1 and received on 20/1. quite fast during mco. price RM569 plus additional 10% coin cash back. good in quality and worth it than paying for other high end chair. easy to assemble. hopefully can last long before started peeling off.\n",
            "     0.6    Positive          Chair is as described, feels sturdy and the removable neckrest/backrest are a nice touch for added comfort.\n",
            "     0.433  Positive          Fast delivery and received in good condition. Assembly it with my 11 years old son, a mother and a son doing a good job. Just follow the manual. Screws are attached to the chair and have to be unscrewed before assembly. The chair is comfortable, we love it.\n",
            "     0.179  Positive          Paid on 28dec, promised to ship out in 3days (31dec) but unable to ship out by then. The product is good, solid. Recommended to buy. Don't promise customer if cannot deliver. Service good 🤗, Overall good 👍🏻Ps: no preorder batch. But did called me on third day whether i want to wait for black.\n",
            "     0.431  Positive          Item received in good condition. Fast delivery. Fast response from seller for replying message. My first time of purchasing a gaming chair. The chair is awesome. Quality is fantastic. Overall expericence is extremely good. My height is 183cm and the chair fits me well.\n",
            "     0.6    Positive          nice\n",
            "     0.309  Positive          Goodbye old chair and hello new chair, hopefully swift x 2020 will satisfy me.When the chair arrive it’s abit oily at the seats but it’s ok to me, will purchase again for family if really satisfying me.\n",
            "     1      Positive          Superb service\n",
            "     0.9    Positive          The seller was responsive in answering my queries.This purchased was ideally to upgrade my TT Racing Duo chair(suitable to my heights).\n",
            "     0.471  Positive          Super fast service. Good quality product. Very satisfied with the purchase. Tq seller.\n",
            "     0.45   Positive          item received in good condition, fast delivery, tq seller\n",
            "     0.581  Positive          Great product and easy to assemble! I could sit on this chair for hours, it’s so comfortable\n",
            "     0.2    Positive          fast delivery\n",
            "     0.43   Positive          Nice and very fast delivery\n",
            "     0.7    Positive          Good leather and quality\n",
            "     0      Neutral           Bestttt\n",
            "     0.201  Positive          The assembly is easy enough but the effort needed isn’t cos its heavy! I wouldn’t say the finish on the materials is nice. There are bubbles and the edges are rough. But the cushion is very nice. I hope it lasts! I foresee the connection part of the seat and back support may have tears in long run.\n",
            "     0      Neutral           Delivery the next day!\n",
            "     0.7    Positive          Good\n",
            "     0.698  Positive          Just received this morning 😁😁. Very nice packaging & quality.. Also excellent service by seller.. Really recommended!! 👍👍\n",
            "     0.536  Positive          Super fast delivery, with very good boxing and received in good condition 👍🏻👍🏻👍🏻👍🏻👍🏻\n",
            "     0.7    Positive          good one.\n",
            "     0      Neutral           Goooooood.....👍👍👍👍👍👍👍👍👍👍👍👍👍👍👍👍👍👍👍👍👍👍👍👍👍👍👍👍👍👍👍👍👍👍👍👍👍👍👍👍\n",
            "     0      Neutral           keep it up dong gibab ...........keep it up dong gibab ...........keep it up dong gibab ...........keep it up dong gibab ...........\n"
          ],
          "name": "stdout"
        }
      ]
    },
    {
      "cell_type": "code",
      "metadata": {
        "colab": {
          "base_uri": "https://localhost:8080/"
        },
        "id": "180sePtfLtPf",
        "outputId": "3d869ce6-1bfe-4ca0-f402-71e5a7106ff9"
      },
      "source": [
        "print(\"1. BM Model Malaya: \\n\", tabulate(dfMalaya, showindex=False, headers=dfMalaya.columns))"
      ],
      "execution_count": 139,
      "outputs": [
        {
          "output_type": "stream",
          "text": [
            "1. BM Model Malaya: \n",
            "    Negative     Positive      Neutral  Classification    Text\n",
            "-----------  -----------  -----------  ----------------  ------------------------------------------------------------------------------------------------------------------------------------------------------------------------------------------------------------------------------------------------------------------------------------------------------------\n",
            "3.38062e-05  0.444764     0.00191412   Positive          ok sedap duduk atas gaming chair ni sampai tertidoq hehe tqq\n",
            "7.89935e-07  0.999694     7.80832e-05  Positive          Mantap seller .. walau pre order tp pantas .. Moga murah rezeki seller .. amin\n",
            "2.24747e-06  0.999443     0.000221916  Positive          Barang puas hati cuma lmbat sikit ja\n",
            "5.8831e-05   0.978884     0.00582294   Positive          Barang sampai dalam keadaan baik dan terkawal dan dihantar dengan cepat oleh penjual.Cara bersembang pon amat mesra\n",
            "0.99463      1.92806e-06  0.000191545  Negative          Barang baik. Sedap duduk. Order then seller bagitahu kena pre order, dapat dalam lagi 3 minggu. Tapi dalam seminggu lepas tu tiba2 dapat message yang kerusi dah otw. Terbaik.Seller response pon tip top sampai tgh mlm pon layan\n",
            "8.8096e-07   0.999665     8.65496e-05  Positive          tq very much seller. sgt friendly dan sbr lyn setiap pertanyaan. very comfy n original\n",
            "7.73299e-07  0.999154     7.40232e-05  Positive          Mantap.. fast delivery, nice services by seller.. dpt grab msa tgh promo, da pasang & sgt seller.. recommended utk yg cari gaming chair.. xda defect, & packing pun nice\n",
            "4.08195e-06  0.998346     0.000404032  Positive          siap pasang within 50minutes. boleh siap cepat lagi sbnr nya since i tak perasan skru2 dh attached dkt body kerusi. proses unscrewed dan screwed tu ambil masa jugak 😝 all in all. senang je pasang. just follow je the diagram. thankyou seller. brg semua complete. quality pun awesome.\n",
            "1.93932e-06  0.998806     0.000190569  Positive          Penghantaran memang thorbaek, 2 hari dah terima dgn kotak masih baru, thorbaek abang delivery. Material mmg memuaskan, lembut tapi tahan lasak. Senang nak pasang. Dapat pula bantal 2 biji. Mmg boek la ttracing. Seller pun peramah. Nak repeat oder lagu ni. Beribu bintang di langit.\n",
            "0.999315     7.15549e-07  0            Negative          Wow penghantaran sangat pantas. 2 hari sudah sampai. risau juga lambat sampai bila lihat komen di fb courier tu. Kerusi sangat selesa dan berkualiti. Senang pasang. Lepasni x perlu risau sgt sakit belakang Bekerja Dari Rumah BDR. Tq TTRacing.\n",
            "3.27126e-06  0.99921      0.000323321  Positive          Padu....fast delivery n good customer services...trbaik bossku...\n",
            "6.74114e-07  0.999562     6.37087e-05  Positive          Berbaloi beli untuk husband ✌🏻husband love it!!\n",
            "1.86809e-05  0.987283     0.00185028   Positive          OK. Second time dah beli ni.\n",
            "1.19488e-06  0.999704     0.000116914  Positive          Baik bagus barang baik kerusi selesa delivery on time packaging baik\n",
            "0.999029     2.51326e-06  0.000248062  Negative          Barang sampai Dengan selamat... Tetap 5 star walaupun kurang 2 skru Dan seller ganti juga... Paling memuaskan ialah saya minta tukar ke stealh....  Kuality dah rasa sebelum beli... Kat cc 24 jam pun boleh pakai hingga lebih kurang 2 tahun walaupun macam2 size duduk Dan tidur... Recommended sangat\n",
            "0.999784     6.7035e-07   6.7585e-05   Negative          Sape sanggup tunggu mmg bebaloi la. Lame nk dpt tapi kualiti superb.\n",
            "1.05531e-05  0.997716     0.00104418   Positive          Bantal di punggung memang tiada tali ya bosku...btw nice gaming chair...😁\n",
            "8.71079e-06  0.988813     0.000850499  Positive          Hampir sebulan gakk laa tunggu barang pre-order ni,tu mmg xleh wat apa laa sbb mmg dh bg tau tempoh dlm 25 hari utk dpt..tpi apa yg terbaik nye,bru semalam seller kate brng dh hanta keluar,arini dh dpt..mmg terbaik.bab pasang tu ok laa sbb ada instruction yg mudah paham..terbaik bossku\n",
            "0.988854     1.14478e-05  0.00113147   Negative          Kerusi selesa , kemas dan cantik. Pemasangan yang mudah dlm setengah jam dah siap pasang. Cuma kotak penghantaran saja kemek teruk tp nasib baik barang semua okay. Terima kasih\n",
            "0.000602976  0.304391     0.0201769    Positive          Akhirnya sampai... TQ TTracing...Semalam pos hari ni smpai depan pintu rumah👍👍👍👍👍👍\n",
            "2.03333e-06  0.999385     0.000199879  Positive          kerusi sampai dengan keadaan selamat... sedap duduk... selesaaaa\n",
            "2.1068e-05   0.941458     0.00208458   Positive          Sedap duduk tp xde kaler pink🥰\n",
            "1.96785e-06  0.999032     0.00019463   Positive          Mantap\n",
            "1.05884e-06  0.9997       0.000104583  Positive          Sangat puas hati dan selesa! Delivery pun cepat tiptop 👍🏻\n",
            "1.62393e-05  0.993743     0.00160753   Positive          Barang baekk boss\n",
            "1.51457e-06  0.999709     0.000149755  Positive          mantap\n",
            "2.03083e-06  0.999608     0.000201277  Positive          Terbaik\n",
            "9.06315e-07  0.999688     8.86375e-05  Positive          Barang diterima dalam keadaan baik ! Postage on time ! Seller baik selalu update .. tq seller 👍🏾\n",
            "0.0137107    0.142614     0.436703     Neutral           Barang sampai dalam keadaam baik. tiada sebarang kerosakan. kotak bungkusan pon tiada kemek. cara pemasangan mudah dan cepat. sangat berpuas hati kualiti kerusi ini. material sangat selesa dan nampak premium.serta kukuh dan padu. tiada bunyi yang tidak diingini. roda berfungsi & tidak terlalu licin.\n",
            "9.15471e-07  0.999724     9.11781e-05  Positive          Cepat betul brg sampai. Seller pon mmg terbaik. Layan soalan walaupun tgh mlm. Tq tq! 🤩\n",
            "2.33537e-06  0.998472     0.000231614  Positive          terbaik... fast delivery... berkualiti\n",
            "1.54958e-06  0.999674     0.000154076  Positive          Terima kasih untuk gift..\n",
            "9.83915e-07  0.999739     9.73536e-05  Positive          Terbaekkk la seller... terima kasih.\n",
            "3.57795e-06  0.998287     0.000354105  Positive          Terbaik😊.\n",
            "3.07807e-05  0.988122     0.00304874   Positive          Seller ramah.. penghntrn pantesssss 👍🏻👍🏻👍🏻 kerusi mantoppppp 😍\n",
            "1.68934e-06  0.999669     0.000167065  Positive          Tq bos barang sudah sampai terbaik\n",
            "8.20626e-07  0.999669     8.08646e-05  Positive          tq seller..tbaek..order 2.2.2021.. terima 6.2.2021..beli sbg hadiah birthday.. husband ske.. lps nie leh work from home dgn lebih selesa..\n",
            "1.21478e-05  0.994829     0.00120252   Positive          Mulanya confuse mana semua skru dia, rupanya da siap2 pasang dekat setiap parts, kerusi yg sangat menarik, Alhamdulillah\n",
            "4.31216e-06  0.99787      0.000423928  Positive          Barang sampai quality superb dan seller peramah bila tanya soalan.\n",
            "3.45353e-06  0.99928      0.000342222  Positive          Sangat puas hati..respond p  cepat..kualiti berbaloi 👍👍👍\n",
            "2.75367e-06  0.999308     0.000272658  Positive          Harga paling murah dalam market.. penghantaran cepat.. 2 lebih hari smpai yong peng.. keep it up seller! 👍👍👍👍👍\n",
            "8.92091e-07  0.999585     8.94798e-05  Positive          mmg terbaik, seller pown ramah je, kerusi ngam soi\n",
            "8.1694e-07   0.999707     8.02941e-05  Positive          Memang mantap !\n",
            "5.63495e-05  0.916987     0.00557882   Positive          Puas hati beli kerusi nie..penghantaran pun cepat..\n",
            "0.396201     0.000100281  0.004528     Negative          Barang dah sampai. Alhamdulillah selesa giler\n",
            "2.35916e-06  0.999461     0.000233739  Positive          Suka yg amat.\n",
            "9.90752e-07  0.999725     9.79128e-05  Positive          Padu barang smp laju.. seller mesra.. tq bossku...\n",
            "5.98693e-07  0.999787     5.9461e-05   Positive          Best PC Gaming !! my mom pun suka😘😘\n",
            "1.07269e-05  0.998179     0.00106173   Positive          Ngam. . Mmg selesa, kualiti baikk yg paling OP penghantaran pantas. . Semalam oder harini sampai. .\n",
            "1.87477e-05  0.990766     0.00185559   Positive          Terbaikkkkkk!!!\n",
            "2.763e-05    0.983165     0.00273486   Positive          Barang dalam keadaan baik.\n",
            "2.40653e-06  0.998844     0.000234522  Positive          Alhamdulillah!\n",
            "0.214651     0.000160345  0.00348472   Negative          Mmg terbaik la seller ni. Cepat betul dia hantar, kejap je dah sampai. Yang hebatnya, penghantaran terus ke rumah, bukannya singgah mana2 cawangan atau tempat simpanan dulu. Kualiti? Mmg terbaik. Kusyen mengalahkan kusyen kereta mewah. Xde pun nampak kedut2. Mmg padu la buatannya\n",
            "2.30701e-06  0.998426     0.000224427  Positive          Kualiti brg sngt bagus. Respond dri seller sngt bagus. Courier service pon bagus ( kawasan trtentu sahaja). Order 2.1.21 pos 4.1.21 trima brg 5.1.21. 🔥🔥🔥\n",
            "6.83651e-06  0.997507     0.000676444  Positive          kerusi ok..delivery laju..cuma ad skru yg loose untuk masuk allen key trpaksa pkai spanar..ad sket molding cover defect tp ok la just untuk cover dh setting baik pny..yg lain2 ok terbaik\n",
            "0.0188441    0.0616125    0.176796     Neutral           seller peramah .. pgnhtran cepat . brang belum bkak lg .. insha Allah ok kot\n"
          ],
          "name": "stdout"
        }
      ]
    }
  ]
}